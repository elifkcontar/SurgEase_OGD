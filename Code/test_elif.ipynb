{
 "cells": [
  {
   "cell_type": "code",
   "execution_count": 239,
   "metadata": {},
   "outputs": [],
   "source": [
    "import os\n",
    "import torch\n",
    "import torchvision.transforms as transforms\n",
    "from sklearn.metrics import confusion_matrix, classification_report, accuracy_score, cohen_kappa_score\n",
    "from datasets.UCEIS_dataset import UCEIS_cord, UCEIS_csv\n",
    "from models import resnet\n",
    "from utils.provider import get_all_level_bucketing_accuracy, get_stratified_UCEIS_accuracies, plot_confusion_matrix_2, convert_multiclass_to_binary_class\n",
    "import numpy as np\n",
    "import matplotlib.pyplot as plt\n",
    "from utils.detect_blob import DetectBlob"
   ]
  },
  {
   "cell_type": "code",
   "execution_count": 240,
   "metadata": {},
   "outputs": [
    {
     "name": "stdout",
     "output_type": "stream",
     "text": [
      "119 26 26\n"
     ]
    }
   ],
   "source": [
    "file = open(\"..//Code//splitted_folder_names//train_folders.txt\", \"r\")\n",
    "train_folders = file.read().splitlines()\n",
    "file.close()\n",
    "\n",
    "file = open(\"..//Code//splitted_folder_names//val_folders.txt\", \"r\")\n",
    "val_folders = file.read().splitlines()\n",
    "file.close()\n",
    "#val_folders = ['video44', 'video62', 'video15', 'video12', 'video54', 'video102', 'video161', 'video171', 'video138', 'video158', 'video31', 'video4', 'video30', 'video129', 'video110', 'video174', 'video52', 'video84', 'Video_14.mp4', 'video108', 'video160', 'video100', 'video72', 'video143', 'video53', 'Video_1.mp4']\n",
    "\n",
    "file = open(\"..//Code//splitted_folder_names//test_folders.txt\", \"r\")\n",
    "test_folders = file.read().splitlines()\n",
    "file.close()\n",
    "\n",
    "from random import shuffle\n",
    "from math import ceil\n",
    "def split():\n",
    "    frame_root = r'C:\\Users\\ElifKübraÇontar\\Desktop\\gi\\IBD\\data_all_frames_540x960'\n",
    "    all_folders = [f for f in os.listdir(frame_root) if not f.startswith('.')]\n",
    "    shuffle(all_folders)\n",
    "    train_set_ratio = 0.7\n",
    "    val_set_ratio = 0.15\n",
    "    test_set_ratio = 0.15\n",
    "    val_set_folder_size = ceil(val_set_ratio * len(all_folders))\n",
    "    test_set_folder_size = ceil(test_set_ratio * len(all_folders))\n",
    "\n",
    "    val_folders = all_folders[0:val_set_folder_size]\n",
    "    test_folders = all_folders[val_set_folder_size:(val_set_folder_size + test_set_folder_size)]\n",
    "    train_folders = all_folders[(val_set_folder_size + test_set_folder_size):]\n",
    "\n",
    "    return train_folders, val_folders, test_folders\n",
    "\n",
    "train_folders, val_folders, test_folders = split()\n",
    "print(len(train_folders), len(val_folders), len(test_folders))\n"
   ]
  },
  {
   "cell_type": "code",
   "execution_count": 241,
   "metadata": {},
   "outputs": [
    {
     "name": "stdout",
     "output_type": "stream",
     "text": [
      "device:  cuda:0\n"
     ]
    }
   ],
   "source": [
    "model_name = \"ResNet34\"\n",
    "num_worker=4\n",
    "\n",
    "frame_root = \"..//IBD//data_all_frames_540x960\"\n",
    "cord_project_ID = '5c349378-3e58-4028-af97-96ad9d137dd3'\n",
    "cord_API_key = 'fL_ktLRxfD90iQayw2dLVg-GVkPxQZVq9p6C6cvpvlg'\n",
    "\n",
    "device = torch.device(\"cuda:0\" if torch.cuda.is_available() else \"cpu\")\n",
    "print(\"device: \", device)"
   ]
  },
  {
   "cell_type": "code",
   "execution_count": 242,
   "metadata": {},
   "outputs": [
    {
     "name": "stdout",
     "output_type": "stream",
     "text": [
      "Images in validation set: 539\n",
      "119\n",
      "68\n",
      "539\n"
     ]
    }
   ],
   "source": [
    "train_set_mean = [0.3683037974792629, 0.2545500826256079, 0.21100532802110092]\n",
    "train_set_std = [0.32256124182067264, 0.23441272870730917, 0.21096266280494616]\n",
    "normalize = transforms.Normalize(mean=train_set_mean,\n",
    "                                 std=train_set_std)\n",
    "\n",
    "test_transform = transforms.Compose([# DetectBlob(),\n",
    "                                     transforms.ToTensor(),\n",
    "                                     normalize])\n",
    "\n",
    "#val_dataset = UCEIS_csv(val_folders, csv_filename=r'..\\label_x50.csv', transform=test_transform)\n",
    "val_dataset = UCEIS_csv(val_folders, csv_filename=r'..\\label_x50.csv', transform=test_transform)\n",
    "val_loader = torch.utils.data.DataLoader(val_dataset, batch_size=8, shuffle=False, num_workers=num_worker,\n",
    "                                          pin_memory=True)\n",
    "\n",
    "print(\"Images in validation set: \"+str(len(val_dataset)))\n",
    "\n",
    "#467\n",
    "#3736\n",
    "#151\n",
    "#1207\n",
    "print(len(train_folders))\n",
    "print(len(val_loader))\n",
    "print(len(val_loader.dataset))"
   ]
  },
  {
   "cell_type": "code",
   "execution_count": 243,
   "metadata": {},
   "outputs": [],
   "source": [
    "#Distrubition of validation set for subscores and UCEIS scores\n"
   ]
  },
  {
   "cell_type": "code",
   "execution_count": 244,
   "metadata": {},
   "outputs": [
    {
     "data": {
      "text/plain": [
       "ResNet(\n",
       "  (conv1): Conv2d(3, 64, kernel_size=(7, 7), stride=(2, 2), padding=(3, 3), bias=False)\n",
       "  (bn1): BatchNorm2d(64, eps=1e-05, momentum=0.1, affine=True, track_running_stats=True)\n",
       "  (relu): ReLU(inplace=True)\n",
       "  (maxpool): MaxPool2d(kernel_size=3, stride=2, padding=1, dilation=1, ceil_mode=False)\n",
       "  (layer1): Sequential(\n",
       "    (0): BasicBlock(\n",
       "      (conv1): Conv2d(64, 64, kernel_size=(3, 3), stride=(1, 1), padding=(1, 1), bias=False)\n",
       "      (bn1): BatchNorm2d(64, eps=1e-05, momentum=0.1, affine=True, track_running_stats=True)\n",
       "      (relu): ReLU(inplace=True)\n",
       "      (conv2): Conv2d(64, 64, kernel_size=(3, 3), stride=(1, 1), padding=(1, 1), bias=False)\n",
       "      (bn2): BatchNorm2d(64, eps=1e-05, momentum=0.1, affine=True, track_running_stats=True)\n",
       "    )\n",
       "    (1): BasicBlock(\n",
       "      (conv1): Conv2d(64, 64, kernel_size=(3, 3), stride=(1, 1), padding=(1, 1), bias=False)\n",
       "      (bn1): BatchNorm2d(64, eps=1e-05, momentum=0.1, affine=True, track_running_stats=True)\n",
       "      (relu): ReLU(inplace=True)\n",
       "      (conv2): Conv2d(64, 64, kernel_size=(3, 3), stride=(1, 1), padding=(1, 1), bias=False)\n",
       "      (bn2): BatchNorm2d(64, eps=1e-05, momentum=0.1, affine=True, track_running_stats=True)\n",
       "    )\n",
       "    (2): BasicBlock(\n",
       "      (conv1): Conv2d(64, 64, kernel_size=(3, 3), stride=(1, 1), padding=(1, 1), bias=False)\n",
       "      (bn1): BatchNorm2d(64, eps=1e-05, momentum=0.1, affine=True, track_running_stats=True)\n",
       "      (relu): ReLU(inplace=True)\n",
       "      (conv2): Conv2d(64, 64, kernel_size=(3, 3), stride=(1, 1), padding=(1, 1), bias=False)\n",
       "      (bn2): BatchNorm2d(64, eps=1e-05, momentum=0.1, affine=True, track_running_stats=True)\n",
       "    )\n",
       "  )\n",
       "  (layer2): Sequential(\n",
       "    (0): BasicBlock(\n",
       "      (conv1): Conv2d(64, 128, kernel_size=(3, 3), stride=(2, 2), padding=(1, 1), bias=False)\n",
       "      (bn1): BatchNorm2d(128, eps=1e-05, momentum=0.1, affine=True, track_running_stats=True)\n",
       "      (relu): ReLU(inplace=True)\n",
       "      (conv2): Conv2d(128, 128, kernel_size=(3, 3), stride=(1, 1), padding=(1, 1), bias=False)\n",
       "      (bn2): BatchNorm2d(128, eps=1e-05, momentum=0.1, affine=True, track_running_stats=True)\n",
       "      (downsample): Sequential(\n",
       "        (0): Conv2d(64, 128, kernel_size=(1, 1), stride=(2, 2), bias=False)\n",
       "        (1): BatchNorm2d(128, eps=1e-05, momentum=0.1, affine=True, track_running_stats=True)\n",
       "      )\n",
       "    )\n",
       "    (1): BasicBlock(\n",
       "      (conv1): Conv2d(128, 128, kernel_size=(3, 3), stride=(1, 1), padding=(1, 1), bias=False)\n",
       "      (bn1): BatchNorm2d(128, eps=1e-05, momentum=0.1, affine=True, track_running_stats=True)\n",
       "      (relu): ReLU(inplace=True)\n",
       "      (conv2): Conv2d(128, 128, kernel_size=(3, 3), stride=(1, 1), padding=(1, 1), bias=False)\n",
       "      (bn2): BatchNorm2d(128, eps=1e-05, momentum=0.1, affine=True, track_running_stats=True)\n",
       "    )\n",
       "    (2): BasicBlock(\n",
       "      (conv1): Conv2d(128, 128, kernel_size=(3, 3), stride=(1, 1), padding=(1, 1), bias=False)\n",
       "      (bn1): BatchNorm2d(128, eps=1e-05, momentum=0.1, affine=True, track_running_stats=True)\n",
       "      (relu): ReLU(inplace=True)\n",
       "      (conv2): Conv2d(128, 128, kernel_size=(3, 3), stride=(1, 1), padding=(1, 1), bias=False)\n",
       "      (bn2): BatchNorm2d(128, eps=1e-05, momentum=0.1, affine=True, track_running_stats=True)\n",
       "    )\n",
       "    (3): BasicBlock(\n",
       "      (conv1): Conv2d(128, 128, kernel_size=(3, 3), stride=(1, 1), padding=(1, 1), bias=False)\n",
       "      (bn1): BatchNorm2d(128, eps=1e-05, momentum=0.1, affine=True, track_running_stats=True)\n",
       "      (relu): ReLU(inplace=True)\n",
       "      (conv2): Conv2d(128, 128, kernel_size=(3, 3), stride=(1, 1), padding=(1, 1), bias=False)\n",
       "      (bn2): BatchNorm2d(128, eps=1e-05, momentum=0.1, affine=True, track_running_stats=True)\n",
       "    )\n",
       "  )\n",
       "  (layer3): Sequential(\n",
       "    (0): BasicBlock(\n",
       "      (conv1): Conv2d(128, 256, kernel_size=(3, 3), stride=(2, 2), padding=(1, 1), bias=False)\n",
       "      (bn1): BatchNorm2d(256, eps=1e-05, momentum=0.1, affine=True, track_running_stats=True)\n",
       "      (relu): ReLU(inplace=True)\n",
       "      (conv2): Conv2d(256, 256, kernel_size=(3, 3), stride=(1, 1), padding=(1, 1), bias=False)\n",
       "      (bn2): BatchNorm2d(256, eps=1e-05, momentum=0.1, affine=True, track_running_stats=True)\n",
       "      (downsample): Sequential(\n",
       "        (0): Conv2d(128, 256, kernel_size=(1, 1), stride=(2, 2), bias=False)\n",
       "        (1): BatchNorm2d(256, eps=1e-05, momentum=0.1, affine=True, track_running_stats=True)\n",
       "      )\n",
       "    )\n",
       "    (1): BasicBlock(\n",
       "      (conv1): Conv2d(256, 256, kernel_size=(3, 3), stride=(1, 1), padding=(1, 1), bias=False)\n",
       "      (bn1): BatchNorm2d(256, eps=1e-05, momentum=0.1, affine=True, track_running_stats=True)\n",
       "      (relu): ReLU(inplace=True)\n",
       "      (conv2): Conv2d(256, 256, kernel_size=(3, 3), stride=(1, 1), padding=(1, 1), bias=False)\n",
       "      (bn2): BatchNorm2d(256, eps=1e-05, momentum=0.1, affine=True, track_running_stats=True)\n",
       "    )\n",
       "    (2): BasicBlock(\n",
       "      (conv1): Conv2d(256, 256, kernel_size=(3, 3), stride=(1, 1), padding=(1, 1), bias=False)\n",
       "      (bn1): BatchNorm2d(256, eps=1e-05, momentum=0.1, affine=True, track_running_stats=True)\n",
       "      (relu): ReLU(inplace=True)\n",
       "      (conv2): Conv2d(256, 256, kernel_size=(3, 3), stride=(1, 1), padding=(1, 1), bias=False)\n",
       "      (bn2): BatchNorm2d(256, eps=1e-05, momentum=0.1, affine=True, track_running_stats=True)\n",
       "    )\n",
       "    (3): BasicBlock(\n",
       "      (conv1): Conv2d(256, 256, kernel_size=(3, 3), stride=(1, 1), padding=(1, 1), bias=False)\n",
       "      (bn1): BatchNorm2d(256, eps=1e-05, momentum=0.1, affine=True, track_running_stats=True)\n",
       "      (relu): ReLU(inplace=True)\n",
       "      (conv2): Conv2d(256, 256, kernel_size=(3, 3), stride=(1, 1), padding=(1, 1), bias=False)\n",
       "      (bn2): BatchNorm2d(256, eps=1e-05, momentum=0.1, affine=True, track_running_stats=True)\n",
       "    )\n",
       "    (4): BasicBlock(\n",
       "      (conv1): Conv2d(256, 256, kernel_size=(3, 3), stride=(1, 1), padding=(1, 1), bias=False)\n",
       "      (bn1): BatchNorm2d(256, eps=1e-05, momentum=0.1, affine=True, track_running_stats=True)\n",
       "      (relu): ReLU(inplace=True)\n",
       "      (conv2): Conv2d(256, 256, kernel_size=(3, 3), stride=(1, 1), padding=(1, 1), bias=False)\n",
       "      (bn2): BatchNorm2d(256, eps=1e-05, momentum=0.1, affine=True, track_running_stats=True)\n",
       "    )\n",
       "    (5): BasicBlock(\n",
       "      (conv1): Conv2d(256, 256, kernel_size=(3, 3), stride=(1, 1), padding=(1, 1), bias=False)\n",
       "      (bn1): BatchNorm2d(256, eps=1e-05, momentum=0.1, affine=True, track_running_stats=True)\n",
       "      (relu): ReLU(inplace=True)\n",
       "      (conv2): Conv2d(256, 256, kernel_size=(3, 3), stride=(1, 1), padding=(1, 1), bias=False)\n",
       "      (bn2): BatchNorm2d(256, eps=1e-05, momentum=0.1, affine=True, track_running_stats=True)\n",
       "    )\n",
       "  )\n",
       "  (layer4): Sequential(\n",
       "    (0): BasicBlock(\n",
       "      (conv1): Conv2d(256, 512, kernel_size=(3, 3), stride=(2, 2), padding=(1, 1), bias=False)\n",
       "      (bn1): BatchNorm2d(512, eps=1e-05, momentum=0.1, affine=True, track_running_stats=True)\n",
       "      (relu): ReLU(inplace=True)\n",
       "      (conv2): Conv2d(512, 512, kernel_size=(3, 3), stride=(1, 1), padding=(1, 1), bias=False)\n",
       "      (bn2): BatchNorm2d(512, eps=1e-05, momentum=0.1, affine=True, track_running_stats=True)\n",
       "      (downsample): Sequential(\n",
       "        (0): Conv2d(256, 512, kernel_size=(1, 1), stride=(2, 2), bias=False)\n",
       "        (1): BatchNorm2d(512, eps=1e-05, momentum=0.1, affine=True, track_running_stats=True)\n",
       "      )\n",
       "    )\n",
       "    (1): BasicBlock(\n",
       "      (conv1): Conv2d(512, 512, kernel_size=(3, 3), stride=(1, 1), padding=(1, 1), bias=False)\n",
       "      (bn1): BatchNorm2d(512, eps=1e-05, momentum=0.1, affine=True, track_running_stats=True)\n",
       "      (relu): ReLU(inplace=True)\n",
       "      (conv2): Conv2d(512, 512, kernel_size=(3, 3), stride=(1, 1), padding=(1, 1), bias=False)\n",
       "      (bn2): BatchNorm2d(512, eps=1e-05, momentum=0.1, affine=True, track_running_stats=True)\n",
       "    )\n",
       "    (2): BasicBlock(\n",
       "      (conv1): Conv2d(512, 512, kernel_size=(3, 3), stride=(1, 1), padding=(1, 1), bias=False)\n",
       "      (bn1): BatchNorm2d(512, eps=1e-05, momentum=0.1, affine=True, track_running_stats=True)\n",
       "      (relu): ReLU(inplace=True)\n",
       "      (conv2): Conv2d(512, 512, kernel_size=(3, 3), stride=(1, 1), padding=(1, 1), bias=False)\n",
       "      (bn2): BatchNorm2d(512, eps=1e-05, momentum=0.1, affine=True, track_running_stats=True)\n",
       "    )\n",
       "  )\n",
       "  (avgpool): AdaptiveAvgPool2d(output_size=(1, 1))\n",
       "  (dropout): Dropout(p=0.3, inplace=False)\n",
       "  (fc1): Linear(in_features=512, out_features=3, bias=True)\n",
       "  (fc2): Linear(in_features=512, out_features=4, bias=True)\n",
       "  (fc3): Linear(in_features=512, out_features=4, bias=True)\n",
       ")"
      ]
     },
     "execution_count": 244,
     "metadata": {},
     "output_type": "execute_result"
    }
   ],
   "source": [
    "#state_dict_name = \"weights/6_best_\"+model_name+\".pth.tar\"\n",
    "#state_dict_name = \"weights/3_best_\"+model_name+\".pth.tar\"\n",
    "#state_dict_name = \"weights/3_best_\"+model_name+\".pth.tar\"\n",
    "#state_dict_name = \"weights/4_best_\"+model_name+\"_1.pth.tar\"\n",
    "#state_dict_name = \"weights/4_best_\"+model_name+\"_2.pth.tar\"\n",
    "#state_dict_name = \"weights/8_best_\"+model_name+\".pth.tar\"\n",
    "\n",
    "#### Model I used for Surgease paper results\n",
    "#state_dict_name = \"weights/7_best_\"+model_name+\".pth.tar\"\n",
    "#state_dict_name = \"weights/10_best_\"+model_name+\".pth.tar\"\n",
    "state_dict_name = \"weights/wce_best_0\"+model_name+\".pth.tar\"\n",
    "\n",
    "if model_name == \"ResNet18\":\n",
    "    model = resnet.resnet18(num_classes=[3, 4, 4])\n",
    "elif model_name == \"ResNet34\":\n",
    "    model = resnet.resnet34(num_classes=[3, 4, 4])\n",
    "elif model_name == \"ResNet50\":\n",
    "    model = resnet.resnet50(num_classes=[3, 4, 4])\n",
    "elif model_name == \"DenseNet201\":\n",
    "    model = densenet.densenet201(num_classes=[3, 4, 4])\n",
    "elif model_name == \"DenseNet121\":\n",
    "    model = densenet.densenet121(num_classes=[3, 4, 4])\n",
    "\n",
    "model.load_state_dict(torch.load(state_dict_name, map_location=device))\n",
    "model.to(device)\n",
    "model.eval()"
   ]
  },
  {
   "cell_type": "code",
   "execution_count": 245,
   "metadata": {},
   "outputs": [
    {
     "ename": "ValueError",
     "evalue": "only one element tensors can be converted to Python scalars",
     "output_type": "error",
     "traceback": [
      "\u001b[1;31m---------------------------------------------------------------------------\u001b[0m",
      "\u001b[1;31mValueError\u001b[0m                                Traceback (most recent call last)",
      "\u001b[1;32mc:\\Users\\ElifKübraÇontar\\Desktop\\SurgEase_IBD\\Code\\test_elif.ipynb Cell 7'\u001b[0m in \u001b[0;36m<cell line: 11>\u001b[1;34m()\u001b[0m\n\u001b[0;32m     <a href='vscode-notebook-cell:/c%3A/Users/ElifK%C3%BCbra%C3%87ontar/Desktop/SurgEase_IBD/Code/test_elif.ipynb#ch0000006?line=12'>13</a>\u001b[0m data, target \u001b[39m=\u001b[39m data\u001b[39m.\u001b[39mto(device), target\u001b[39m.\u001b[39mto(device)\n\u001b[0;32m     <a href='vscode-notebook-cell:/c%3A/Users/ElifK%C3%BCbra%C3%87ontar/Desktop/SurgEase_IBD/Code/test_elif.ipynb#ch0000006?line=13'>14</a>\u001b[0m target\u001b[39m.\u001b[39mtranspose_(\u001b[39m0\u001b[39m, \u001b[39m1\u001b[39m)\n\u001b[1;32m---> <a href='vscode-notebook-cell:/c%3A/Users/ElifK%C3%BCbra%C3%87ontar/Desktop/SurgEase_IBD/Code/test_elif.ipynb#ch0000006?line=15'>16</a>\u001b[0m y_true_vascular\u001b[39m.\u001b[39mappend(target[\u001b[39m0\u001b[39;49m]\u001b[39m.\u001b[39;49mitem())\n\u001b[0;32m     <a href='vscode-notebook-cell:/c%3A/Users/ElifK%C3%BCbra%C3%87ontar/Desktop/SurgEase_IBD/Code/test_elif.ipynb#ch0000006?line=16'>17</a>\u001b[0m y_true_bleeding\u001b[39m.\u001b[39mappend(target[\u001b[39m1\u001b[39m]\u001b[39m.\u001b[39mitem())\n\u001b[0;32m     <a href='vscode-notebook-cell:/c%3A/Users/ElifK%C3%BCbra%C3%87ontar/Desktop/SurgEase_IBD/Code/test_elif.ipynb#ch0000006?line=17'>18</a>\u001b[0m y_true_erosion\u001b[39m.\u001b[39mappend(target[\u001b[39m2\u001b[39m]\u001b[39m.\u001b[39mitem())\n",
      "\u001b[1;31mValueError\u001b[0m: only one element tensors can be converted to Python scalars"
     ]
    }
   ],
   "source": [
    "y_true_UCEIS = []\n",
    "y_true_vascular = []\n",
    "y_true_bleeding = []\n",
    "y_true_erosion = []\n",
    "\n",
    "y_pred_UCEIS = []\n",
    "y_pred_vascular = []\n",
    "y_pred_bleeding = []\n",
    "y_pred_erosion = []\n",
    "\n",
    "with torch.no_grad():\n",
    "    for id, (data, target) in enumerate(val_loader):\n",
    "        data, target = data.to(device), target.to(device)\n",
    "        target.transpose_(0, 1)\n",
    "\n",
    "        y_true_vascular.append(target[0].item())\n",
    "        y_true_bleeding.append(target[1].item())\n",
    "        y_true_erosion.append(target[2].item())\n",
    "        y_true_UCEIS.append(target.sum().item())\n",
    "\n",
    "        output = model(data)\n",
    "\n",
    "        prediction_0 = output[0].argmax(dim=1, keepdim=True)[0][0].item()\n",
    "        y_pred_vascular.append(prediction_0)\n",
    "\n",
    "        prediction_1 = output[1].argmax(dim=1, keepdim=True)[0][0].item()\n",
    "        y_pred_bleeding.append(prediction_1)\n",
    "\n",
    "        prediction_2 = output[2].argmax(dim=1, keepdim=True)[0][0].item()\n",
    "        y_pred_erosion.append(prediction_2)\n",
    "\n",
    "        y_pred_UCEIS.append(prediction_0 + prediction_1 + prediction_2)\n"
   ]
  },
  {
   "cell_type": "code",
   "execution_count": null,
   "metadata": {},
   "outputs": [
    {
     "name": "stderr",
     "output_type": "stream",
     "text": [
      "c:\\ProgramData\\anaconda3\\envs\\encord\\lib\\site-packages\\numpy\\lib\\function_base.py:380: RuntimeWarning: Mean of empty slice.\n",
      "  avg = a.mean(axis)\n",
      "c:\\ProgramData\\anaconda3\\envs\\encord\\lib\\site-packages\\numpy\\core\\_methods.py:189: RuntimeWarning: invalid value encountered in double_scalars\n",
      "  ret = ret.dtype.type(ret / rcount)\n",
      "c:\\ProgramData\\anaconda3\\envs\\encord\\lib\\site-packages\\numpy\\lib\\function_base.py:380: RuntimeWarning: Mean of empty slice.\n",
      "  avg = a.mean(axis)\n",
      "c:\\ProgramData\\anaconda3\\envs\\encord\\lib\\site-packages\\numpy\\core\\_methods.py:189: RuntimeWarning: invalid value encountered in double_scalars\n",
      "  ret = ret.dtype.type(ret / rcount)\n",
      "c:\\ProgramData\\anaconda3\\envs\\encord\\lib\\site-packages\\numpy\\lib\\function_base.py:380: RuntimeWarning: Mean of empty slice.\n",
      "  avg = a.mean(axis)\n",
      "c:\\ProgramData\\anaconda3\\envs\\encord\\lib\\site-packages\\numpy\\core\\_methods.py:189: RuntimeWarning: invalid value encountered in double_scalars\n",
      "  ret = ret.dtype.type(ret / rcount)\n",
      "c:\\ProgramData\\anaconda3\\envs\\encord\\lib\\site-packages\\numpy\\lib\\function_base.py:380: RuntimeWarning: Mean of empty slice.\n",
      "  avg = a.mean(axis)\n",
      "c:\\ProgramData\\anaconda3\\envs\\encord\\lib\\site-packages\\numpy\\core\\_methods.py:189: RuntimeWarning: invalid value encountered in double_scalars\n",
      "  ret = ret.dtype.type(ret / rcount)\n"
     ]
    },
    {
     "name": "stdout",
     "output_type": "stream",
     "text": [
      "Vascular Accuracy:  nan\n",
      "Confusion matrix, without normalization\n",
      "[[0 0 0]\n",
      " [0 0 0]\n",
      " [0 0 0]]\n"
     ]
    },
    {
     "data": {
      "image/png": "[encoded data removed]",
      "text/plain": [
       "<Figure size 432x288 with 2 Axes>"
      ]
     },
     "metadata": {
      "needs_background": "light"
     },
     "output_type": "display_data"
    },
    {
     "name": "stdout",
     "output_type": "stream",
     "text": [
      "---------------------------------------\n",
      "\n",
      "Bleeding Accuracy:  nan\n",
      "Confusion matrix, without normalization\n",
      "[[0 0 0 0]\n",
      " [0 0 0 0]\n",
      " [0 0 0 0]\n",
      " [0 0 0 0]]\n"
     ]
    },
    {
     "data": {
      "image/png": "[encoded data removed]",
      "text/plain": [
       "<Figure size 432x288 with 2 Axes>"
      ]
     },
     "metadata": {
      "needs_background": "light"
     },
     "output_type": "display_data"
    },
    {
     "name": "stdout",
     "output_type": "stream",
     "text": [
      "---------------------------------------\n",
      "\n",
      "Erosion Accuracy:  nan\n",
      "Confusion matrix, without normalization\n",
      "[[0 0 0 0]\n",
      " [0 0 0 0]\n",
      " [0 0 0 0]\n",
      " [0 0 0 0]]\n"
     ]
    },
    {
     "data": {
      "image/png": "[encoded data removed]",
      "text/plain": [
       "<Figure size 432x288 with 2 Axes>"
      ]
     },
     "metadata": {
      "needs_background": "light"
     },
     "output_type": "display_data"
    },
    {
     "name": "stdout",
     "output_type": "stream",
     "text": [
      "---------------------------------------\n",
      "\n",
      "UCEIS Accuracy:  nan\n",
      "Confusion matrix, without normalization\n",
      "[[0 0 0 0 0 0 0 0 0]\n",
      " [0 0 0 0 0 0 0 0 0]\n",
      " [0 0 0 0 0 0 0 0 0]\n",
      " [0 0 0 0 0 0 0 0 0]\n",
      " [0 0 0 0 0 0 0 0 0]\n",
      " [0 0 0 0 0 0 0 0 0]\n",
      " [0 0 0 0 0 0 0 0 0]\n",
      " [0 0 0 0 0 0 0 0 0]\n",
      " [0 0 0 0 0 0 0 0 0]]\n"
     ]
    },
    {
     "name": "stderr",
     "output_type": "stream",
     "text": [
      "Exception ignored in: <function _MultiProcessingDataLoaderIter.__del__ at 0x00000274D2990280>\n",
      "Traceback (most recent call last):\n",
      "  File \"c:\\ProgramData\\anaconda3\\envs\\encord\\lib\\site-packages\\torch\\utils\\data\\dataloader.py\", line 1358, in __del__\n",
      "    self._shutdown_workers()\n",
      "  File \"c:\\ProgramData\\anaconda3\\envs\\encord\\lib\\site-packages\\torch\\utils\\data\\dataloader.py\", line 1316, in _shutdown_workers\n",
      "    if self._persistent_workers or self._workers_status[worker_id]:\n",
      "AttributeError: '_MultiProcessingDataLoaderIter' object has no attribute '_workers_status'\n"
     ]
    },
    {
     "ename": "KeyboardInterrupt",
     "evalue": "",
     "output_type": "error",
     "traceback": [
      "\u001b[1;31m---------------------------------------------------------------------------\u001b[0m",
      "\u001b[1;31mKeyboardInterrupt\u001b[0m                         Traceback (most recent call last)",
      "\u001b[1;32mc:\\Users\\ElifKübraÇontar\\Desktop\\SurgEase_IBD\\Code\\test_elif.ipynb Cell 8'\u001b[0m in \u001b[0;36m<cell line: 31>\u001b[1;34m()\u001b[0m\n\u001b[0;32m     <a href='vscode-notebook-cell:/c%3A/Users/ElifK%C3%BCbra%C3%87ontar/Desktop/SurgEase_IBD/Code/test_elif.ipynb#ch0000007?line=28'>29</a>\u001b[0m \u001b[39mprint\u001b[39m(\u001b[39m\"\u001b[39m\u001b[39mUCEIS Accuracy: \u001b[39m\u001b[39m\"\u001b[39m, accuracy_UCEIS)\n\u001b[0;32m     <a href='vscode-notebook-cell:/c%3A/Users/ElifK%C3%BCbra%C3%87ontar/Desktop/SurgEase_IBD/Code/test_elif.ipynb#ch0000007?line=29'>30</a>\u001b[0m plot_confusion_matrix_2(cm_UCEIS, classes\u001b[39m=\u001b[39m[\u001b[39m\"\u001b[39m\u001b[39m0\u001b[39m\u001b[39m\"\u001b[39m, \u001b[39m\"\u001b[39m\u001b[39m1\u001b[39m\u001b[39m\"\u001b[39m, \u001b[39m\"\u001b[39m\u001b[39m2\u001b[39m\u001b[39m\"\u001b[39m, \u001b[39m\"\u001b[39m\u001b[39m3\u001b[39m\u001b[39m\"\u001b[39m, \u001b[39m\"\u001b[39m\u001b[39m4\u001b[39m\u001b[39m\"\u001b[39m, \u001b[39m\"\u001b[39m\u001b[39m5\u001b[39m\u001b[39m\"\u001b[39m, \u001b[39m\"\u001b[39m\u001b[39m6\u001b[39m\u001b[39m\"\u001b[39m, \u001b[39m\"\u001b[39m\u001b[39m7\u001b[39m\u001b[39m\"\u001b[39m, \u001b[39m\"\u001b[39m\u001b[39m8\u001b[39m\u001b[39m\"\u001b[39m], title\u001b[39m=\u001b[39m\u001b[39m\"\u001b[39m\u001b[39mUCEIS\u001b[39m\u001b[39m\"\u001b[39m)\n\u001b[1;32m---> <a href='vscode-notebook-cell:/c%3A/Users/ElifK%C3%BCbra%C3%87ontar/Desktop/SurgEase_IBD/Code/test_elif.ipynb#ch0000007?line=30'>31</a>\u001b[0m plt\u001b[39m.\u001b[39;49mshow()\n",
      "File \u001b[1;32mc:\\ProgramData\\anaconda3\\envs\\encord\\lib\\site-packages\\matplotlib\\pyplot.py:368\u001b[0m, in \u001b[0;36mshow\u001b[1;34m(*args, **kwargs)\u001b[0m\n\u001b[0;32m    <a href='file:///c%3A/ProgramData/anaconda3/envs/encord/lib/site-packages/matplotlib/pyplot.py?line=323'>324</a>\u001b[0m \u001b[39m\"\"\"\u001b[39;00m\n\u001b[0;32m    <a href='file:///c%3A/ProgramData/anaconda3/envs/encord/lib/site-packages/matplotlib/pyplot.py?line=324'>325</a>\u001b[0m \u001b[39mDisplay all open figures.\u001b[39;00m\n\u001b[0;32m    <a href='file:///c%3A/ProgramData/anaconda3/envs/encord/lib/site-packages/matplotlib/pyplot.py?line=325'>326</a>\u001b[0m \n\u001b[1;32m   (...)\u001b[0m\n\u001b[0;32m    <a href='file:///c%3A/ProgramData/anaconda3/envs/encord/lib/site-packages/matplotlib/pyplot.py?line=364'>365</a>\u001b[0m \u001b[39mexplicitly there.\u001b[39;00m\n\u001b[0;32m    <a href='file:///c%3A/ProgramData/anaconda3/envs/encord/lib/site-packages/matplotlib/pyplot.py?line=365'>366</a>\u001b[0m \u001b[39m\"\"\"\u001b[39;00m\n\u001b[0;32m    <a href='file:///c%3A/ProgramData/anaconda3/envs/encord/lib/site-packages/matplotlib/pyplot.py?line=366'>367</a>\u001b[0m _warn_if_gui_out_of_main_thread()\n\u001b[1;32m--> <a href='file:///c%3A/ProgramData/anaconda3/envs/encord/lib/site-packages/matplotlib/pyplot.py?line=367'>368</a>\u001b[0m \u001b[39mreturn\u001b[39;00m _backend_mod\u001b[39m.\u001b[39mshow(\u001b[39m*\u001b[39margs, \u001b[39m*\u001b[39m\u001b[39m*\u001b[39mkwargs)\n",
      "File \u001b[1;32mc:\\ProgramData\\anaconda3\\envs\\encord\\lib\\site-packages\\matplotlib_inline\\backend_inline.py:41\u001b[0m, in \u001b[0;36mshow\u001b[1;34m(close, block)\u001b[0m\n\u001b[0;32m     <a href='file:///c%3A/ProgramData/anaconda3/envs/encord/lib/site-packages/matplotlib_inline/backend_inline.py?line=38'>39</a>\u001b[0m \u001b[39mtry\u001b[39;00m:\n\u001b[0;32m     <a href='file:///c%3A/ProgramData/anaconda3/envs/encord/lib/site-packages/matplotlib_inline/backend_inline.py?line=39'>40</a>\u001b[0m     \u001b[39mfor\u001b[39;00m figure_manager \u001b[39min\u001b[39;00m Gcf\u001b[39m.\u001b[39mget_all_fig_managers():\n\u001b[1;32m---> <a href='file:///c%3A/ProgramData/anaconda3/envs/encord/lib/site-packages/matplotlib_inline/backend_inline.py?line=40'>41</a>\u001b[0m         display(\n\u001b[0;32m     <a href='file:///c%3A/ProgramData/anaconda3/envs/encord/lib/site-packages/matplotlib_inline/backend_inline.py?line=41'>42</a>\u001b[0m             figure_manager\u001b[39m.\u001b[39;49mcanvas\u001b[39m.\u001b[39;49mfigure,\n\u001b[0;32m     <a href='file:///c%3A/ProgramData/anaconda3/envs/encord/lib/site-packages/matplotlib_inline/backend_inline.py?line=42'>43</a>\u001b[0m             metadata\u001b[39m=\u001b[39;49m_fetch_figure_metadata(figure_manager\u001b[39m.\u001b[39;49mcanvas\u001b[39m.\u001b[39;49mfigure)\n\u001b[0;32m     <a href='file:///c%3A/ProgramData/anaconda3/envs/encord/lib/site-packages/matplotlib_inline/backend_inline.py?line=43'>44</a>\u001b[0m         )\n\u001b[0;32m     <a href='file:///c%3A/ProgramData/anaconda3/envs/encord/lib/site-packages/matplotlib_inline/backend_inline.py?line=44'>45</a>\u001b[0m \u001b[39mfinally\u001b[39;00m:\n\u001b[0;32m     <a href='file:///c%3A/ProgramData/anaconda3/envs/encord/lib/site-packages/matplotlib_inline/backend_inline.py?line=45'>46</a>\u001b[0m     show\u001b[39m.\u001b[39m_to_draw \u001b[39m=\u001b[39m []\n",
      "File \u001b[1;32mc:\\ProgramData\\anaconda3\\envs\\encord\\lib\\site-packages\\IPython\\core\\display_functions.py:298\u001b[0m, in \u001b[0;36mdisplay\u001b[1;34m(include, exclude, metadata, transient, display_id, raw, clear, *objs, **kwargs)\u001b[0m\n\u001b[0;32m    <a href='file:///c%3A/ProgramData/anaconda3/envs/encord/lib/site-packages/IPython/core/display_functions.py?line=295'>296</a>\u001b[0m     publish_display_data(data\u001b[39m=\u001b[39mobj, metadata\u001b[39m=\u001b[39mmetadata, \u001b[39m*\u001b[39m\u001b[39m*\u001b[39mkwargs)\n\u001b[0;32m    <a href='file:///c%3A/ProgramData/anaconda3/envs/encord/lib/site-packages/IPython/core/display_functions.py?line=296'>297</a>\u001b[0m \u001b[39melse\u001b[39;00m:\n\u001b[1;32m--> <a href='file:///c%3A/ProgramData/anaconda3/envs/encord/lib/site-packages/IPython/core/display_functions.py?line=297'>298</a>\u001b[0m     format_dict, md_dict \u001b[39m=\u001b[39m \u001b[39mformat\u001b[39;49m(obj, include\u001b[39m=\u001b[39;49minclude, exclude\u001b[39m=\u001b[39;49mexclude)\n\u001b[0;32m    <a href='file:///c%3A/ProgramData/anaconda3/envs/encord/lib/site-packages/IPython/core/display_functions.py?line=298'>299</a>\u001b[0m     \u001b[39mif\u001b[39;00m \u001b[39mnot\u001b[39;00m format_dict:\n\u001b[0;32m    <a href='file:///c%3A/ProgramData/anaconda3/envs/encord/lib/site-packages/IPython/core/display_functions.py?line=299'>300</a>\u001b[0m         \u001b[39m# nothing to display (e.g. _ipython_display_ took over)\u001b[39;00m\n\u001b[0;32m    <a href='file:///c%3A/ProgramData/anaconda3/envs/encord/lib/site-packages/IPython/core/display_functions.py?line=300'>301</a>\u001b[0m         \u001b[39mcontinue\u001b[39;00m\n",
      "File \u001b[1;32mc:\\ProgramData\\anaconda3\\envs\\encord\\lib\\site-packages\\IPython\\core\\formatters.py:178\u001b[0m, in \u001b[0;36mDisplayFormatter.format\u001b[1;34m(self, obj, include, exclude)\u001b[0m\n\u001b[0;32m    <a href='file:///c%3A/ProgramData/anaconda3/envs/encord/lib/site-packages/IPython/core/formatters.py?line=175'>176</a>\u001b[0m md \u001b[39m=\u001b[39m \u001b[39mNone\u001b[39;00m\n\u001b[0;32m    <a href='file:///c%3A/ProgramData/anaconda3/envs/encord/lib/site-packages/IPython/core/formatters.py?line=176'>177</a>\u001b[0m \u001b[39mtry\u001b[39;00m:\n\u001b[1;32m--> <a href='file:///c%3A/ProgramData/anaconda3/envs/encord/lib/site-packages/IPython/core/formatters.py?line=177'>178</a>\u001b[0m     data \u001b[39m=\u001b[39m formatter(obj)\n\u001b[0;32m    <a href='file:///c%3A/ProgramData/anaconda3/envs/encord/lib/site-packages/IPython/core/formatters.py?line=178'>179</a>\u001b[0m \u001b[39mexcept\u001b[39;00m:\n\u001b[0;32m    <a href='file:///c%3A/ProgramData/anaconda3/envs/encord/lib/site-packages/IPython/core/formatters.py?line=179'>180</a>\u001b[0m     \u001b[39m# FIXME: log the exception\u001b[39;00m\n\u001b[0;32m    <a href='file:///c%3A/ProgramData/anaconda3/envs/encord/lib/site-packages/IPython/core/formatters.py?line=180'>181</a>\u001b[0m     \u001b[39mraise\u001b[39;00m\n",
      "File \u001b[1;32mc:\\ProgramData\\anaconda3\\envs\\encord\\lib\\site-packages\\decorator.py:232\u001b[0m, in \u001b[0;36mdecorate.<locals>.fun\u001b[1;34m(*args, **kw)\u001b[0m\n\u001b[0;32m    <a href='file:///c%3A/ProgramData/anaconda3/envs/encord/lib/site-packages/decorator.py?line=229'>230</a>\u001b[0m \u001b[39mif\u001b[39;00m \u001b[39mnot\u001b[39;00m kwsyntax:\n\u001b[0;32m    <a href='file:///c%3A/ProgramData/anaconda3/envs/encord/lib/site-packages/decorator.py?line=230'>231</a>\u001b[0m     args, kw \u001b[39m=\u001b[39m fix(args, kw, sig)\n\u001b[1;32m--> <a href='file:///c%3A/ProgramData/anaconda3/envs/encord/lib/site-packages/decorator.py?line=231'>232</a>\u001b[0m \u001b[39mreturn\u001b[39;00m caller(func, \u001b[39m*\u001b[39m(extras \u001b[39m+\u001b[39m args), \u001b[39m*\u001b[39m\u001b[39m*\u001b[39mkw)\n",
      "File \u001b[1;32mc:\\ProgramData\\anaconda3\\envs\\encord\\lib\\site-packages\\IPython\\core\\formatters.py:222\u001b[0m, in \u001b[0;36mcatch_format_error\u001b[1;34m(method, self, *args, **kwargs)\u001b[0m\n\u001b[0;32m    <a href='file:///c%3A/ProgramData/anaconda3/envs/encord/lib/site-packages/IPython/core/formatters.py?line=219'>220</a>\u001b[0m \u001b[39m\"\"\"show traceback on failed format call\"\"\"\u001b[39;00m\n\u001b[0;32m    <a href='file:///c%3A/ProgramData/anaconda3/envs/encord/lib/site-packages/IPython/core/formatters.py?line=220'>221</a>\u001b[0m \u001b[39mtry\u001b[39;00m:\n\u001b[1;32m--> <a href='file:///c%3A/ProgramData/anaconda3/envs/encord/lib/site-packages/IPython/core/formatters.py?line=221'>222</a>\u001b[0m     r \u001b[39m=\u001b[39m method(\u001b[39mself\u001b[39m, \u001b[39m*\u001b[39margs, \u001b[39m*\u001b[39m\u001b[39m*\u001b[39mkwargs)\n\u001b[0;32m    <a href='file:///c%3A/ProgramData/anaconda3/envs/encord/lib/site-packages/IPython/core/formatters.py?line=222'>223</a>\u001b[0m \u001b[39mexcept\u001b[39;00m \u001b[39mNotImplementedError\u001b[39;00m:\n\u001b[0;32m    <a href='file:///c%3A/ProgramData/anaconda3/envs/encord/lib/site-packages/IPython/core/formatters.py?line=223'>224</a>\u001b[0m     \u001b[39m# don't warn on NotImplementedErrors\u001b[39;00m\n\u001b[0;32m    <a href='file:///c%3A/ProgramData/anaconda3/envs/encord/lib/site-packages/IPython/core/formatters.py?line=224'>225</a>\u001b[0m     \u001b[39mreturn\u001b[39;00m \u001b[39mself\u001b[39m\u001b[39m.\u001b[39m_check_return(\u001b[39mNone\u001b[39;00m, args[\u001b[39m0\u001b[39m])\n",
      "File \u001b[1;32mc:\\ProgramData\\anaconda3\\envs\\encord\\lib\\site-packages\\IPython\\core\\formatters.py:339\u001b[0m, in \u001b[0;36mBaseFormatter.__call__\u001b[1;34m(self, obj)\u001b[0m\n\u001b[0;32m    <a href='file:///c%3A/ProgramData/anaconda3/envs/encord/lib/site-packages/IPython/core/formatters.py?line=336'>337</a>\u001b[0m     \u001b[39mpass\u001b[39;00m\n\u001b[0;32m    <a href='file:///c%3A/ProgramData/anaconda3/envs/encord/lib/site-packages/IPython/core/formatters.py?line=337'>338</a>\u001b[0m \u001b[39melse\u001b[39;00m:\n\u001b[1;32m--> <a href='file:///c%3A/ProgramData/anaconda3/envs/encord/lib/site-packages/IPython/core/formatters.py?line=338'>339</a>\u001b[0m     \u001b[39mreturn\u001b[39;00m printer(obj)\n\u001b[0;32m    <a href='file:///c%3A/ProgramData/anaconda3/envs/encord/lib/site-packages/IPython/core/formatters.py?line=339'>340</a>\u001b[0m \u001b[39m# Finally look for special method names\u001b[39;00m\n\u001b[0;32m    <a href='file:///c%3A/ProgramData/anaconda3/envs/encord/lib/site-packages/IPython/core/formatters.py?line=340'>341</a>\u001b[0m method \u001b[39m=\u001b[39m get_real_method(obj, \u001b[39mself\u001b[39m\u001b[39m.\u001b[39mprint_method)\n",
      "File \u001b[1;32mc:\\ProgramData\\anaconda3\\envs\\encord\\lib\\site-packages\\IPython\\core\\pylabtools.py:151\u001b[0m, in \u001b[0;36mprint_figure\u001b[1;34m(fig, fmt, bbox_inches, base64, **kwargs)\u001b[0m\n\u001b[0;32m    <a href='file:///c%3A/ProgramData/anaconda3/envs/encord/lib/site-packages/IPython/core/pylabtools.py?line=147'>148</a>\u001b[0m     \u001b[39mfrom\u001b[39;00m \u001b[39mmatplotlib\u001b[39;00m\u001b[39m.\u001b[39;00m\u001b[39mbackend_bases\u001b[39;00m \u001b[39mimport\u001b[39;00m FigureCanvasBase\n\u001b[0;32m    <a href='file:///c%3A/ProgramData/anaconda3/envs/encord/lib/site-packages/IPython/core/pylabtools.py?line=148'>149</a>\u001b[0m     FigureCanvasBase(fig)\n\u001b[1;32m--> <a href='file:///c%3A/ProgramData/anaconda3/envs/encord/lib/site-packages/IPython/core/pylabtools.py?line=150'>151</a>\u001b[0m fig\u001b[39m.\u001b[39mcanvas\u001b[39m.\u001b[39mprint_figure(bytes_io, \u001b[39m*\u001b[39m\u001b[39m*\u001b[39mkw)\n\u001b[0;32m    <a href='file:///c%3A/ProgramData/anaconda3/envs/encord/lib/site-packages/IPython/core/pylabtools.py?line=151'>152</a>\u001b[0m data \u001b[39m=\u001b[39m bytes_io\u001b[39m.\u001b[39mgetvalue()\n\u001b[0;32m    <a href='file:///c%3A/ProgramData/anaconda3/envs/encord/lib/site-packages/IPython/core/pylabtools.py?line=152'>153</a>\u001b[0m \u001b[39mif\u001b[39;00m fmt \u001b[39m==\u001b[39m \u001b[39m'\u001b[39m\u001b[39msvg\u001b[39m\u001b[39m'\u001b[39m:\n",
      "File \u001b[1;32mc:\\ProgramData\\anaconda3\\envs\\encord\\lib\\site-packages\\matplotlib\\backend_bases.py:2299\u001b[0m, in \u001b[0;36mFigureCanvasBase.print_figure\u001b[1;34m(self, filename, dpi, facecolor, edgecolor, orientation, format, bbox_inches, pad_inches, bbox_extra_artists, backend, **kwargs)\u001b[0m\n\u001b[0;32m   <a href='file:///c%3A/ProgramData/anaconda3/envs/encord/lib/site-packages/matplotlib/backend_bases.py?line=2296'>2297</a>\u001b[0m \u001b[39mif\u001b[39;00m bbox_inches:\n\u001b[0;32m   <a href='file:///c%3A/ProgramData/anaconda3/envs/encord/lib/site-packages/matplotlib/backend_bases.py?line=2297'>2298</a>\u001b[0m     \u001b[39mif\u001b[39;00m bbox_inches \u001b[39m==\u001b[39m \u001b[39m\"\u001b[39m\u001b[39mtight\u001b[39m\u001b[39m\"\u001b[39m:\n\u001b[1;32m-> <a href='file:///c%3A/ProgramData/anaconda3/envs/encord/lib/site-packages/matplotlib/backend_bases.py?line=2298'>2299</a>\u001b[0m         bbox_inches \u001b[39m=\u001b[39m \u001b[39mself\u001b[39;49m\u001b[39m.\u001b[39;49mfigure\u001b[39m.\u001b[39;49mget_tightbbox(\n\u001b[0;32m   <a href='file:///c%3A/ProgramData/anaconda3/envs/encord/lib/site-packages/matplotlib/backend_bases.py?line=2299'>2300</a>\u001b[0m             renderer, bbox_extra_artists\u001b[39m=\u001b[39;49mbbox_extra_artists)\n\u001b[0;32m   <a href='file:///c%3A/ProgramData/anaconda3/envs/encord/lib/site-packages/matplotlib/backend_bases.py?line=2300'>2301</a>\u001b[0m         \u001b[39mif\u001b[39;00m pad_inches \u001b[39mis\u001b[39;00m \u001b[39mNone\u001b[39;00m:\n\u001b[0;32m   <a href='file:///c%3A/ProgramData/anaconda3/envs/encord/lib/site-packages/matplotlib/backend_bases.py?line=2301'>2302</a>\u001b[0m             pad_inches \u001b[39m=\u001b[39m rcParams[\u001b[39m'\u001b[39m\u001b[39msavefig.pad_inches\u001b[39m\u001b[39m'\u001b[39m]\n",
      "File \u001b[1;32mc:\\ProgramData\\anaconda3\\envs\\encord\\lib\\site-packages\\matplotlib\\figure.py:1632\u001b[0m, in \u001b[0;36mFigureBase.get_tightbbox\u001b[1;34m(self, renderer, bbox_extra_artists)\u001b[0m\n\u001b[0;32m   <a href='file:///c%3A/ProgramData/anaconda3/envs/encord/lib/site-packages/matplotlib/figure.py?line=1628'>1629</a>\u001b[0m     artists \u001b[39m=\u001b[39m bbox_extra_artists\n\u001b[0;32m   <a href='file:///c%3A/ProgramData/anaconda3/envs/encord/lib/site-packages/matplotlib/figure.py?line=1630'>1631</a>\u001b[0m \u001b[39mfor\u001b[39;00m a \u001b[39min\u001b[39;00m artists:\n\u001b[1;32m-> <a href='file:///c%3A/ProgramData/anaconda3/envs/encord/lib/site-packages/matplotlib/figure.py?line=1631'>1632</a>\u001b[0m     bbox \u001b[39m=\u001b[39m a\u001b[39m.\u001b[39;49mget_tightbbox(renderer)\n\u001b[0;32m   <a href='file:///c%3A/ProgramData/anaconda3/envs/encord/lib/site-packages/matplotlib/figure.py?line=1632'>1633</a>\u001b[0m     \u001b[39mif\u001b[39;00m bbox \u001b[39mis\u001b[39;00m \u001b[39mnot\u001b[39;00m \u001b[39mNone\u001b[39;00m \u001b[39mand\u001b[39;00m (bbox\u001b[39m.\u001b[39mwidth \u001b[39m!=\u001b[39m \u001b[39m0\u001b[39m \u001b[39mor\u001b[39;00m bbox\u001b[39m.\u001b[39mheight \u001b[39m!=\u001b[39m \u001b[39m0\u001b[39m):\n\u001b[0;32m   <a href='file:///c%3A/ProgramData/anaconda3/envs/encord/lib/site-packages/matplotlib/figure.py?line=1633'>1634</a>\u001b[0m         bb\u001b[39m.\u001b[39mappend(bbox)\n",
      "File \u001b[1;32mc:\\ProgramData\\anaconda3\\envs\\encord\\lib\\site-packages\\matplotlib\\axes\\_base.py:4666\u001b[0m, in \u001b[0;36m_AxesBase.get_tightbbox\u001b[1;34m(self, renderer, call_axes_locator, bbox_extra_artists, for_layout_only)\u001b[0m\n\u001b[0;32m   <a href='file:///c%3A/ProgramData/anaconda3/envs/encord/lib/site-packages/matplotlib/axes/_base.py?line=4661'>4662</a>\u001b[0m     \u001b[39mif\u001b[39;00m np\u001b[39m.\u001b[39mall(clip_extent\u001b[39m.\u001b[39mextents \u001b[39m==\u001b[39m axbbox\u001b[39m.\u001b[39mextents):\n\u001b[0;32m   <a href='file:///c%3A/ProgramData/anaconda3/envs/encord/lib/site-packages/matplotlib/axes/_base.py?line=4662'>4663</a>\u001b[0m         \u001b[39m# clip extent is inside the Axes bbox so don't check\u001b[39;00m\n\u001b[0;32m   <a href='file:///c%3A/ProgramData/anaconda3/envs/encord/lib/site-packages/matplotlib/axes/_base.py?line=4663'>4664</a>\u001b[0m         \u001b[39m# this artist\u001b[39;00m\n\u001b[0;32m   <a href='file:///c%3A/ProgramData/anaconda3/envs/encord/lib/site-packages/matplotlib/axes/_base.py?line=4664'>4665</a>\u001b[0m         \u001b[39mcontinue\u001b[39;00m\n\u001b[1;32m-> <a href='file:///c%3A/ProgramData/anaconda3/envs/encord/lib/site-packages/matplotlib/axes/_base.py?line=4665'>4666</a>\u001b[0m bbox \u001b[39m=\u001b[39m a\u001b[39m.\u001b[39;49mget_tightbbox(renderer)\n\u001b[0;32m   <a href='file:///c%3A/ProgramData/anaconda3/envs/encord/lib/site-packages/matplotlib/axes/_base.py?line=4666'>4667</a>\u001b[0m \u001b[39mif\u001b[39;00m (bbox \u001b[39mis\u001b[39;00m \u001b[39mnot\u001b[39;00m \u001b[39mNone\u001b[39;00m\n\u001b[0;32m   <a href='file:///c%3A/ProgramData/anaconda3/envs/encord/lib/site-packages/matplotlib/axes/_base.py?line=4667'>4668</a>\u001b[0m         \u001b[39mand\u001b[39;00m \u001b[39m0\u001b[39m \u001b[39m<\u001b[39m bbox\u001b[39m.\u001b[39mwidth \u001b[39m<\u001b[39m np\u001b[39m.\u001b[39minf\n\u001b[0;32m   <a href='file:///c%3A/ProgramData/anaconda3/envs/encord/lib/site-packages/matplotlib/axes/_base.py?line=4668'>4669</a>\u001b[0m         \u001b[39mand\u001b[39;00m \u001b[39m0\u001b[39m \u001b[39m<\u001b[39m bbox\u001b[39m.\u001b[39mheight \u001b[39m<\u001b[39m np\u001b[39m.\u001b[39minf):\n\u001b[0;32m   <a href='file:///c%3A/ProgramData/anaconda3/envs/encord/lib/site-packages/matplotlib/axes/_base.py?line=4669'>4670</a>\u001b[0m     bb\u001b[39m.\u001b[39mappend(bbox)\n",
      "File \u001b[1;32mc:\\ProgramData\\anaconda3\\envs\\encord\\lib\\site-packages\\matplotlib\\artist.py:355\u001b[0m, in \u001b[0;36mArtist.get_tightbbox\u001b[1;34m(self, renderer)\u001b[0m\n\u001b[0;32m    <a href='file:///c%3A/ProgramData/anaconda3/envs/encord/lib/site-packages/matplotlib/artist.py?line=339'>340</a>\u001b[0m \u001b[39mdef\u001b[39;00m \u001b[39mget_tightbbox\u001b[39m(\u001b[39mself\u001b[39m, renderer):\n\u001b[0;32m    <a href='file:///c%3A/ProgramData/anaconda3/envs/encord/lib/site-packages/matplotlib/artist.py?line=340'>341</a>\u001b[0m     \u001b[39m\"\"\"\u001b[39;00m\n\u001b[0;32m    <a href='file:///c%3A/ProgramData/anaconda3/envs/encord/lib/site-packages/matplotlib/artist.py?line=341'>342</a>\u001b[0m \u001b[39m    Like `.Artist.get_window_extent`, but includes any clipping.\u001b[39;00m\n\u001b[0;32m    <a href='file:///c%3A/ProgramData/anaconda3/envs/encord/lib/site-packages/matplotlib/artist.py?line=342'>343</a>\u001b[0m \n\u001b[1;32m   (...)\u001b[0m\n\u001b[0;32m    <a href='file:///c%3A/ProgramData/anaconda3/envs/encord/lib/site-packages/matplotlib/artist.py?line=352'>353</a>\u001b[0m \u001b[39m        The enclosing bounding box (in figure pixel coordinates).\u001b[39;00m\n\u001b[0;32m    <a href='file:///c%3A/ProgramData/anaconda3/envs/encord/lib/site-packages/matplotlib/artist.py?line=353'>354</a>\u001b[0m \u001b[39m    \"\"\"\u001b[39;00m\n\u001b[1;32m--> <a href='file:///c%3A/ProgramData/anaconda3/envs/encord/lib/site-packages/matplotlib/artist.py?line=354'>355</a>\u001b[0m     bbox \u001b[39m=\u001b[39m \u001b[39mself\u001b[39;49m\u001b[39m.\u001b[39;49mget_window_extent(renderer)\n\u001b[0;32m    <a href='file:///c%3A/ProgramData/anaconda3/envs/encord/lib/site-packages/matplotlib/artist.py?line=355'>356</a>\u001b[0m     \u001b[39mif\u001b[39;00m \u001b[39mself\u001b[39m\u001b[39m.\u001b[39mget_clip_on():\n\u001b[0;32m    <a href='file:///c%3A/ProgramData/anaconda3/envs/encord/lib/site-packages/matplotlib/artist.py?line=356'>357</a>\u001b[0m         clip_box \u001b[39m=\u001b[39m \u001b[39mself\u001b[39m\u001b[39m.\u001b[39mget_clip_box()\n",
      "File \u001b[1;32mc:\\ProgramData\\anaconda3\\envs\\encord\\lib\\site-packages\\matplotlib\\text.py:910\u001b[0m, in \u001b[0;36mText.get_window_extent\u001b[1;34m(self, renderer, dpi)\u001b[0m\n\u001b[0;32m    <a href='file:///c%3A/ProgramData/anaconda3/envs/encord/lib/site-packages/matplotlib/text.py?line=906'>907</a>\u001b[0m     \u001b[39mraise\u001b[39;00m \u001b[39mRuntimeError\u001b[39;00m(\u001b[39m'\u001b[39m\u001b[39mCannot get window extent w/o renderer\u001b[39m\u001b[39m'\u001b[39m)\n\u001b[0;32m    <a href='file:///c%3A/ProgramData/anaconda3/envs/encord/lib/site-packages/matplotlib/text.py?line=908'>909</a>\u001b[0m \u001b[39mwith\u001b[39;00m cbook\u001b[39m.\u001b[39m_setattr_cm(\u001b[39mself\u001b[39m\u001b[39m.\u001b[39mfigure, dpi\u001b[39m=\u001b[39mdpi):\n\u001b[1;32m--> <a href='file:///c%3A/ProgramData/anaconda3/envs/encord/lib/site-packages/matplotlib/text.py?line=909'>910</a>\u001b[0m     bbox, info, descent \u001b[39m=\u001b[39m \u001b[39mself\u001b[39;49m\u001b[39m.\u001b[39;49m_get_layout(\u001b[39mself\u001b[39;49m\u001b[39m.\u001b[39;49m_renderer)\n\u001b[0;32m    <a href='file:///c%3A/ProgramData/anaconda3/envs/encord/lib/site-packages/matplotlib/text.py?line=910'>911</a>\u001b[0m     x, y \u001b[39m=\u001b[39m \u001b[39mself\u001b[39m\u001b[39m.\u001b[39mget_unitless_position()\n\u001b[0;32m    <a href='file:///c%3A/ProgramData/anaconda3/envs/encord/lib/site-packages/matplotlib/text.py?line=911'>912</a>\u001b[0m     x, y \u001b[39m=\u001b[39m \u001b[39mself\u001b[39m\u001b[39m.\u001b[39mget_transform()\u001b[39m.\u001b[39mtransform((x, y))\n",
      "File \u001b[1;32mc:\\ProgramData\\anaconda3\\envs\\encord\\lib\\site-packages\\matplotlib\\text.py:317\u001b[0m, in \u001b[0;36mText._get_layout\u001b[1;34m(self, renderer)\u001b[0m\n\u001b[0;32m    <a href='file:///c%3A/ProgramData/anaconda3/envs/encord/lib/site-packages/matplotlib/text.py?line=314'>315</a>\u001b[0m clean_line, ismath \u001b[39m=\u001b[39m \u001b[39mself\u001b[39m\u001b[39m.\u001b[39m_preprocess_math(line)\n\u001b[0;32m    <a href='file:///c%3A/ProgramData/anaconda3/envs/encord/lib/site-packages/matplotlib/text.py?line=315'>316</a>\u001b[0m \u001b[39mif\u001b[39;00m clean_line:\n\u001b[1;32m--> <a href='file:///c%3A/ProgramData/anaconda3/envs/encord/lib/site-packages/matplotlib/text.py?line=316'>317</a>\u001b[0m     w, h, d \u001b[39m=\u001b[39m renderer\u001b[39m.\u001b[39;49mget_text_width_height_descent(\n\u001b[0;32m    <a href='file:///c%3A/ProgramData/anaconda3/envs/encord/lib/site-packages/matplotlib/text.py?line=317'>318</a>\u001b[0m         clean_line, \u001b[39mself\u001b[39;49m\u001b[39m.\u001b[39;49m_fontproperties, ismath\u001b[39m=\u001b[39;49mismath)\n\u001b[0;32m    <a href='file:///c%3A/ProgramData/anaconda3/envs/encord/lib/site-packages/matplotlib/text.py?line=318'>319</a>\u001b[0m \u001b[39melse\u001b[39;00m:\n\u001b[0;32m    <a href='file:///c%3A/ProgramData/anaconda3/envs/encord/lib/site-packages/matplotlib/text.py?line=319'>320</a>\u001b[0m     w \u001b[39m=\u001b[39m h \u001b[39m=\u001b[39m d \u001b[39m=\u001b[39m \u001b[39m0\u001b[39m\n",
      "File \u001b[1;32mc:\\ProgramData\\anaconda3\\envs\\encord\\lib\\site-packages\\matplotlib\\backends\\backend_agg.py:270\u001b[0m, in \u001b[0;36mRendererAgg.get_text_width_height_descent\u001b[1;34m(self, s, prop, ismath)\u001b[0m\n\u001b[0;32m    <a href='file:///c%3A/ProgramData/anaconda3/envs/encord/lib/site-packages/matplotlib/backends/backend_agg.py?line=267'>268</a>\u001b[0m flags \u001b[39m=\u001b[39m get_hinting_flag()\n\u001b[0;32m    <a href='file:///c%3A/ProgramData/anaconda3/envs/encord/lib/site-packages/matplotlib/backends/backend_agg.py?line=268'>269</a>\u001b[0m font \u001b[39m=\u001b[39m \u001b[39mself\u001b[39m\u001b[39m.\u001b[39m_get_agg_font(prop)\n\u001b[1;32m--> <a href='file:///c%3A/ProgramData/anaconda3/envs/encord/lib/site-packages/matplotlib/backends/backend_agg.py?line=269'>270</a>\u001b[0m font\u001b[39m.\u001b[39;49mset_text(s, \u001b[39m0.0\u001b[39;49m, flags\u001b[39m=\u001b[39;49mflags)\n\u001b[0;32m    <a href='file:///c%3A/ProgramData/anaconda3/envs/encord/lib/site-packages/matplotlib/backends/backend_agg.py?line=270'>271</a>\u001b[0m w, h \u001b[39m=\u001b[39m font\u001b[39m.\u001b[39mget_width_height()  \u001b[39m# width and height of unrotated string\u001b[39;00m\n\u001b[0;32m    <a href='file:///c%3A/ProgramData/anaconda3/envs/encord/lib/site-packages/matplotlib/backends/backend_agg.py?line=271'>272</a>\u001b[0m d \u001b[39m=\u001b[39m font\u001b[39m.\u001b[39mget_descent()\n",
      "\u001b[1;31mKeyboardInterrupt\u001b[0m: "
     ]
    }
   ],
   "source": [
    "cm_vascular = confusion_matrix(y_true_vascular, y_pred_vascular, labels=[0, 1, 2])\n",
    "accuracy_vascular = accuracy_score(y_true_vascular, y_pred_vascular)\n",
    "\n",
    "cm_bleeding = confusion_matrix(y_true_bleeding, y_pred_bleeding, labels=[0, 1, 2, 3])\n",
    "accuracy_bleeding = accuracy_score(y_true_bleeding, y_pred_bleeding)\n",
    "\n",
    "cm_erosion = confusion_matrix(y_true_erosion, y_pred_erosion, labels=[0, 1, 2, 3])\n",
    "accuracy_erosion = accuracy_score(y_true_erosion, y_pred_erosion)\n",
    "\n",
    "cm_UCEIS = confusion_matrix(y_true_UCEIS, y_pred_UCEIS, labels=[0, 1, 2, 3, 4, 5, 6, 7, 8])\n",
    "accuracy_UCEIS = accuracy_score(y_true_UCEIS, y_pred_UCEIS)\n",
    "\n",
    "\n",
    "print(\"Vascular Accuracy: \", accuracy_vascular)\n",
    "plot_confusion_matrix_2(cm_vascular, classes=[\"0\", \"1\", \"2\"], title=\"Vascular Pattern\")\n",
    "plt.show()\n",
    "print(\"---------------------------------------\\n\")\n",
    "\n",
    "print(\"Bleeding Accuracy: \", accuracy_bleeding)\n",
    "plot_confusion_matrix_2(cm_bleeding, classes=[\"0\", \"1\", \"2\", \"3\"], title=\"Bleeding\")\n",
    "plt.show()\n",
    "print(\"---------------------------------------\\n\")\n",
    "\n",
    "print(\"Erosion Accuracy: \", accuracy_erosion)\n",
    "plot_confusion_matrix_2(cm_erosion, classes=[\"0\", \"1\", \"2\", \"3\"], title=\"Erosion\")\n",
    "plt.show()\n",
    "print(\"---------------------------------------\\n\")\n",
    "\n",
    "print(\"UCEIS Accuracy: \", accuracy_UCEIS)\n",
    "plot_confusion_matrix_2(cm_UCEIS, classes=[\"0\", \"1\", \"2\", \"3\", \"4\", \"5\", \"6\", \"7\", \"8\"], title=\"UCEIS\")\n",
    "plt.show()"
   ]
  },
  {
   "cell_type": "markdown",
   "metadata": {},
   "source": [
    "**Bucketing scores for different bucket levels**"
   ]
  },
  {
   "cell_type": "code",
   "execution_count": null,
   "metadata": {},
   "outputs": [
    {
     "name": "stdout",
     "output_type": "stream",
     "text": [
      "[0.41304347826086957, 0.788647342995169, 0.9251207729468599, 0.9770531400966184, 0.9939613526570048, 0.998792270531401, 1.0, 1.0, 1.0]\n"
     ]
    },
    {
     "data": {
      "image/png": "[encoded data removed]",
      "text/plain": [
       "<Figure size 720x720 with 1 Axes>"
      ]
     },
     "metadata": {
      "needs_background": "light"
     },
     "output_type": "display_data"
    }
   ],
   "source": [
    "bucketing_scores = get_all_level_bucketing_accuracy(y_true_UCEIS, y_pred_UCEIS)\n",
    "print(bucketing_scores)\n",
    "plt.figure(figsize=(10,10))\n",
    "plt.plot(bucketing_scores)\n",
    "plt.title(\"Bucketing Accuracy\")\n",
    "plt.xlabel(\"Bucketing level\")\n",
    "plt.ylabel(\"Accuracy\")\n",
    "plt.yticks(bucketing_scores)\n",
    "plt.grid(True)\n",
    "plt.ylim(0, 1.1)\n",
    "plt.show()"
   ]
  },
  {
   "cell_type": "markdown",
   "metadata": {},
   "source": [
    "**Video level quadratic weighted kappa score**"
   ]
  },
  {
   "cell_type": "code",
   "execution_count": null,
   "metadata": {},
   "outputs": [
    {
     "name": "stdout",
     "output_type": "stream",
     "text": [
      "Quadratic Kappa Score (9-classes):  0.6855877011347994\n"
     ]
    }
   ],
   "source": [
    "quadratic_kappa_score = cohen_kappa_score(y_true_UCEIS, y_pred_UCEIS, weights=\"quadratic\")\n",
    "print(\"Quadratic Kappa Score (9-classes): \", quadratic_kappa_score)"
   ]
  },
  {
   "cell_type": "code",
   "execution_count": null,
   "metadata": {},
   "outputs": [
    {
     "name": "stdout",
     "output_type": "stream",
     "text": [
      "Quadratic Kappa Score (9-classes):  0.5939414778780516\n"
     ]
    }
   ],
   "source": [
    "quadratic_kappa_score = cohen_kappa_score(y_true_bleeding, y_pred_bleeding, weights=\"quadratic\")\n",
    "print(\"Quadratic Kappa Score (9-classes): \", quadratic_kappa_score)"
   ]
  },
  {
   "cell_type": "code",
   "execution_count": null,
   "metadata": {},
   "outputs": [
    {
     "name": "stdout",
     "output_type": "stream",
     "text": [
      "Quadratic Kappa Score (9-classes):  0.7135759263280242\n"
     ]
    }
   ],
   "source": [
    "quadratic_kappa_score = cohen_kappa_score(y_true_vascular, y_pred_vascular, weights=\"quadratic\")\n",
    "print(\"Quadratic Kappa Score (9-classes): \", quadratic_kappa_score)"
   ]
  },
  {
   "cell_type": "code",
   "execution_count": null,
   "metadata": {},
   "outputs": [
    {
     "name": "stdout",
     "output_type": "stream",
     "text": [
      "Quadratic Kappa Score (9-classes):  0.24565743269605933\n"
     ]
    }
   ],
   "source": [
    "quadratic_kappa_score = cohen_kappa_score(y_true_erosion, y_pred_erosion, weights=\"quadratic\")\n",
    "print(\"Quadratic Kappa Score (9-classes): \", quadratic_kappa_score)"
   ]
  },
  {
   "cell_type": "markdown",
   "metadata": {},
   "source": [
    "**Video level remission results**"
   ]
  },
  {
   "cell_type": "code",
   "execution_count": null,
   "metadata": {},
   "outputs": [
    {
     "name": "stdout",
     "output_type": "stream",
     "text": [
      "UCEIS Accuracy (0 vs 1-8):  0.8599033816425121\n",
      "Confusion matrix, without normalization\n",
      "[[157  29]\n",
      " [ 87 555]]\n"
     ]
    },
    {
     "data": {
      "image/png": "[encoded data removed]",
      "text/plain": [
       "<Figure size 432x288 with 2 Axes>"
      ]
     },
     "metadata": {
      "needs_background": "light"
     },
     "output_type": "display_data"
    }
   ],
   "source": [
    "y_true_remission = convert_multiclass_to_binary_class(y_true_UCEIS)\n",
    "y_pred_remission = convert_multiclass_to_binary_class(y_pred_UCEIS)\n",
    "\n",
    "cm_UCEIS_remission = confusion_matrix(y_true_remission, y_pred_remission, labels=[0, 1])\n",
    "accuracy_UCEIS_remission = accuracy_score(y_true_remission, y_pred_remission)\n",
    "\n",
    "print(\"UCEIS Accuracy (0 vs 1-8): \", accuracy_UCEIS_remission)\n",
    "plot_confusion_matrix_2(cm_UCEIS_remission, classes=[\"0\", \"1-8\"], title=\"UCEIS Remission\")\n",
    "plt.show()"
   ]
  },
  {
   "cell_type": "markdown",
   "metadata": {},
   "source": [
    "**Video level remission kappa score**"
   ]
  },
  {
   "cell_type": "code",
   "execution_count": null,
   "metadata": {},
   "outputs": [
    {
     "name": "stdout",
     "output_type": "stream",
     "text": [
      "Remission Kappa Score:  0.6379263548357912\n"
     ]
    }
   ],
   "source": [
    "kappa_score = cohen_kappa_score(y_true_remission, y_pred_remission)\n",
    "print(\"Remission Kappa Score: \", kappa_score)"
   ]
  },
  {
   "cell_type": "code",
   "execution_count": null,
   "metadata": {},
   "outputs": [
    {
     "data": {
      "text/plain": [
       "266"
      ]
     },
     "execution_count": 63,
     "metadata": {},
     "output_type": "execute_result"
    }
   ],
   "source": [
    "cm_UCEIS[0][0] + cm_UCEIS[0][1]+cm_UCEIS[1][1] + cm_UCEIS[1][0]"
   ]
  },
  {
   "cell_type": "code",
   "execution_count": null,
   "metadata": {},
   "outputs": [
    {
     "data": {
      "text/plain": [
       "268"
      ]
     },
     "execution_count": 64,
     "metadata": {},
     "output_type": "execute_result"
    }
   ],
   "source": [
    "sum(cm_UCEIS[3:][0]) + sum(cm_UCEIS[3:][1]) + sum(cm_UCEIS[0][3:]) + sum(cm_UCEIS[1][3:])"
   ]
  },
  {
   "cell_type": "code",
   "execution_count": null,
   "metadata": {},
   "outputs": [
    {
     "data": {
      "text/plain": [
       "array([[157,   7,  18,   1,   3,   0,   0,   0,   0],\n",
       "       [ 75,  27,  65,   7,  13,   2,   2,   1,   0],\n",
       "       [  8,  31,  66,  25,   6,   8,   2,   2,   0],\n",
       "       [  3,  10,  33,  45,  21,  17,   0,   1,   0],\n",
       "       [  1,   4,  17,  26,  35,  12,  12,   2,   0],\n",
       "       [  0,   1,   8,  15,  10,  10,   2,   0,   3],\n",
       "       [  0,   0,   4,   1,   3,   4,   1,   0,   0],\n",
       "       [  0,   0,   0,   0,   0,   0,   0,   0,   0],\n",
       "       [  0,   0,   0,   0,   0,   0,   0,   0,   1]], dtype=int64)"
      ]
     },
     "execution_count": 65,
     "metadata": {},
     "output_type": "execute_result"
    }
   ],
   "source": [
    "cm_UCEIS"
   ]
  },
  {
   "cell_type": "code",
   "execution_count": null,
   "metadata": {},
   "outputs": [],
   "source": [
    "import pandas as pd\n",
    "df = pd.DataFrame(cm_UCEIS)\n",
    "df.to_csv('./results/train_test_w_no_val_uceis.csv')"
   ]
  },
  {
   "cell_type": "code",
   "execution_count": null,
   "metadata": {},
   "outputs": [],
   "source": [
    "import pandas as pd\n",
    "df = pd.DataFrame(cm_vascular)\n",
    "df.to_csv('./results/train_test_w_no_val_vascular.csv')"
   ]
  },
  {
   "cell_type": "code",
   "execution_count": null,
   "metadata": {},
   "outputs": [],
   "source": [
    "import pandas as pd\n",
    "df = pd.DataFrame(cm_bleeding)\n",
    "df.to_csv('./results/train_test_w_no_val_bleeding.csv')"
   ]
  },
  {
   "cell_type": "code",
   "execution_count": null,
   "metadata": {},
   "outputs": [],
   "source": [
    "import pandas as pd\n",
    "df = pd.DataFrame(cm_erosion)\n",
    "df.to_csv('./results/train_test_w_no_val_erosion.csv')"
   ]
  },
  {
   "cell_type": "code",
   "execution_count": null,
   "metadata": {},
   "outputs": [],
   "source": [
    "import pandas as pd\n",
    "df = pd.DataFrame(cm_UCEIS)"
   ]
  },
  {
   "cell_type": "code",
   "execution_count": null,
   "metadata": {},
   "outputs": [
    {
     "data": {
      "text/plain": [
       "array([[35, 12, 12,  2,  0],\n",
       "       [10, 10,  2,  0,  3],\n",
       "       [ 3,  4,  1,  0,  0],\n",
       "       [ 0,  0,  0,  0,  0],\n",
       "       [ 0,  0,  0,  0,  1]], dtype=int64)"
      ]
     },
     "execution_count": 71,
     "metadata": {},
     "output_type": "execute_result"
    }
   ],
   "source": [
    "(cm_UCEIS[4:,4:])\n"
   ]
  },
  {
   "cell_type": "code",
   "execution_count": null,
   "metadata": {},
   "outputs": [
    {
     "data": {
      "text/plain": [
       "array([[157,   7,  18,   1],\n",
       "       [ 75,  27,  65,   7],\n",
       "       [  8,  31,  66,  25],\n",
       "       [  3,  10,  33,  45]], dtype=int64)"
      ]
     },
     "execution_count": 72,
     "metadata": {},
     "output_type": "execute_result"
    }
   ],
   "source": [
    "(cm_UCEIS[0:4,0:4])"
   ]
  },
  {
   "cell_type": "code",
   "execution_count": null,
   "metadata": {},
   "outputs": [
    {
     "data": {
      "text/plain": [
       "0.8128019323671497"
      ]
     },
     "execution_count": 73,
     "metadata": {},
     "output_type": "execute_result"
    }
   ],
   "source": [
    "(sum(sum((cm_UCEIS[0:4,0:4]))) + sum(sum((cm_UCEIS[4:,4:]))) )/ sum(sum(cm_UCEIS))"
   ]
  },
  {
   "cell_type": "code",
   "execution_count": null,
   "metadata": {},
   "outputs": [
    {
     "data": {
      "text/plain": [
       "0.9723852260959613"
      ]
     },
     "execution_count": 74,
     "metadata": {},
     "output_type": "execute_result"
    }
   ],
   "source": [
    "2817.0/2897"
   ]
  },
  {
   "cell_type": "code",
   "execution_count": null,
   "metadata": {},
   "outputs": [
    {
     "data": {
      "text/plain": [
       "828"
      ]
     },
     "execution_count": 75,
     "metadata": {},
     "output_type": "execute_result"
    }
   ],
   "source": [
    "sum(sum(cm_UCEIS))"
   ]
  },
  {
   "cell_type": "code",
   "execution_count": null,
   "metadata": {},
   "outputs": [
    {
     "data": {
      "text/plain": [
       "0.7946859903381642"
      ]
     },
     "execution_count": 76,
     "metadata": {},
     "output_type": "execute_result"
    }
   ],
   "source": [
    "(sum(sum((cm_UCEIS[0:2,0:2]))) + sum(sum((cm_UCEIS[2:,2:]))) )/ sum(sum(cm_UCEIS))"
   ]
  },
  {
   "cell_type": "code",
   "execution_count": null,
   "metadata": {},
   "outputs": [
    {
     "data": {
      "text/plain": [
       "array([[66, 25,  6,  8,  2,  2,  0],\n",
       "       [33, 45, 21, 17,  0,  1,  0],\n",
       "       [17, 26, 35, 12, 12,  2,  0],\n",
       "       [ 8, 15, 10, 10,  2,  0,  3],\n",
       "       [ 4,  1,  3,  4,  1,  0,  0],\n",
       "       [ 0,  0,  0,  0,  0,  0,  0],\n",
       "       [ 0,  0,  0,  0,  0,  0,  1]], dtype=int64)"
      ]
     },
     "execution_count": 77,
     "metadata": {},
     "output_type": "execute_result"
    }
   ],
   "source": [
    "cm_UCEIS[2:,2:]"
   ]
  },
  {
   "cell_type": "code",
   "execution_count": null,
   "metadata": {},
   "outputs": [
    {
     "data": {
      "text/plain": [
       "0.9153533906399236"
      ]
     },
     "execution_count": 78,
     "metadata": {},
     "output_type": "execute_result"
    }
   ],
   "source": [
    "7667.0/8376"
   ]
  },
  {
   "cell_type": "code",
   "execution_count": null,
   "metadata": {},
   "outputs": [
    {
     "data": {
      "text/plain": [
       "array([[66, 25,  6,  8,  2,  2,  0],\n",
       "       [33, 45, 21, 17,  0,  1,  0],\n",
       "       [17, 26, 35, 12, 12,  2,  0],\n",
       "       [ 8, 15, 10, 10,  2,  0,  3],\n",
       "       [ 4,  1,  3,  4,  1,  0,  0],\n",
       "       [ 0,  0,  0,  0,  0,  0,  0],\n",
       "       [ 0,  0,  0,  0,  0,  0,  1]], dtype=int64)"
      ]
     },
     "execution_count": 79,
     "metadata": {},
     "output_type": "execute_result"
    }
   ],
   "source": [
    "(cm_UCEIS[2:,2:])"
   ]
  },
  {
   "cell_type": "code",
   "execution_count": null,
   "metadata": {},
   "outputs": [
    {
     "data": {
      "text/plain": [
       "array([[157,   7],\n",
       "       [ 75,  27]], dtype=int64)"
      ]
     },
     "execution_count": 80,
     "metadata": {},
     "output_type": "execute_result"
    }
   ],
   "source": [
    "(cm_UCEIS[0:2,0:2])"
   ]
  },
  {
   "cell_type": "code",
   "execution_count": null,
   "metadata": {},
   "outputs": [
    {
     "data": {
      "text/plain": [
       "0.47101449275362317"
      ]
     },
     "execution_count": 81,
     "metadata": {},
     "output_type": "execute_result"
    }
   ],
   "source": [
    "(sum(cm_UCEIS[2:][0]) + sum(cm_UCEIS[2:][1]) + sum(cm_UCEIS[0][2:]) + sum(cm_UCEIS[1][2:]))*1.0 / sum(sum(cm_UCEIS))"
   ]
  },
  {
   "cell_type": "code",
   "execution_count": null,
   "metadata": {},
   "outputs": [
    {
     "data": {
      "text/plain": [
       "0.424468962672716"
      ]
     },
     "execution_count": 82,
     "metadata": {},
     "output_type": "execute_result"
    }
   ],
   "source": [
    "8233/19396.0"
   ]
  },
  {
   "cell_type": "code",
   "execution_count": null,
   "metadata": {},
   "outputs": [
    {
     "data": {
      "text/plain": [
       "0.575531037327284"
      ]
     },
     "execution_count": 83,
     "metadata": {},
     "output_type": "execute_result"
    }
   ],
   "source": [
    "1-_"
   ]
  },
  {
   "cell_type": "code",
   "execution_count": null,
   "metadata": {},
   "outputs": [],
   "source": [
    "###Fold 1 : 83.56 1 bucket , 87,6 remission\n",
    "###Fold 2 : 84.74 1 bucket , 91.9 remission"
   ]
  },
  {
   "cell_type": "code",
   "execution_count": null,
   "metadata": {},
   "outputs": [
    {
     "data": {
      "text/plain": [
       "828"
      ]
     },
     "execution_count": 85,
     "metadata": {},
     "output_type": "execute_result"
    }
   ],
   "source": [
    "len(y_pred_vascular)"
   ]
  },
  {
   "cell_type": "code",
   "execution_count": null,
   "metadata": {},
   "outputs": [
    {
     "ename": "NameError",
     "evalue": "name 'test_loader' is not defined",
     "output_type": "error",
     "traceback": [
      "\u001b[1;31m---------------------------------------------------------------------------\u001b[0m",
      "\u001b[1;31mNameError\u001b[0m                                 Traceback (most recent call last)",
      "\u001b[1;32mc:\\Users\\ElifKübraÇontar\\Desktop\\SurgEase_IBD\\Code\\test_elif.ipynb Cell 43'\u001b[0m in \u001b[0;36m<cell line: 3>\u001b[1;34m()\u001b[0m\n\u001b[0;32m      <a href='vscode-notebook-cell:/c%3A/Users/ElifK%C3%BCbra%C3%87ontar/Desktop/SurgEase_IBD/Code/test_elif.ipynb#ch0000042?line=0'>1</a>\u001b[0m \u001b[39mimport\u001b[39;00m \u001b[39mpandas\u001b[39;00m \u001b[39mas\u001b[39;00m \u001b[39mpd\u001b[39;00m\n\u001b[1;32m----> <a href='vscode-notebook-cell:/c%3A/Users/ElifK%C3%BCbra%C3%87ontar/Desktop/SurgEase_IBD/Code/test_elif.ipynb#ch0000042?line=2'>3</a>\u001b[0m d\u001b[39m=\u001b[39mpd\u001b[39m.\u001b[39mDataFrame((test_loader\u001b[39m.\u001b[39mdataset\u001b[39m.\u001b[39mframe_paths))\n\u001b[0;32m      <a href='vscode-notebook-cell:/c%3A/Users/ElifK%C3%BCbra%C3%87ontar/Desktop/SurgEase_IBD/Code/test_elif.ipynb#ch0000042?line=3'>4</a>\u001b[0m d[\u001b[39m1\u001b[39m] \u001b[39m=\u001b[39m d[\u001b[39m0\u001b[39m]\u001b[39m.\u001b[39mstr\u001b[39m.\u001b[39msplit(\u001b[39m'\u001b[39m\u001b[39m/\u001b[39m\u001b[39m'\u001b[39m)\u001b[39m.\u001b[39mapply(\u001b[39mlambda\u001b[39;00m x:x[\u001b[39m-\u001b[39m\u001b[39m3\u001b[39m])\n\u001b[0;32m      <a href='vscode-notebook-cell:/c%3A/Users/ElifK%C3%BCbra%C3%87ontar/Desktop/SurgEase_IBD/Code/test_elif.ipynb#ch0000042?line=4'>5</a>\u001b[0m d[\u001b[39m1\u001b[39m]\u001b[39m.\u001b[39munique()\n",
      "\u001b[1;31mNameError\u001b[0m: name 'test_loader' is not defined"
     ]
    }
   ],
   "source": [
    "import pandas as pd\n",
    "\n",
    "d=pd.DataFrame((test_loader.dataset.frame_paths))\n",
    "d[1] = d[0].str.split('/').apply(lambda x:x[-3])\n",
    "d[1].unique()"
   ]
  },
  {
   "cell_type": "code",
   "execution_count": null,
   "metadata": {},
   "outputs": [],
   "source": [
    "file = open(\"splitted_folder_names/predetermined_test_folders.txt\", \"r\")\n",
    "test_folders = file.read().splitlines()"
   ]
  },
  {
   "cell_type": "code",
   "execution_count": null,
   "metadata": {},
   "outputs": [
    {
     "data": {
      "text/plain": [
       "['UC10-0.mp4',\n",
       " 'UC15-1.mp4',\n",
       " 'UC21-2.mp4',\n",
       " 'UC14-4.mp4',\n",
       " 'UC53-4.mp4',\n",
       " 'UC61-4.mp4',\n",
       " 'UC79-4.mp4',\n",
       " 'UC29-5.mp4',\n",
       " 'UC30-5.mp4',\n",
       " 'UC1-6.mp4']"
      ]
     },
     "execution_count": 38,
     "metadata": {},
     "output_type": "execute_result"
    }
   ],
   "source": [
    "test_folders"
   ]
  },
  {
   "cell_type": "code",
   "execution_count": null,
   "metadata": {},
   "outputs": [
    {
     "data": {
      "text/plain": [
       "3297"
      ]
     },
     "execution_count": 39,
     "metadata": {},
     "output_type": "execute_result"
    }
   ],
   "source": [
    "len(y_true_UCEIS)"
   ]
  },
  {
   "cell_type": "code",
   "execution_count": null,
   "metadata": {},
   "outputs": [
    {
     "data": {
      "text/plain": [
       "0"
      ]
     },
     "execution_count": 11,
     "metadata": {},
     "output_type": "execute_result"
    }
   ],
   "source": [
    "import gc\n",
    "import torch\n",
    "\n",
    "gc.collect()\n",
    "\n",
    "torch.cuda.empty_cache()\n",
    "gc.collect()\n"
   ]
  },
  {
   "cell_type": "code",
   "execution_count": null,
   "metadata": {},
   "outputs": [
    {
     "data": {
      "text/plain": [
       "3297"
      ]
     },
     "execution_count": 43,
     "metadata": {},
     "output_type": "execute_result"
    }
   ],
   "source": []
  },
  {
   "cell_type": "code",
   "execution_count": null,
   "metadata": {},
   "outputs": [],
   "source": []
  },
  {
   "cell_type": "code",
   "execution_count": null,
   "metadata": {},
   "outputs": [
    {
     "data": {
      "text/plain": [
       "array([[3249,  281,    0,    0,    0,    0,    0,    0,    0],\n",
       "       [ 417,  863,    9,    0,    0,    0,    0,    0,    0],\n",
       "       [ 120,  575,  203,   16,    2,    0,    0,    0,    0],\n",
       "       [   0,    5,   22,   15,   67,    5,    0,    0,    0],\n",
       "       [   0,    0,    1,    4, 1209,  153,    0,    0,    0],\n",
       "       [   0,    0,    0,    5,  191,  494,    0,    1,    0],\n",
       "       [   0,    0,    0,    0,  144,   24,    0,    0,    0],\n",
       "       [   0,    0,    0,    0,    0,  301,    0,    0,    0],\n",
       "       [   0,    0,    0,    0,    0,    0,    0,    0,    0]])"
      ]
     },
     "execution_count": 25,
     "metadata": {},
     "output_type": "execute_result"
    }
   ],
   "source": [
    "np.array([[3249,  281,    0,    0,    0,    0,    0,    0,    0],\n",
    "       [ 417,  863,    9,    0,    0,    0,    0,    0,    0],\n",
    "       [ 120,  575,  203,   16,    2,    0,    0,    0,    0],\n",
    "       [   0,    5,   22,   15,   67,    5,    0,    0,    0],\n",
    "       [   0,    0,    1,    4, 1209,  153,    0,    0,    0],\n",
    "       [   0,    0,    0,    5,  191,  494,    0,    1,    0],\n",
    "       [   0,    0,    0,    0,  144,   24,    0,    0,    0],\n",
    "       [   0,    0,    0,    0,    0,  301,    0,    0,    0],\n",
    "       [   0,    0,    0,    0,    0,    0,    0,    0,    0]])"
   ]
  },
  {
   "cell_type": "code",
   "execution_count": null,
   "metadata": {},
   "outputs": [],
   "source": [
    "cm_UCEIS = _"
   ]
  },
  {
   "cell_type": "code",
   "execution_count": null,
   "metadata": {},
   "outputs": [
    {
     "data": {
      "text/plain": [
       "8376"
      ]
     },
     "execution_count": 29,
     "metadata": {},
     "output_type": "execute_result"
    }
   ],
   "source": [
    "sum(sum(cm_UCEIS))"
   ]
  },
  {
   "cell_type": "code",
   "execution_count": null,
   "metadata": {},
   "outputs": [],
   "source": [
    "[[ 675  322]\n",
    " [ 314 3833]]"
   ]
  },
  {
   "cell_type": "code",
   "execution_count": null,
   "metadata": {},
   "outputs": [],
   "source": []
  }
 ],
 "metadata": {
  "environment": {
   "name": "common-cu110.m73",
   "type": "gcloud",
   "uri": "gcr.io/deeplearning-platform-release/base-cu110:m73"
  },
  "interpreter": {
   "hash": "b3335c350c3e243f97154ccc229c4016e73b1744b04280168b92ebcb5f1ad340"
  },
  "kernelspec": {
   "display_name": "Python 3.9.12 ('encord')",
   "language": "python",
   "name": "python3"
  },
  "language_info": {
   "codemirror_mode": {
    "name": "ipython",
    "version": 3
   },
   "file_extension": ".py",
   "mimetype": "text/x-python",
   "name": "python",
   "nbconvert_exporter": "python",
   "pygments_lexer": "ipython3",
   "version": "3.9.12"
  }
 },
 "nbformat": 4,
 "nbformat_minor": 4
}
