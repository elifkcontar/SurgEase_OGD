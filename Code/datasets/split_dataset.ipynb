{
 "cells": [
  {
   "cell_type": "code",
   "execution_count": 3,
   "metadata": {},
   "outputs": [],
   "source": [
    "import os\n",
    "from random import shuffle\n",
    "from math import ceil\n",
    "import pandas as pd\n",
    "import matplotlib.pyplot as plt\n",
    "from sklearn.utils import class_weight\n",
    "import numpy as np"
   ]
  },
  {
   "cell_type": "code",
   "execution_count": 5,
   "metadata": {},
   "outputs": [
    {
     "name": "stdout",
     "output_type": "stream",
     "text": [
      "Length of train set is:  36\n",
      "Length of validation set is:  9\n",
      "Length of test set is:  9\n"
     ]
    },
    {
     "data": {
      "text/plain": [
       "(['2016-02-049.mp4',\n",
       "  '2015-09-066.mp4',\n",
       "  '2015-11-068.mp4',\n",
       "  '2016-11-033.mp4',\n",
       "  '2017-04-012.mp4',\n",
       "  '2016-10-066.mp4',\n",
       "  '2016-01-029.mp4',\n",
       "  '2015-11-055.mp4',\n",
       "  '2015-08-095.mp4',\n",
       "  '2015-09-01.mp4',\n",
       "  '2016-06-023.mp4',\n",
       "  '015-06-0122.mp4',\n",
       "  '2016-05-07.mp4',\n",
       "  '2015-07-079.mp4',\n",
       "  ' 2015-07-046.mp4',\n",
       "  '2015-09-080.mp4',\n",
       "  '2016-06-060.mp4',\n",
       "  '2016-03-066.mp4',\n",
       "  '2015-06-089.mp4',\n",
       "  '2017-01-069.mp4',\n",
       "  '2015-08-050.mp4',\n",
       "  '2015-11-09.mp4',\n",
       "  '2016-10-051.mp4',\n",
       "  '2015-09-095.mp4',\n",
       "  '2015-06-0101.mp4',\n",
       "  '2015-09-084.mp4',\n",
       "  '2017-03-076.mp4',\n",
       "  '2015-08-034.mp4',\n",
       "  '2015-12-62.mp4',\n",
       "  '2016-08-0117.mp4',\n",
       "  '2016-09-033.mp4',\n",
       "  '1_ENDOSCOPY_01 (video-converter.com).mp4',\n",
       "  '2016-09-0142.mp4',\n",
       "  '2016-03-047.mp4',\n",
       "  '2016-08-040.mp4',\n",
       "  '2015-10-060.mp4'],\n",
       " ['2016-01-089.mp4',\n",
       "  '2015-07-044.mp4',\n",
       "  '2016-10-060.mp4',\n",
       "  '2017-05-0102.mp4',\n",
       "  '2016-02-043.mp4',\n",
       "  '2016-09-052.mp4',\n",
       "  '2015-08-0106.mp4',\n",
       "  '2015-08-016.mp4',\n",
       "  '2015-11-030.mp4'],\n",
       " ['2015-09-0108.mp4',\n",
       "  '2017-05-0113.mp4',\n",
       "  '2016-05-0125.mp4',\n",
       "  '2015-08-056.mp4',\n",
       "  '2016-07-042.mp4',\n",
       "  '2016-02-068.mp4',\n",
       "  '2016-04-038.mp4',\n",
       "  '2015-07-046.mp4',\n",
       "  '2015-08-013.mp4'])"
      ]
     },
     "execution_count": 5,
     "metadata": {},
     "output_type": "execute_result"
    }
   ],
   "source": [
    "def split():\n",
    "    frame_root = r'C:\\Users\\ElifKübraÇontar\\OneDrive - Surgease Innovations Ltd\\Desktop\\OGD\\Dataset\\data_all_frames_540x960'\n",
    "    all_folders = [f for f in os.listdir(frame_root) if not f.startswith('.')]\n",
    "    shuffle(all_folders)\n",
    "    train_set_ratio = 0.7\n",
    "    val_set_ratio = 0.15\n",
    "    test_set_ratio = 0.15\n",
    "    val_set_folder_size = ceil(val_set_ratio * len(all_folders))\n",
    "    test_set_folder_size = ceil(test_set_ratio * len(all_folders))\n",
    "\n",
    "    val_folders = all_folders[0:val_set_folder_size]\n",
    "    test_folders = all_folders[val_set_folder_size:(val_set_folder_size + test_set_folder_size)]\n",
    "    train_folders = all_folders[(val_set_folder_size + test_set_folder_size):]\n",
    "\n",
    "    with open(r'C:\\Users\\ElifKübraÇontar\\OneDrive - Surgease Innovations Ltd\\Desktop\\OGD\\Code\\splitted_folder_names\\train_folders.txt', \"w\") as f:\n",
    "        for item in train_folders:f.write(\"%s\\n\" % item)\n",
    "\n",
    "    with open(r'C:\\Users\\ElifKübraÇontar\\OneDrive - Surgease Innovations Ltd\\Desktop\\OGD\\Code\\splitted_folder_names\\val_folders.txt', \"w\") as f:\n",
    "        for item in val_folders:f.write(\"%s\\n\" % item)\n",
    "\n",
    "    with open(r'C:\\Users\\ElifKübraÇontar\\OneDrive - Surgease Innovations Ltd\\Desktop\\OGD\\Code\\splitted_folder_names\\test_folders.txt', \"w\") as f:\n",
    "        for item in test_folders:f.write(\"%s\\n\" % item)\n",
    "    \n",
    "    print('Length of train set is: ', len(train_folders))\n",
    "    print('Length of validation set is: ', len(val_folders))\n",
    "    print('Length of test set is: ', len(test_folders))\n",
    "\n",
    "    return train_folders, val_folders, test_folders\n",
    "split()"
   ]
  },
  {
   "cell_type": "code",
   "execution_count": 3,
   "metadata": {},
   "outputs": [],
   "source": [
    "def df_train_val_test_split(train_folders, val_folders, test_folders):\n",
    "    train_df = df.loc[df['video_name'].isin(train_folders)]\n",
    "    val_df = df.loc[df['video_name'].isin(val_folders)]\n",
    "    test_df = df.loc[df['video_name'].isin(test_folders)]\n",
    "\n",
    "    train_vascular = train_df['vascular_pattern_scores']\n",
    "    train_bleeding = train_df['bleeding_score']\n",
    "    train_erosions = train_df['erosions_score']\n",
    "    train_uceis = train_df['UCEIS_score']\n",
    "\n",
    "    val_vascular = val_df['vascular_pattern_scores']\n",
    "    val_bleeding = val_df['bleeding_score']\n",
    "    val_erosions = val_df['erosions_score']\n",
    "    val_uceis = val_df['UCEIS_score']\n",
    "\n",
    "    test_vascular = test_df['vascular_pattern_scores']\n",
    "    test_bleeding = test_df['bleeding_score']\n",
    "    test_erosions = test_df['erosions_score']\n",
    "    test_uceis = test_df['UCEIS_score']\n",
    "\n",
    "    return train_vascular, train_bleeding, train_erosions, val_vascular, val_bleeding, val_erosions, test_vascular, test_bleeding, test_erosions, train_uceis, val_uceis, test_uceis"
   ]
  },
  {
   "cell_type": "code",
   "execution_count": 4,
   "metadata": {},
   "outputs": [],
   "source": [
    "df = pd.read_csv(r'C:\\Users\\ElifKübraÇontar\\Desktop\\gi\\label_x50.csv')\n",
    "df.head()\n",
    "frame_root = r'C:\\Users\\ElifKübraÇontar\\Desktop\\gi\\IBD\\data_all_frames_540x960'\n",
    "cord_project_ID = '5c349378-3e58-4028-af97-96ad9d137dd3'\n",
    "cord_API_key = 'fL_ktLRxfD90iQayw2dLVg-GVkPxQZVq9p6C6cvpvlg'\n",
    "\n",
    "file = open(r'C:\\Users\\ElifKübraÇontar\\Desktop\\gi\\Code\\splitted_folder_names\\test_folders2.txt')\n",
    "test_folders = file.read().splitlines()\n",
    "file.close()\n",
    "\n",
    "file = open(r'C:\\Users\\ElifKübraÇontar\\Desktop\\gi\\Code\\splitted_folder_names\\val_folders2.txt')\n",
    "val_folders = file.read().splitlines()\n",
    "file.close()\n",
    "\n",
    "file = open(r'C:\\Users\\ElifKübraÇontar\\Desktop\\gi\\Code\\splitted_folder_names\\train_folders2.txt')\n",
    "train_folders = file.read().splitlines()\n",
    "file.close()\n",
    "\n",
    "v1,b1,e1,v2,b2,e2,v3,b3,e3,u1,u2,u3 = df_train_val_test_split(train_folders, val_folders, test_folders)"
   ]
  },
  {
   "cell_type": "code",
   "execution_count": 5,
   "metadata": {},
   "outputs": [
    {
     "data": {
      "image/png": "[encoded data removed]",
      "text/plain": [
       "<Figure size 720x360 with 1 Axes>"
      ]
     },
     "metadata": {
      "needs_background": "light"
     },
     "output_type": "display_data"
    },
    {
     "data": {
      "image/png": "[encoded data removed]",
      "text/plain": [
       "<Figure size 432x288 with 1 Axes>"
      ]
     },
     "metadata": {
      "needs_background": "light"
     },
     "output_type": "display_data"
    },
    {
     "data": {
      "image/png": "[encoded data removed]",
      "text/plain": [
       "<Figure size 432x288 with 1 Axes>"
      ]
     },
     "metadata": {
      "needs_background": "light"
     },
     "output_type": "display_data"
    }
   ],
   "source": [
    "fig = plt.figure(figsize = (10, 5))\n",
    "# creating the bar plot\n",
    "plt.bar([0-0.1, 1-0.1, 2-0.1],\n",
    "        [v1.tolist().count(0),v1.tolist().count(1),v1.tolist().count(2)],\n",
    "        color ='maroon',\n",
    "        width = 0.1)\n",
    "plt.bar([0, 1, 2],\n",
    "        [v2.tolist().count(0),v2.tolist().count(1),v2.tolist().count(2)],\n",
    "        color ='blue',\n",
    "        width = 0.1)\n",
    "plt.bar([0+0.1, 1+0.1, 2+0.1],\n",
    "        [v3.tolist().count(0),v3.tolist().count(1),v3.tolist().count(2)],\n",
    "        color ='green',\n",
    "        width = 0.1)\n",
    "plt.xlabel(\"Vascularity Score\")\n",
    "plt.ylabel(\"Number of Frame\")\n",
    "plt.show()\n",
    "\n",
    "# creating the bar plot\n",
    "plt.bar([0-0.1, 1-0.1, 2-0.1, 3-0.1],\n",
    "        [b1.tolist().count(0),b1.tolist().count(1),b1.tolist().count(2),b1.tolist().count(3)],\n",
    "        color ='maroon',\n",
    "        width = 0.1)\n",
    "plt.bar([0, 1, 2, 3],\n",
    "        [b2.tolist().count(0),b2.tolist().count(1),b2.tolist().count(2),b2.tolist().count(3)],\n",
    "        color ='blue',\n",
    "        width = 0.1)\n",
    "plt.bar([0+0.1, 1+0.1, 2+0.1, 3+0.1],\n",
    "        [b3.tolist().count(0),b3.tolist().count(1),b3.tolist().count(2),b3.tolist().count(3)],\n",
    "        color ='green',\n",
    "        width = 0.1)\n",
    "plt.xlabel(\"Bleeding Score\")\n",
    "plt.ylabel(\"Number of Frame\")\n",
    "plt.show()\n",
    "\n",
    "# creating the bar plot\n",
    "plt.bar([0-0.1, 1-0.1, 2-0.1, 3-0.1],\n",
    "        [e1.tolist().count(0),e1.tolist().count(1),e1.tolist().count(2),e1.tolist().count(3)],\n",
    "        color ='maroon',\n",
    "        width = 0.1)\n",
    "plt.bar([0, 1, 2, 3],\n",
    "        [e2.tolist().count(0),e2.tolist().count(1),e2.tolist().count(2),e2.tolist().count(3)],\n",
    "        color ='blue',\n",
    "        width = 0.1)\n",
    "plt.bar([0+0.1, 1+0.1, 2+0.1, 3+0.1],\n",
    "        [e3.tolist().count(0),e3.tolist().count(1),e3.tolist().count(2),e3.tolist().count(3)],\n",
    "        color ='green',\n",
    "        width = 0.1)\n",
    "plt.xlabel(\"Erosions Score\")\n",
    "plt.ylabel(\"Number of Frame\")\n",
    "plt.show()"
   ]
  },
  {
   "cell_type": "code",
   "execution_count": 6,
   "metadata": {},
   "outputs": [
    {
     "data": {
      "image/png": "[encoded data removed]",
      "text/plain": [
       "<Figure size 720x360 with 1 Axes>"
      ]
     },
     "metadata": {
      "needs_background": "light"
     },
     "output_type": "display_data"
    },
    {
     "data": {
      "image/png": "[encoded data removed]",
      "text/plain": [
       "<Figure size 432x288 with 1 Axes>"
      ]
     },
     "metadata": {
      "needs_background": "light"
     },
     "output_type": "display_data"
    },
    {
     "name": "stdout",
     "output_type": "stream",
     "text": [
      "Train:\n",
      "382\n",
      "4004\n",
      "Val:\n",
      "31\n",
      "510\n"
     ]
    }
   ],
   "source": [
    "fig = plt.figure(figsize = (10, 5))\n",
    "\n",
    "# creating the bar plot\n",
    "plt.bar([0-0.1, 1-0.1, 2-0.1, 3-0.1, 4-0.1, 5-0.1, 6-0.1, 7-0.1],\n",
    "        [u1.tolist().count(0),u1.tolist().count(1),u1.tolist().count(2),u1.tolist().count(3),u1.tolist().count(4),u1.tolist().count(5),u1.tolist().count(6),u1.tolist().count(7)],\n",
    "        color ='maroon',\n",
    "        width = 0.1)\n",
    "plt.bar([0, 1, 2, 3, 4, 5, 6, 7],\n",
    "        [u2.tolist().count(0),u2.tolist().count(1),u2.tolist().count(2),u2.tolist().count(3),u2.tolist().count(4),u2.tolist().count(5),u2.tolist().count(6),u2.tolist().count(7)],\n",
    "        color ='blue',\n",
    "        width = 0.1)\n",
    "plt.bar([0+0.1, 1+0.1, 2+0.1, 3+0.1, 4+0.1, 5+0.1, 6+0.1, 7+0.1],\n",
    "        [u3.tolist().count(0),u3.tolist().count(1),u3.tolist().count(2),u3.tolist().count(3), u3.tolist().count(4),u3.tolist().count(5),u3.tolist().count(6),u3.tolist().count(7)],\n",
    "        color ='green',\n",
    "        width = 0.1)\n",
    "plt.xlabel(\"UCEIS Score\")\n",
    "plt.ylabel(\"Number of Frame\")\n",
    "plt.show()\n",
    "\n",
    "# creating the bar plot\n",
    "plt.bar([0-0.1, 1-0.1],\n",
    "        [u1.tolist().count(0),u1.tolist().count(1)+u1.tolist().count(2)+u1.tolist().count(3)+u1.tolist().count(4)+u1.tolist().count(5)+u1.tolist().count(6)+u1.tolist().count(7)],\n",
    "        color ='maroon',\n",
    "        width = 0.1)\n",
    "plt.bar([0, 1],\n",
    "        [u2.tolist().count(0),u2.tolist().count(1)+u2.tolist().count(2)+u2.tolist().count(3)+u2.tolist().count(4)+u2.tolist().count(5)+u2.tolist().count(6)+u2.tolist().count(7)],\n",
    "        color ='blue',\n",
    "        width = 0.1)\n",
    "plt.bar([0+0.1, 1+0.1],\n",
    "        [u3.tolist().count(0),u3.tolist().count(1)+u3.tolist().count(2)+u3.tolist().count(3)+u3.tolist().count(4)+u3.tolist().count(5)+u3.tolist().count(6)+u3.tolist().count(7)],\n",
    "        color ='green',\n",
    "        width = 0.1)\n",
    "plt.xlabel(\"Remission\")\n",
    "plt.ylabel(\"Number of Frame\")\n",
    "plt.show()\n",
    "print('Train:')\n",
    "print(u1.tolist().count(0))\n",
    "print(u1.tolist().count(1)+u1.tolist().count(2)+u1.tolist().count(3)+u1.tolist().count(4)+u1.tolist().count(5)+u1.tolist().count(6)+u1.tolist().count(7))\n",
    "print('Val:')\n",
    "print(u2.tolist().count(0))\n",
    "print(u2.tolist().count(1)+u2.tolist().count(2)+u2.tolist().count(3)+u2.tolist().count(4)+u2.tolist().count(5)+u2.tolist().count(6)+u2.tolist().count(7))"
   ]
  },
  {
   "cell_type": "code",
   "execution_count": 7,
   "metadata": {},
   "outputs": [],
   "source": [
    "def get_ratio_value(v1,b1,e1,v2,b2,e2,v3,b3,e3):\n",
    "    #check train\n",
    "    if(len(np.unique(v1))!=3 | len(np.unique(b1))!=4 | len(np.unique(e1))!=4):\n",
    "        return -1\n",
    "    #check val\n",
    "    if(len(np.unique(v2))!=3 | len(np.unique(b2))!=4 | len(np.unique(e2))!=4):\n",
    "        return -1\n",
    "    #check test\n",
    "    if(len(np.unique(v3))!=3 | len(np.unique(b3))!=4 | len(np.unique(e3))!=4):\n",
    "        return -1\n",
    "    \n",
    "    class_weights_train_v=class_weight.compute_class_weight(class_weight='balanced',classes=np.unique(v1),y=v1)\n",
    "    class_weights_train_b=class_weight.compute_class_weight(class_weight='balanced',classes=np.unique(b1),y=b1)\n",
    "    class_weights_train_e=class_weight.compute_class_weight(class_weight='balanced',classes=np.unique(e1),y=e1)\n",
    "\n",
    "    class_weights_val_v=class_weight.compute_class_weight(class_weight='balanced',classes=np.unique(v2),y=v2)\n",
    "    class_weights_val_b=class_weight.compute_class_weight(class_weight='balanced',classes=np.unique(b2),y=b2)\n",
    "    class_weights_val_e=class_weight.compute_class_weight(class_weight='balanced',classes=np.unique(e2),y=e2)\n",
    "\n",
    "    class_weights_test_v=class_weight.compute_class_weight(class_weight='balanced',classes=np.unique(v3),y=v3)\n",
    "    class_weights_test_b=class_weight.compute_class_weight(class_weight='balanced',classes=np.unique(b3),y=b3)\n",
    "    class_weights_test_e=class_weight.compute_class_weight(class_weight='balanced',classes=np.unique(e3),y=e3)\n",
    "\n",
    "    total = class_weights_train_v.sum() + class_weights_train_b.sum() + class_weights_train_e.sum()+class_weights_val_v.sum() + class_weights_val_b.sum() + class_weights_val_e.sum()+class_weights_test_v.sum() + class_weights_test_b.sum() + class_weights_test_e.sum()\n",
    "    return total\n",
    "\n",
    "#file = open(r'C:\\Users\\ElifKübraÇontar\\Desktop\\gi\\Code\\splitted_folder_names\\test_folders2.txt')\n",
    "#test_folders = file.read().splitlines()\n",
    "#file.close()\n",
    "\n",
    "#file = open(r'C:\\Users\\ElifKübraÇontar\\Desktop\\gi\\Code\\splitted_folder_names\\val_folders2.txt')\n",
    "#val_folders = file.read().splitlines()\n",
    "#file.close()\n",
    "\n",
    "#file = open(r'C:\\Users\\ElifKübraÇontar\\Desktop\\gi\\Code\\splitted_folder_names\\train_folders2.txt')\n",
    "#train_folders = file.read().splitlines()\n",
    "#file.close()\n",
    "#v1,b1,e1,v2,b2,e2,v3,b3,e3,u1,u2,u3 = df_train_val_test_split(train_folders, val_folders, test_folders)\n",
    "#get_ratio_value(v1,b1,e1,v2,b2,e2,v3,b3,e3)"
   ]
  },
  {
   "cell_type": "code",
   "execution_count": 8,
   "metadata": {},
   "outputs": [
    {
     "data": {
      "image/png": "[encoded data removed]",
      "text/plain": [
       "<Figure size 720x360 with 1 Axes>"
      ]
     },
     "metadata": {
      "needs_background": "light"
     },
     "output_type": "display_data"
    }
   ],
   "source": [
    "fig = plt.figure(figsize = (10, 5))\n",
    " \n",
    "# creating the bar plot\n",
    "plt.bar([0-0.1, 1-0.1, 2-0.1, 3-0.1, 4-0.1, 5-0.1, 6-0.1, 7-0.1,8-0.1],\n",
    "        [u1.tolist().count(0),u1.tolist().count(1),u1.tolist().count(2),u1.tolist().count(3),u1.tolist().count(4),u1.tolist().count(5),u1.tolist().count(6),u1.tolist().count(7),u1.tolist().count(8)],\n",
    "        color ='maroon',\n",
    "        width = 0.1)\n",
    "plt.bar([0, 1, 2, 3, 4, 5, 6, 7,8],\n",
    "        [u2.tolist().count(0),u2.tolist().count(1),u2.tolist().count(2),u2.tolist().count(3),u2.tolist().count(4),u2.tolist().count(5),u2.tolist().count(6),u2.tolist().count(7),u3.tolist().count(8)],\n",
    "        color ='blue',\n",
    "        width = 0.1)\n",
    "plt.bar([0+0.1, 1+0.1, 2+0.1, 3+0.1, 4+0.1, 5+0.1, 6+0.1, 7+0.1,8+0.1],\n",
    "        [u3.tolist().count(0),u3.tolist().count(1),u3.tolist().count(2),u3.tolist().count(3),u3.tolist().count(4),u3.tolist().count(5),u3.tolist().count(6),u3.tolist().count(7),u3.tolist().count(8)],\n",
    "        color ='green',\n",
    "        width = 0.1)\n",
    " \n",
    "plt.xlabel(\"UCEIS Scores\")\n",
    "plt.ylabel(\"No. of frame\")\n",
    "plt.title(\"\")\n",
    "plt.show()"
   ]
  },
  {
   "cell_type": "code",
   "execution_count": 9,
   "metadata": {},
   "outputs": [
    {
     "name": "stdout",
     "output_type": "stream",
     "text": [
      "Best total is:  94.41674074113776\n",
      "Best split is saved at ..\\splitted_folder_names\train-val-test_folders2.txt\n",
      "Best total is:  93.04329187135949\n",
      "Best split is saved at ..\\splitted_folder_names\train-val-test_folders2.txt\n",
      "Best total is:  81.43612034348781\n",
      "Best split is saved at ..\\splitted_folder_names\train-val-test_folders2.txt\n",
      "Best total is:  79.18305570017979\n",
      "Best split is saved at ..\\splitted_folder_names\train-val-test_folders2.txt\n",
      "Best total is:  78.39025642566718\n",
      "Best split is saved at ..\\splitted_folder_names\train-val-test_folders2.txt\n",
      "Best total is:  78.27065605758385\n",
      "Best split is saved at ..\\splitted_folder_names\train-val-test_folders2.txt\n",
      "Best total is:  78.09999351301376\n",
      "Best split is saved at ..\\splitted_folder_names\train-val-test_folders2.txt\n",
      "Best total is:  77.32429157043566\n",
      "Best split is saved at ..\\splitted_folder_names\train-val-test_folders2.txt\n",
      "Best total is:  75.80387843910131\n",
      "Best split is saved at ..\\splitted_folder_names\train-val-test_folders2.txt\n"
     ]
    }
   ],
   "source": [
    "best_total = 1000000\n",
    "for i in range(20000):\n",
    "    df = pd.read_csv(r'C:\\Users\\ElifKübraÇontar\\Desktop\\gi\\label_x50.csv')\n",
    "    df.head()\n",
    "    train_folders, val_folders, test_folders = split()\n",
    "    v1,b1,e1,v2,b2,e2,v3,b3,e3,u1,u2,u3 = df_train_val_test_split(train_folders, val_folders, test_folders)\n",
    "    total = get_ratio_value(v1.to_numpy(),b1.to_numpy(),e1.to_numpy(),v2.to_numpy(),b2.to_numpy(),e2.to_numpy(),v3.to_numpy(),b3.to_numpy(),e3.to_numpy())\n",
    "    if total ==-1:\n",
    "        continue\n",
    "    if total < best_total:\n",
    "        best_total = total\n",
    "        print('Best total is: ', best_total)\n",
    "        print('Best split is saved at ..\\splitted_folder_names\\train-val-test_folders2.txt')\n",
    "        with open(r'C:\\Users\\ElifKübraÇontar\\Desktop\\gi\\Code\\splitted_folder_names\\train_folders50.txt', \"w\") as f:\n",
    "            for item in train_folders:f.write(\"%s\\n\" % item)\n",
    "\n",
    "        with open(r'C:\\Users\\ElifKübraÇontar\\Desktop\\gi\\Code\\splitted_folder_names\\val_folders50.txt', \"w\") as f:\n",
    "            for item in val_folders:f.write(\"%s\\n\" % item)\n",
    "\n",
    "        with open(r'C:\\Users\\ElifKübraÇontar\\Desktop\\gi\\Code\\splitted_folder_names\\test_folders50.txt', \"w\") as f:\n",
    "            for item in test_folders:f.write(\"%s\\n\" % item)"
   ]
  }
 ],
 "metadata": {
  "kernelspec": {
   "display_name": "Python 3.9.12 ('ogd_project')",
   "language": "python",
   "name": "python3"
  },
  "language_info": {
   "codemirror_mode": {
    "name": "ipython",
    "version": 3
   },
   "file_extension": ".py",
   "mimetype": "text/x-python",
   "name": "python",
   "nbconvert_exporter": "python",
   "pygments_lexer": "ipython3",
   "version": "3.9.12"
  },
  "orig_nbformat": 4,
  "vscode": {
   "interpreter": {
    "hash": "f6b22ea47433e76ff158e29437a651d5350a2dbde49e1ddcfdadf8733197381a"
   }
  }
 },
 "nbformat": 4,
 "nbformat_minor": 2
}
