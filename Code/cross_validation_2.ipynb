{
 "cells": [
  {
   "cell_type": "markdown",
   "metadata": {},
   "source": [
    "This scripts applies the k-fold CV.  \n",
    "First it gets the list of all videos that have at least one frame that has 3 subscores, then divide videos int n fold, then apply CV."
   ]
  },
  {
   "cell_type": "code",
   "execution_count": 28,
   "metadata": {},
   "outputs": [],
   "source": [
    "import os\n",
    "from datetime import datetime\n",
    "import time\n",
    "import numpy as np\n",
    "import random\n",
    "from statistics import mean\n",
    "from tqdm import tqdm\n",
    "from random import shuffle\n",
    "import torch\n",
    "import torchvision\n",
    "import torchvision.transforms as transforms\n",
    "from torch.optim import lr_scheduler\n",
    "from datasets.UCEIS_dataset import UCEIS_cord\n",
    "from models import resnet, densenet\n",
    "from utils.losses import multitask_CE\n",
    "from utils.provider import true_predictions, true_predictions_UCEIS, fix_seed, get_dataset_mean_and_std, convert_multiclass_to_binary_class\n",
    "from sklearn.metrics import confusion_matrix, classification_report, accuracy_score, cohen_kappa_score\n",
    "from utils.detect_blob import DetectBlob\n",
    "import wandb"
   ]
  },
  {
   "cell_type": "code",
   "execution_count": 29,
   "metadata": {},
   "outputs": [],
   "source": [
    "fix_seed(35)\n",
    "\n",
    "learning_rate = 0.0001\n",
    "weight_decay = 0.001\n",
    "num_epoch = 100 \n",
    "best_acc = 0\n",
    "best_threshold = 0.0001\n",
    "batch_size = 24\n",
    "num_worker = 4\n",
    "early_stop_counter = 0\n",
    "scheduler_patience = 5\n",
    "early_stopping_thresh = 10\n",
    "enable_wandb = True\n",
    "optimizer_name = \"Adam\"\n",
    "model_name = \"ResNet34\""
   ]
  },
  {
   "cell_type": "code",
   "execution_count": 30,
   "metadata": {},
   "outputs": [
    {
     "name": "stdout",
     "output_type": "stream",
     "text": [
      "[06/27/2021 08:29:18 PM] [INFO] [configs.py:65] [__init__()] Initialising Cord client with endpoint: https://api.cord.tech/public and resource_id: 499f6b35-de54-4e23-82ac-19420fabd3c0\n",
      "[06/27/2021 08:29:18 PM] [INFO] [querier.py:97] [execute()] Request: {\"query_type\": \"apikeymeta\", \"query_method\": \"GET\", \"values\": {\"uid\": null, \"payload\": null}}\n",
      "[06/27/2021 08:29:18 PM] [INFO] [client.py:111] [initialise_with_config()] Initialising Cord client for project using key: New read key\n",
      "[06/27/2021 08:29:18 PM] [INFO] [querier.py:97] [execute()] Request: {\"query_type\": \"project\", \"query_method\": \"GET\", \"values\": {\"uid\": null, \"payload\": null}}\n",
      "[06/27/2021 08:29:18 PM] [INFO] [querier.py:97] [execute()] Request: {\"query_type\": \"labelrow\", \"query_method\": \"GET\", \"values\": {\"uid\": \"26b3ce1b-bfa2-429b-9c0e-6270f78..\n",
      "[06/27/2021 08:29:19 PM] [INFO] [querier.py:97] [execute()] Request: {\"query_type\": \"labelrow\", \"query_method\": \"GET\", \"values\": {\"uid\": \"7e73964e-9a63-4024-8f40-19485ca..\n",
      "[06/27/2021 08:29:19 PM] [INFO] [querier.py:97] [execute()] Request: {\"query_type\": \"labelrow\", \"query_method\": \"GET\", \"values\": {\"uid\": \"116efd4f-1d8c-4a7f-88b2-4e182d4..\n",
      "[06/27/2021 08:29:19 PM] [INFO] [querier.py:97] [execute()] Request: {\"query_type\": \"labelrow\", \"query_method\": \"GET\", \"values\": {\"uid\": \"6aefb7c6-50a9-4526-ab75-f8f80c8..\n",
      "[06/27/2021 08:29:20 PM] [INFO] [querier.py:97] [execute()] Request: {\"query_type\": \"labelrow\", \"query_method\": \"GET\", \"values\": {\"uid\": \"5dc67e26-9e4e-4df2-9ac9-04f84cb..\n",
      "[06/27/2021 08:29:20 PM] [INFO] [querier.py:97] [execute()] Request: {\"query_type\": \"labelrow\", \"query_method\": \"GET\", \"values\": {\"uid\": \"101cecc9-4a4d-4063-add2-bfe44b7..\n",
      "[06/27/2021 08:29:21 PM] [INFO] [querier.py:97] [execute()] Request: {\"query_type\": \"labelrow\", \"query_method\": \"GET\", \"values\": {\"uid\": \"7b10b1e0-984f-4de6-b555-7dc2087..\n",
      "[06/27/2021 08:29:21 PM] [INFO] [querier.py:97] [execute()] Request: {\"query_type\": \"labelrow\", \"query_method\": \"GET\", \"values\": {\"uid\": \"4811e5c1-e81b-41c7-b3a4-944b4d1..\n",
      "[06/27/2021 08:29:21 PM] [INFO] [querier.py:97] [execute()] Request: {\"query_type\": \"labelrow\", \"query_method\": \"GET\", \"values\": {\"uid\": \"9d05e322-7e0d-4dad-a6a4-a525ba4..\n",
      "[06/27/2021 08:29:21 PM] [INFO] [querier.py:97] [execute()] Request: {\"query_type\": \"labelrow\", \"query_method\": \"GET\", \"values\": {\"uid\": \"1a2a0e9a-db19-46c6-a6e6-47aa063..\n",
      "[06/27/2021 08:29:22 PM] [INFO] [querier.py:97] [execute()] Request: {\"query_type\": \"labelrow\", \"query_method\": \"GET\", \"values\": {\"uid\": \"e21d53b3-e89a-4ff7-a398-74b19a1..\n",
      "[06/27/2021 08:29:22 PM] [INFO] [querier.py:97] [execute()] Request: {\"query_type\": \"labelrow\", \"query_method\": \"GET\", \"values\": {\"uid\": \"75d7a2d5-0cad-46f4-9f4c-cfa0102..\n",
      "[06/27/2021 08:29:22 PM] [INFO] [querier.py:97] [execute()] Request: {\"query_type\": \"labelrow\", \"query_method\": \"GET\", \"values\": {\"uid\": \"0b5c08ad-4e7a-4f4d-b030-a7ffd2b..\n",
      "[06/27/2021 08:29:23 PM] [INFO] [querier.py:97] [execute()] Request: {\"query_type\": \"labelrow\", \"query_method\": \"GET\", \"values\": {\"uid\": \"1a97f185-7fc7-4ac8-bcf9-ff47837..\n",
      "[06/27/2021 08:29:23 PM] [INFO] [querier.py:97] [execute()] Request: {\"query_type\": \"labelrow\", \"query_method\": \"GET\", \"values\": {\"uid\": \"dea3d095-8ee4-4451-8417-9749c3c..\n",
      "[06/27/2021 08:29:23 PM] [INFO] [querier.py:97] [execute()] Request: {\"query_type\": \"labelrow\", \"query_method\": \"GET\", \"values\": {\"uid\": \"262e2896-759e-4702-bc18-559ee21..\n",
      "[06/27/2021 08:29:23 PM] [INFO] [querier.py:97] [execute()] Request: {\"query_type\": \"labelrow\", \"query_method\": \"GET\", \"values\": {\"uid\": \"f5064d1d-6b7d-4cb2-89d6-4dce1d0..\n",
      "[06/27/2021 08:29:24 PM] [INFO] [querier.py:97] [execute()] Request: {\"query_type\": \"labelrow\", \"query_method\": \"GET\", \"values\": {\"uid\": \"1bbbc50d-3a1a-46b4-887a-257c09b..\n",
      "[06/27/2021 08:29:24 PM] [INFO] [querier.py:97] [execute()] Request: {\"query_type\": \"labelrow\", \"query_method\": \"GET\", \"values\": {\"uid\": \"e956a7b3-79b8-4419-8804-43b5d93..\n",
      "[06/27/2021 08:29:24 PM] [INFO] [querier.py:97] [execute()] Request: {\"query_type\": \"labelrow\", \"query_method\": \"GET\", \"values\": {\"uid\": \"b0d67547-d84b-4f4a-b1b1-618efe9..\n",
      "[06/27/2021 08:29:24 PM] [INFO] [querier.py:97] [execute()] Request: {\"query_type\": \"labelrow\", \"query_method\": \"GET\", \"values\": {\"uid\": \"3c12d264-f046-4d21-b6c7-c2b00d2..\n",
      "[06/27/2021 08:29:25 PM] [INFO] [querier.py:97] [execute()] Request: {\"query_type\": \"labelrow\", \"query_method\": \"GET\", \"values\": {\"uid\": \"60652e8c-58ce-44e5-953d-ba2cab9..\n",
      "[06/27/2021 08:29:25 PM] [INFO] [querier.py:97] [execute()] Request: {\"query_type\": \"labelrow\", \"query_method\": \"GET\", \"values\": {\"uid\": \"c3aca1c5-c2fc-4722-bd57-1ccde79..\n",
      "[06/27/2021 08:29:25 PM] [INFO] [querier.py:97] [execute()] Request: {\"query_type\": \"labelrow\", \"query_method\": \"GET\", \"values\": {\"uid\": \"5e8cd614-2ef3-43bd-a287-6fcfe71..\n",
      "[06/27/2021 08:29:26 PM] [INFO] [querier.py:97] [execute()] Request: {\"query_type\": \"labelrow\", \"query_method\": \"GET\", \"values\": {\"uid\": \"faa6b9a0-c4e5-4dc1-8621-7f18c6d..\n",
      "[06/27/2021 08:29:27 PM] [INFO] [querier.py:97] [execute()] Request: {\"query_type\": \"labelrow\", \"query_method\": \"GET\", \"values\": {\"uid\": \"dfef2edd-4467-4705-a38b-7c2e977..\n",
      "[06/27/2021 08:29:27 PM] [INFO] [querier.py:97] [execute()] Request: {\"query_type\": \"labelrow\", \"query_method\": \"GET\", \"values\": {\"uid\": \"40e1d646-e95e-4be2-b47b-0dc5838..\n",
      "[06/27/2021 08:29:27 PM] [INFO] [querier.py:97] [execute()] Request: {\"query_type\": \"labelrow\", \"query_method\": \"GET\", \"values\": {\"uid\": \"07018b5b-105d-4fe0-a921-134200c..\n",
      "[06/27/2021 08:29:27 PM] [INFO] [querier.py:97] [execute()] Request: {\"query_type\": \"labelrow\", \"query_method\": \"GET\", \"values\": {\"uid\": \"1fb0b609-f0f0-4100-b209-25af821..\n",
      "[06/27/2021 08:29:28 PM] [INFO] [querier.py:97] [execute()] Request: {\"query_type\": \"labelrow\", \"query_method\": \"GET\", \"values\": {\"uid\": \"dda43f0f-a858-448f-bba3-676a9a6..\n",
      "[06/27/2021 08:29:28 PM] [INFO] [querier.py:97] [execute()] Request: {\"query_type\": \"labelrow\", \"query_method\": \"GET\", \"values\": {\"uid\": \"3f100e46-39e1-41c0-9032-e057944..\n",
      "Folder Sample video 6.mp4 is not found in the Cord project, check folder/video names!\n",
      "[06/27/2021 08:29:28 PM] [INFO] [querier.py:97] [execute()] Request: {\"query_type\": \"labelrow\", \"query_method\": \"GET\", \"values\": {\"uid\": \"75958069-887a-4ca3-b763-78e4d9b..\n",
      "[06/27/2021 08:29:28 PM] [INFO] [querier.py:97] [execute()] Request: {\"query_type\": \"labelrow\", \"query_method\": \"GET\", \"values\": {\"uid\": \"2af49402-2e1a-4ec7-b61a-354928e..\n",
      "[06/27/2021 08:29:29 PM] [INFO] [querier.py:97] [execute()] Request: {\"query_type\": \"labelrow\", \"query_method\": \"GET\", \"values\": {\"uid\": \"5d2efd1e-f258-4467-bc5b-9619646..\n",
      "[06/27/2021 08:29:29 PM] [INFO] [querier.py:97] [execute()] Request: {\"query_type\": \"labelrow\", \"query_method\": \"GET\", \"values\": {\"uid\": \"6f01fac5-fd10-4101-be97-3e66e5e..\n",
      "[06/27/2021 08:29:29 PM] [INFO] [querier.py:97] [execute()] Request: {\"query_type\": \"labelrow\", \"query_method\": \"GET\", \"values\": {\"uid\": \"3eb74806-d0c0-4877-94ec-04c4f43..\n",
      "[06/27/2021 08:29:30 PM] [INFO] [querier.py:97] [execute()] Request: {\"query_type\": \"labelrow\", \"query_method\": \"GET\", \"values\": {\"uid\": \"1eaf7f25-5cf0-4ceb-aed2-413138a..\n",
      "[06/27/2021 08:29:30 PM] [INFO] [querier.py:97] [execute()] Request: {\"query_type\": \"labelrow\", \"query_method\": \"GET\", \"values\": {\"uid\": \"ea4bec48-7bc0-4b13-ad53-9dd2688..\n",
      "[06/27/2021 08:29:30 PM] [INFO] [querier.py:97] [execute()] Request: {\"query_type\": \"labelrow\", \"query_method\": \"GET\", \"values\": {\"uid\": \"081f8eb1-f3cc-485a-b96e-b30f922..\n",
      "[06/27/2021 08:29:31 PM] [INFO] [querier.py:97] [execute()] Request: {\"query_type\": \"labelrow\", \"query_method\": \"GET\", \"values\": {\"uid\": \"85fd736d-d2bf-4df1-b3f6-e1b436b..\n",
      "[06/27/2021 08:29:31 PM] [INFO] [querier.py:97] [execute()] Request: {\"query_type\": \"labelrow\", \"query_method\": \"GET\", \"values\": {\"uid\": \"dcfddc53-0adb-4eb1-9692-f5c8b90..\n",
      "[06/27/2021 08:29:31 PM] [INFO] [querier.py:97] [execute()] Request: {\"query_type\": \"labelrow\", \"query_method\": \"GET\", \"values\": {\"uid\": \"f8df8cf1-65eb-4c3e-bb52-e449dfc..\n",
      "[06/27/2021 08:29:31 PM] [INFO] [querier.py:97] [execute()] Request: {\"query_type\": \"labelrow\", \"query_method\": \"GET\", \"values\": {\"uid\": \"695ab999-01af-4f8a-8bc4-c175591..\n",
      "[06/27/2021 08:29:32 PM] [INFO] [querier.py:97] [execute()] Request: {\"query_type\": \"labelrow\", \"query_method\": \"GET\", \"values\": {\"uid\": \"c3bafc75-7218-41e7-a6a4-2a4f3d2..\n",
      "[06/27/2021 08:29:32 PM] [INFO] [querier.py:97] [execute()] Request: {\"query_type\": \"labelrow\", \"query_method\": \"GET\", \"values\": {\"uid\": \"2147e6dd-1d45-4a67-a077-dff8e54..\n",
      "[06/27/2021 08:29:32 PM] [INFO] [querier.py:97] [execute()] Request: {\"query_type\": \"labelrow\", \"query_method\": \"GET\", \"values\": {\"uid\": \"dfe832e8-6af9-4f7c-a75a-9ee1e0c..\n",
      "[06/27/2021 08:29:33 PM] [INFO] [querier.py:97] [execute()] Request: {\"query_type\": \"labelrow\", \"query_method\": \"GET\", \"values\": {\"uid\": \"efe6ab38-76da-4e99-a114-15f097b..\n",
      "[06/27/2021 08:29:33 PM] [INFO] [querier.py:97] [execute()] Request: {\"query_type\": \"labelrow\", \"query_method\": \"GET\", \"values\": {\"uid\": \"e8d1d3cc-12e0-48a1-8b11-67da609..\n",
      "[06/27/2021 08:29:33 PM] [INFO] [querier.py:97] [execute()] Request: {\"query_type\": \"labelrow\", \"query_method\": \"GET\", \"values\": {\"uid\": \"3b603af5-1bfe-4370-a912-ac66676..\n",
      "[06/27/2021 08:29:34 PM] [INFO] [querier.py:97] [execute()] Request: {\"query_type\": \"labelrow\", \"query_method\": \"GET\", \"values\": {\"uid\": \"e77cf29b-5543-44e0-83b1-afe59f9..\n",
      "[06/27/2021 08:29:34 PM] [INFO] [querier.py:97] [execute()] Request: {\"query_type\": \"labelrow\", \"query_method\": \"GET\", \"values\": {\"uid\": \"7a4b28fd-057a-497b-9ef8-9323342..\n",
      "[06/27/2021 08:29:34 PM] [INFO] [querier.py:97] [execute()] Request: {\"query_type\": \"labelrow\", \"query_method\": \"GET\", \"values\": {\"uid\": \"13dbf381-3f92-42a6-bae6-d7daf1c..\n",
      "[06/27/2021 08:29:34 PM] [INFO] [querier.py:97] [execute()] Request: {\"query_type\": \"labelrow\", \"query_method\": \"GET\", \"values\": {\"uid\": \"5b8d1ad5-4b12-49e2-80fd-6ab83e9..\n",
      "[06/27/2021 08:29:35 PM] [INFO] [querier.py:97] [execute()] Request: {\"query_type\": \"labelrow\", \"query_method\": \"GET\", \"values\": {\"uid\": \"b667a52f-a362-4f73-83cd-09dbdfd..\n",
      "[06/27/2021 08:29:35 PM] [INFO] [querier.py:97] [execute()] Request: {\"query_type\": \"labelrow\", \"query_method\": \"GET\", \"values\": {\"uid\": \"6e8ffc78-f041-4e56-acc3-a0f923e..\n",
      "[06/27/2021 08:29:36 PM] [INFO] [querier.py:97] [execute()] Request: {\"query_type\": \"labelrow\", \"query_method\": \"GET\", \"values\": {\"uid\": \"493714e2-8aee-4857-af69-8ca4bbd..\n",
      "[06/27/2021 08:29:36 PM] [INFO] [querier.py:97] [execute()] Request: {\"query_type\": \"labelrow\", \"query_method\": \"GET\", \"values\": {\"uid\": \"f5d7304a-8fa2-4fbd-9216-b3d48dd..\n",
      "[06/27/2021 08:29:36 PM] [INFO] [querier.py:97] [execute()] Request: {\"query_type\": \"labelrow\", \"query_method\": \"GET\", \"values\": {\"uid\": \"a7d650e1-c61c-4fb4-926e-70ed34c..\n",
      "[06/27/2021 08:29:36 PM] [INFO] [querier.py:97] [execute()] Request: {\"query_type\": \"labelrow\", \"query_method\": \"GET\", \"values\": {\"uid\": \"9d651522-de7b-4629-93e1-31360a0..\n",
      "[06/27/2021 08:29:37 PM] [INFO] [querier.py:97] [execute()] Request: {\"query_type\": \"labelrow\", \"query_method\": \"GET\", \"values\": {\"uid\": \"d01ba63f-edd4-4cd0-8ee2-301d65c..\n",
      "[06/27/2021 08:29:37 PM] [INFO] [querier.py:97] [execute()] Request: {\"query_type\": \"labelrow\", \"query_method\": \"GET\", \"values\": {\"uid\": \"dd6b649f-213a-4e2a-b74a-3a59631..\n",
      "[06/27/2021 08:29:38 PM] [INFO] [querier.py:97] [execute()] Request: {\"query_type\": \"labelrow\", \"query_method\": \"GET\", \"values\": {\"uid\": \"abfd6f75-f1ce-4fe5-a6ab-b83aaea..\n",
      "[06/27/2021 08:29:38 PM] [INFO] [querier.py:97] [execute()] Request: {\"query_type\": \"labelrow\", \"query_method\": \"GET\", \"values\": {\"uid\": \"5b28f14b-5f15-4968-af8c-206080b..\n",
      "[06/27/2021 08:29:38 PM] [INFO] [querier.py:97] [execute()] Request: {\"query_type\": \"labelrow\", \"query_method\": \"GET\", \"values\": {\"uid\": \"dd8a6b08-e015-4445-b7a5-162cc58..\n",
      "[06/27/2021 08:29:38 PM] [INFO] [querier.py:97] [execute()] Request: {\"query_type\": \"labelrow\", \"query_method\": \"GET\", \"values\": {\"uid\": \"c1af2385-e998-4d92-a4d6-198dc73..\n",
      "[06/27/2021 08:29:39 PM] [INFO] [querier.py:97] [execute()] Request: {\"query_type\": \"labelrow\", \"query_method\": \"GET\", \"values\": {\"uid\": \"902285cb-d3f8-47ea-8fa8-9d7fbcb..\n",
      "[06/27/2021 08:29:39 PM] [INFO] [querier.py:97] [execute()] Request: {\"query_type\": \"labelrow\", \"query_method\": \"GET\", \"values\": {\"uid\": \"6dd986f7-cc7b-4672-b426-07418b2..\n",
      "[06/27/2021 08:29:39 PM] [INFO] [querier.py:97] [execute()] Request: {\"query_type\": \"labelrow\", \"query_method\": \"GET\", \"values\": {\"uid\": \"cbb7af60-02ce-49bf-81b9-14d035a..\n",
      "[06/27/2021 08:29:40 PM] [INFO] [querier.py:97] [execute()] Request: {\"query_type\": \"labelrow\", \"query_method\": \"GET\", \"values\": {\"uid\": \"42c8384b-30ec-4c8e-aeb4-8513de6..\n",
      "[06/27/2021 08:29:40 PM] [INFO] [querier.py:97] [execute()] Request: {\"query_type\": \"labelrow\", \"query_method\": \"GET\", \"values\": {\"uid\": \"3820833a-f144-4174-ac48-bbfee7b..\n",
      "[06/27/2021 08:29:40 PM] [INFO] [querier.py:97] [execute()] Request: {\"query_type\": \"labelrow\", \"query_method\": \"GET\", \"values\": {\"uid\": \"81cfbd06-8f5c-4152-acf1-5fa86c2..\n",
      "[06/27/2021 08:29:41 PM] [INFO] [querier.py:97] [execute()] Request: {\"query_type\": \"labelrow\", \"query_method\": \"GET\", \"values\": {\"uid\": \"6c9bc334-4d3b-4afe-b7c5-db4a431..\n",
      "[06/27/2021 08:29:41 PM] [INFO] [querier.py:97] [execute()] Request: {\"query_type\": \"labelrow\", \"query_method\": \"GET\", \"values\": {\"uid\": \"099b28ab-37f9-4617-83fe-0b76201..\n",
      "[06/27/2021 08:29:41 PM] [INFO] [querier.py:97] [execute()] Request: {\"query_type\": \"labelrow\", \"query_method\": \"GET\", \"values\": {\"uid\": \"22cebf41-cf83-43de-a9b3-3a80a45..\n",
      "[06/27/2021 08:29:41 PM] [INFO] [querier.py:97] [execute()] Request: {\"query_type\": \"labelrow\", \"query_method\": \"GET\", \"values\": {\"uid\": \"38b0291d-f958-4ada-bae1-9900cc7..\n",
      "[06/27/2021 08:29:41 PM] [INFO] [querier.py:97] [execute()] Request: {\"query_type\": \"labelrow\", \"query_method\": \"GET\", \"values\": {\"uid\": \"f88cb164-9701-4345-8e6d-20656a1..\n",
      "[06/27/2021 08:29:42 PM] [INFO] [querier.py:97] [execute()] Request: {\"query_type\": \"labelrow\", \"query_method\": \"GET\", \"values\": {\"uid\": \"f29acc69-1aea-4223-8f09-c10cecf..\n",
      "[06/27/2021 08:29:42 PM] [INFO] [querier.py:97] [execute()] Request: {\"query_type\": \"labelrow\", \"query_method\": \"GET\", \"values\": {\"uid\": \"44bc1cde-535c-45c5-9a6f-540edc8..\n",
      "[06/27/2021 08:29:42 PM] [INFO] [querier.py:97] [execute()] Request: {\"query_type\": \"labelrow\", \"query_method\": \"GET\", \"values\": {\"uid\": \"2e22e0ec-bfb3-42ab-a0be-987a96d..\n",
      "[06/27/2021 08:29:42 PM] [INFO] [querier.py:97] [execute()] Request: {\"query_type\": \"labelrow\", \"query_method\": \"GET\", \"values\": {\"uid\": \"6fd3ce73-271f-4cda-9bac-4a01327..\n",
      "[06/27/2021 08:29:43 PM] [INFO] [querier.py:97] [execute()] Request: {\"query_type\": \"labelrow\", \"query_method\": \"GET\", \"values\": {\"uid\": \"ca8c4cae-7911-46cc-ab2b-356fe7a..\n",
      "[06/27/2021 08:29:43 PM] [INFO] [querier.py:97] [execute()] Request: {\"query_type\": \"labelrow\", \"query_method\": \"GET\", \"values\": {\"uid\": \"878fd8c7-f2ee-4756-a5b9-60fa334..\n",
      "[06/27/2021 08:29:43 PM] [INFO] [querier.py:97] [execute()] Request: {\"query_type\": \"labelrow\", \"query_method\": \"GET\", \"values\": {\"uid\": \"993d4eda-afe8-4464-9e40-a55ed4b..\n",
      "[06/27/2021 08:29:44 PM] [INFO] [querier.py:97] [execute()] Request: {\"query_type\": \"labelrow\", \"query_method\": \"GET\", \"values\": {\"uid\": \"4fce9ab8-d0cb-4ec7-a093-37f28f7..\n",
      "[06/27/2021 08:29:44 PM] [INFO] [querier.py:97] [execute()] Request: {\"query_type\": \"labelrow\", \"query_method\": \"GET\", \"values\": {\"uid\": \"eba11b0e-6057-4645-be92-0d358c3..\n",
      "[06/27/2021 08:29:44 PM] [INFO] [querier.py:97] [execute()] Request: {\"query_type\": \"labelrow\", \"query_method\": \"GET\", \"values\": {\"uid\": \"afd5d475-f97c-4004-b84d-f353bea..\n",
      "[06/27/2021 08:29:44 PM] [INFO] [querier.py:97] [execute()] Request: {\"query_type\": \"labelrow\", \"query_method\": \"GET\", \"values\": {\"uid\": \"812214e4-9363-415f-bf93-60552a7..\n",
      "[06/27/2021 08:29:45 PM] [INFO] [querier.py:97] [execute()] Request: {\"query_type\": \"labelrow\", \"query_method\": \"GET\", \"values\": {\"uid\": \"442297c7-338e-49be-9e23-67dc8fe..\n",
      "[06/27/2021 08:29:45 PM] [INFO] [querier.py:97] [execute()] Request: {\"query_type\": \"labelrow\", \"query_method\": \"GET\", \"values\": {\"uid\": \"4395d931-9fe3-44dc-9cff-4909c70..\n",
      "[06/27/2021 08:29:45 PM] [INFO] [querier.py:97] [execute()] Request: {\"query_type\": \"labelrow\", \"query_method\": \"GET\", \"values\": {\"uid\": \"d89efea1-2984-4c31-ba61-9f2f9a7..\n",
      "[06/27/2021 08:29:46 PM] [INFO] [querier.py:97] [execute()] Request: {\"query_type\": \"labelrow\", \"query_method\": \"GET\", \"values\": {\"uid\": \"22613826-90ba-4afb-98d0-ac260e7..\n",
      "[06/27/2021 08:29:46 PM] [INFO] [querier.py:97] [execute()] Request: {\"query_type\": \"labelrow\", \"query_method\": \"GET\", \"values\": {\"uid\": \"a2ffe937-26fe-4ff0-9d88-8d366a1..\n",
      "total labeled videos:  73\n",
      "['UC1-6.mp4', 'UC10-0.mp4', 'UC13-0.mp4', 'UC14-4.mp4', 'UC15-1.mp4', 'UC16-4.mp4', 'UC17-4.mp4', 'UC18-4.mp4', 'UC19-1.mp4', 'UC2-1.mp4', 'UC20-1.mp4', 'UC21-2.mp4', 'UC22-0.mp4', 'UC23-1.mp4', 'UC24-4.mp4', 'UC25-4.mp4', 'UC28-0.mp4', 'UC29-5.mp4', 'UC3-5.mp4', 'UC30-5.mp4', 'UC31-0.mp4', 'UC32-0.mp4', 'UC33-6.mp4', 'UC35-5.mp4', 'UC36-0.mp4', 'UC38-5.mp4', 'UC39-4.mp4', 'UC4-2.mp4', 'UC41-4.mp4', 'UC42-7.mp4', 'UC44-5.mp4', 'UC46-0.mp4', 'UC47-4.mp4', 'UC48-6.mp4', 'UC49-4.mp4', 'UC5-4.mp4', 'UC51-7.mp4', 'UC52-3.mp4', 'UC53-4.mp4', 'UC54-4.mp4', 'UC55-5.mp4', 'UC56-5.mp4', 'UC57-0.mp4', 'UC58-4.mp4', 'UC59-5.mp4', 'UC6-3.mp4', 'UC60-1.mp4', 'UC61-4.mp4', 'UC62-5.mp4', 'UC63-2.mp4', 'UC64-1.mp4', 'UC65-4.mp4', 'UC66-0.mp4', 'UC67-5.mp4', 'UC68-1.mp4', 'UC69-7.mp4', 'UC7-4.mp4', 'UC70-2.mp4', 'UC71-1.mp4', 'UC72-1.mp4', 'UC73-5.mp4', 'UC74-2.mp4', 'UC76-4.mp4', 'UC77-3.mp4', 'UC79-4.mp4', 'UC8-6.mp4', 'UC80-2.mp4', 'UC81-4.mp4', 'UC85-0.mp4', 'UC87-6.mp4', 'UC88-1.mp4', 'UC9-4.mp4', 'UC90-3.mp4']\n"
     ]
    }
   ],
   "source": [
    "frame_root =  \"../IBD/data_all_frames_540x960\"\n",
    "cord_project_ID = '499f6b35-de54-4e23-82ac-19420fabd3c0'\n",
    "cord_API_key = 'mt-zFQiptFF4ytFlfenYgbEbCTEXpkzJjMBcwGCBwyM'\n",
    "\n",
    "folders = [folder for folder in os.listdir(frame_root) if not folder.startswith(\".\")]\n",
    "dataset = UCEIS_cord(folders, frame_root, cord_project_ID, cord_API_key)\n",
    "\n",
    "print(\"total labeled videos: \", len(dataset.labeled_video_names))\n",
    "print(sorted(dataset.labeled_video_names))"
   ]
  },
  {
   "cell_type": "code",
   "execution_count": 31,
   "metadata": {},
   "outputs": [
    {
     "name": "stdout",
     "output_type": "stream",
     "text": [
      "device:  cuda:0\n"
     ]
    }
   ],
   "source": [
    "device = torch.device(\"cuda:0\" if torch.cuda.is_available() else \"cpu\")\n",
    "print(\"device: \", device)"
   ]
  },
  {
   "cell_type": "code",
   "execution_count": 32,
   "metadata": {},
   "outputs": [],
   "source": [
    "def write_results_to_file(subscore_vascular, subscore_bleeding, subscore_erosion, score_UCEIS, QWKs, acc_remissions, kappa_scores):\n",
    "    results = []\n",
    "    \n",
    "    results.append(\"subscore_vascular: \" + str(subscore_vascular))\n",
    "    results.append(\"subscore_vascular mean: \" + str(mean(subscore_vascular)))\n",
    "    results.append(\"\")\n",
    "    \n",
    "    results.append(\"subscore_bleeding: \" + str(subscore_bleeding))\n",
    "    results.append(\"subscore_bleeding mean: \" + str(mean(subscore_bleeding)))\n",
    "    results.append(\"\")\n",
    "    \n",
    "    results.append(\"subscore_erosion: \" + str(subscore_erosion))\n",
    "    results.append(\"subscore_erosion mean: \" + str(mean(subscore_erosion)))\n",
    "    results.append(\"\")\n",
    "\n",
    "    results.append(\"score_UCEIS: \" + str(score_UCEIS))\n",
    "    results.append(\"score_UCEIS mean: \" + str(mean(score_UCEIS)))\n",
    "    results.append(\"\")\n",
    "\n",
    "    results.append(\"QWKs: \" + str(QWKs))\n",
    "    results.append(\"QWKs mean: \" + str(mean(QWKs)))\n",
    "    results.append(\"\")\n",
    "\n",
    "    results.append(\"acc_remissions: \" + str(acc_remissions))\n",
    "    results.append(\"acc_remissions mean: \" + str(mean(acc_remissions)))\n",
    "    results.append(\"\")\n",
    "\n",
    "    results.append(\"kappa_scores: \" + str(kappa_scores))\n",
    "    results.append(\"kappa_scores mean: \" + str(mean(kappa_scores)))\n",
    "    results.append(\"\")\n",
    "    \n",
    "    results_separated = map(lambda x: x + \"\\n\", results)\n",
    "    file = open(os.path.join(wandb.run.dir, \"results.txt\"), \"w\")\n",
    "    file.writelines(results_separated)\n",
    "    file.close()"
   ]
  },
  {
   "cell_type": "code",
   "execution_count": 33,
   "metadata": {},
   "outputs": [],
   "source": [
    "def train(model, device, train_loader, criterion, optimizer):\n",
    "    model.train()\n",
    "    training_loss = 0.0\n",
    "    correct_subscores = 0\n",
    "    correct_UCEIS = 0\n",
    "\n",
    "    for data, target in train_loader:\n",
    "        data, target = data.to(device), target.to(device)\n",
    "        target.transpose_(0, 1)\n",
    "        \n",
    "        output = model(data)\n",
    "        loss = criterion(output, target)\n",
    "        optimizer.zero_grad()\n",
    "        loss.backward()\n",
    "        optimizer.step()\n",
    "        correct_subscores += true_predictions(output, target)\n",
    "        correct_UCEIS += true_predictions_UCEIS(output, target)\n",
    "\n",
    "        training_loss += loss.item()\n",
    "\n",
    "    training_loss /= len(train_loader)\n",
    "    correct_subscores /= (len(train_loader.dataset) * 3)\n",
    "    correct_UCEIS /= len(train_loader.dataset)\n",
    "\n",
    "    return (training_loss, correct_subscores, correct_UCEIS)\n",
    "\n",
    "def validation(model, device, val_loader, criterion):\n",
    "    model.eval()\n",
    "    val_loss = 0.0\n",
    "    correct_subscores = 0\n",
    "    correct_UCEIS = 0\n",
    "\n",
    "    with torch.no_grad():\n",
    "        for data, target, in val_loader:\n",
    "            data, target = data.to(device), target.to(device)\n",
    "            target.transpose_(0, 1)\n",
    "\n",
    "            output = model(data)\n",
    "            loss = criterion(output, target)\n",
    "            correct_subscores += true_predictions(output, target)\n",
    "            correct_UCEIS += true_predictions_UCEIS(output, target)\n",
    "\n",
    "            val_loss += loss.item()\n",
    "\n",
    "        val_loss /= len(val_loader)\n",
    "        correct_subscores /= (len(val_loader.dataset) * 3)\n",
    "        correct_UCEIS /= len(val_loader.dataset)\n",
    "\n",
    "        return (val_loss, correct_subscores, correct_UCEIS)"
   ]
  },
  {
   "cell_type": "code",
   "execution_count": 34,
   "metadata": {},
   "outputs": [],
   "source": [
    "def run_experiment(experiment_id, train_folders, val_folders, normalize, best_acc, early_stop_counter):\n",
    "        \n",
    "    train_transform = transforms.Compose([transforms.RandomResizedCrop((540, 960), scale=(0.5, 1.5), ratio=(0.75, 1.33)),\n",
    "                                          transforms.RandomHorizontalFlip(),\n",
    "                                          transforms.RandomRotation((-180, 180)),\n",
    "                                          transforms.ToTensor(),\n",
    "                                          normalize])\n",
    "       \n",
    "    val_transform = transforms.Compose([transforms.ToTensor(),\n",
    "                                        normalize])\n",
    "    \n",
    "    train_dataset = UCEIS_cord(train_folders, frame_root, cord_project_ID, cord_API_key, transform=train_transform)\n",
    "    val_dataset = UCEIS_cord(val_folders, frame_root, cord_project_ID, cord_API_key, transform=val_transform)\n",
    "\n",
    "    train_loader = torch.utils.data.DataLoader(train_dataset, batch_size=batch_size, shuffle=True,\n",
    "                                               num_workers=num_worker,\n",
    "                                               pin_memory=True)\n",
    "    val_loader = torch.utils.data.DataLoader(val_dataset, batch_size=batch_size, shuffle=False, num_workers=num_worker,\n",
    "                                             pin_memory=True)\n",
    "    \n",
    "    print(\"Images in train set: \", len(train_dataset))\n",
    "    print(\"Images in val set: \", len(val_dataset))\n",
    "    \n",
    "    if model_name == \"ResNet18\":\n",
    "        model = resnet.resnet18(pretrained=True, num_classes=[3, 4, 4])\n",
    "    elif model_name == \"ResNet34\":\n",
    "        model = resnet.resnet34(pretrained=True, num_classes=[3, 4, 4])\n",
    "    elif model_name == \"ResNet50\":\n",
    "        model = resnet.resnet50(pretrained=True, num_classes=[3, 4, 4])\n",
    "    elif model_name == \"DenseNet201\":\n",
    "        model = densenet.densenet201(pretrained=True, num_classes=[3, 4, 4])\n",
    "    elif model_name == \"DenseNet121\":\n",
    "        model = densenet.densenet121(pretrained=True, num_classes=[3, 4, 4])\n",
    "\n",
    "    model.to(device)\n",
    "\n",
    "    criterion = multitask_CE()\n",
    "    optimizer = torch.optim.Adam(model.parameters(), lr=learning_rate, weight_decay=weight_decay)\n",
    "    scheduler = lr_scheduler.ReduceLROnPlateau(optimizer, mode=\"max\", factor=0.2, patience=scheduler_patience, threshold=best_threshold,\n",
    "                                               verbose=True)\n",
    "\n",
    "    experiment_signature = str(model_name) + \" ID=\" + str(experiment_id) + \" lr=\" + str(learning_rate) + \" reg=\" + str(weight_decay) + \" bs=\" + str(batch_size)    \n",
    "    print(\"model: \" + experiment_signature + \" worker: \" + str(num_worker))\n",
    "    \n",
    "    last_epoch = 0\n",
    "    for epoch in tqdm(range(num_epoch)):        \n",
    "        last_epoch = epoch\n",
    "\n",
    "        train_loss, train_accuracy_subscore, train_accuracy_UCEIS = train(model, device, train_loader, criterion, optimizer)\n",
    "        val_loss, val_accuracy_subscore, val_accuracy_UCEIS = validation(model, device, val_loader, criterion)\n",
    "        scheduler.step(val_accuracy_UCEIS)\n",
    "        \n",
    "        if enable_wandb:\n",
    "            wandb.log(\n",
    "                    {\"epoch\"     : epoch + 1,\n",
    "                     \"lr\"        : optimizer.param_groups[0]['lr'],\n",
    "                     'train loss': train_loss,\n",
    "                     'val loss'  : val_loss,\n",
    "                     'train acc subscore' : train_accuracy_subscore,\n",
    "                     'val acc subscore'   : val_accuracy_subscore,\n",
    "                     'train acc UCEIS' : train_accuracy_UCEIS,\n",
    "                     'val acc UCEIS'   : val_accuracy_UCEIS})\n",
    "        \n",
    "        if (val_accuracy_UCEIS > best_acc * (1 + best_threshold)):\n",
    "            early_stop_counter = 0\n",
    "            best_acc = val_accuracy_UCEIS\n",
    "            if enable_wandb:\n",
    "                wandb.run.summary[\"best accuracy UCEIS\"] = best_acc            \n",
    "            torch.save(model.state_dict(), \"weights/4_best_\" + model_name + '_' + str(experiment_id) +'.pth.tar')\n",
    "        else:\n",
    "            early_stop_counter += 1\n",
    "\n",
    "        if early_stop_counter >= early_stopping_thresh:\n",
    "            print(\"Early stopping at: \" + str(epoch))\n",
    "            break\n",
    "\n",
    "    print(\"Fold: \" + str(experiment_id) + \", best validation set accuracy: \" + str(best_acc))"
   ]
  },
  {
   "cell_type": "code",
   "execution_count": 35,
   "metadata": {},
   "outputs": [],
   "source": [
    "def get_test_results(experiment_id, test_folders, normalize):\n",
    "    test_transform = transforms.Compose([transforms.ToTensor(),\n",
    "                                         normalize])\n",
    "\n",
    "    test_dataset = UCEIS_cord(test_folders, frame_root, cord_project_ID, cord_API_key, transform=test_transform)\n",
    "    test_loader = torch.utils.data.DataLoader(test_dataset, batch_size=1, shuffle=False, num_workers=num_worker,\n",
    "                                              pin_memory=True)\n",
    "    \n",
    "    print(\"Images in val set: \", len(test_dataset))\n",
    "    \n",
    "    state_dict_name = \"weights/4_best_\" + model_name + '_' + str(experiment_id) +'.pth.tar'\n",
    "    if model_name == \"ResNet18\":\n",
    "        model = resnet.resnet18(num_classes=[3, 4, 4])\n",
    "    elif model_name == \"ResNet34\":\n",
    "        model = resnet.resnet34(num_classes=[3, 4, 4])\n",
    "    elif model_name == \"ResNet50\":\n",
    "        model = resnet.resnet50(num_classes=[3, 4, 4])\n",
    "    elif model_name == \"DenseNet201\":\n",
    "        model = densenet.densenet201(num_classes=[3, 4, 4])\n",
    "    elif model_name == \"DenseNet121\":\n",
    "        model = densenet.densenet121(num_classes=[3, 4, 4])\n",
    "\n",
    "    model.load_state_dict(torch.load(state_dict_name, map_location=device))\n",
    "    model.to(device)\n",
    "    model.eval()\n",
    "    \n",
    "    y_true_UCEIS = []\n",
    "    y_true_vascular = []\n",
    "    y_true_bleeding = []\n",
    "    y_true_erosion = []\n",
    "\n",
    "    y_pred_UCEIS = []\n",
    "    y_pred_vascular = []\n",
    "    y_pred_bleeding = []\n",
    "    y_pred_erosion = []\n",
    "\n",
    "    with torch.no_grad():\n",
    "        for id, (data, target) in enumerate(test_loader):\n",
    "            data, target = data.to(device), target.to(device)\n",
    "            target.transpose_(0, 1)\n",
    "\n",
    "            y_true_vascular.append(target[0].item())\n",
    "            y_true_bleeding.append(target[1].item())\n",
    "            y_true_erosion.append(target[2].item())\n",
    "            y_true_UCEIS.append(target.sum().item())\n",
    "\n",
    "            output = model(data)\n",
    "\n",
    "            prediction_0 = output[0].argmax(dim=1, keepdim=True)[0][0].item()\n",
    "            y_pred_vascular.append(prediction_0)\n",
    "\n",
    "            prediction_1 = output[1].argmax(dim=1, keepdim=True)[0][0].item()\n",
    "            y_pred_bleeding.append(prediction_1)\n",
    "\n",
    "            prediction_2 = output[2].argmax(dim=1, keepdim=True)[0][0].item()\n",
    "            y_pred_erosion.append(prediction_2)\n",
    "\n",
    "            y_pred_UCEIS.append(prediction_0 + prediction_1 + prediction_2)\n",
    "    \n",
    "    # Scores\n",
    "    accuracy_vascular = accuracy_score(y_true_vascular, y_pred_vascular)\n",
    "    accuracy_bleeding = accuracy_score(y_true_bleeding, y_pred_bleeding)\n",
    "    accuracy_erosion = accuracy_score(y_true_erosion, y_pred_erosion)\n",
    "    accuracy_UCEIS = accuracy_score(y_true_UCEIS, y_pred_UCEIS)\n",
    "    \n",
    "    quadratic_kappa_score = cohen_kappa_score(y_true_UCEIS, y_pred_UCEIS, weights=\"quadratic\")\n",
    "    \n",
    "    y_true_remission = convert_multiclass_to_binary_class(y_true_UCEIS)\n",
    "    y_pred_remission = convert_multiclass_to_binary_class(y_pred_UCEIS)\n",
    "    accuracy_UCEIS_remission = accuracy_score(y_true_remission, y_pred_remission)\n",
    "    \n",
    "    kappa_score = cohen_kappa_score(y_true_remission, y_pred_remission)\n",
    "    \n",
    "    \n",
    "    return accuracy_vascular, accuracy_bleeding, accuracy_erosion, accuracy_UCEIS, quadratic_kappa_score, accuracy_UCEIS_remission, kappa_score"
   ]
  },
  {
   "cell_type": "code",
   "execution_count": 36,
   "metadata": {},
   "outputs": [
    {
     "name": "stdout",
     "output_type": "stream",
     "text": [
      "\n",
      "Fold  1\n",
      "Train folders: ['UC7-4.mp4', 'UC52-3.mp4', 'UC8-6.mp4', 'UC58-4.mp4', 'UC36-0.mp4', 'UC51-7.mp4', 'UC81-4.mp4', 'UC62-5.mp4', 'UC73-5.mp4', 'UC39-4.mp4', 'UC2-1.mp4', 'UC9-4.mp4', 'UC63-2.mp4', 'UC22-0.mp4', 'UC15-1.mp4', 'UC18-4.mp4', 'UC87-6.mp4', 'UC76-4.mp4', 'UC4-2.mp4', 'UC17-4.mp4', 'UC42-7.mp4', 'UC72-1.mp4', 'UC49-4.mp4', 'UC70-2.mp4', 'UC80-2.mp4', 'UC5-4.mp4', 'UC77-3.mp4', 'UC23-1.mp4', 'UC21-2.mp4', 'UC66-0.mp4', 'UC41-4.mp4', 'UC48-6.mp4', 'UC90-3.mp4', 'UC3-5.mp4', 'UC64-1.mp4', 'UC35-5.mp4', 'UC65-4.mp4', 'UC44-5.mp4', 'UC47-4.mp4', 'UC85-0.mp4', 'UC24-4.mp4', 'UC30-5.mp4', 'UC57-0.mp4', 'UC13-0.mp4', 'UC88-1.mp4', 'UC38-5.mp4', 'UC46-0.mp4', 'UC68-1.mp4', 'UC20-1.mp4', 'UC10-0.mp4', 'UC53-4.mp4', 'UC14-4.mp4', 'UC60-1.mp4', 'UC25-4.mp4', 'UC74-2.mp4', 'UC79-4.mp4', 'UC31-0.mp4', 'UC54-4.mp4']\n",
      "Val folders: ['UC69-7.mp4' 'UC61-4.mp4' 'UC71-1.mp4' 'UC29-5.mp4' 'UC16-4.mp4'\n",
      " 'UC67-5.mp4' 'UC19-1.mp4' 'UC55-5.mp4' 'UC28-0.mp4' 'UC1-6.mp4'\n",
      " 'UC59-5.mp4' 'UC32-0.mp4' 'UC6-3.mp4' 'UC33-6.mp4' 'UC56-5.mp4']\n",
      "\n",
      "Fold  2\n",
      "Train folders: ['UC69-7.mp4', 'UC61-4.mp4', 'UC71-1.mp4', 'UC29-5.mp4', 'UC16-4.mp4', 'UC67-5.mp4', 'UC19-1.mp4', 'UC55-5.mp4', 'UC28-0.mp4', 'UC1-6.mp4', 'UC59-5.mp4', 'UC32-0.mp4', 'UC6-3.mp4', 'UC33-6.mp4', 'UC56-5.mp4', 'UC18-4.mp4', 'UC87-6.mp4', 'UC76-4.mp4', 'UC4-2.mp4', 'UC17-4.mp4', 'UC42-7.mp4', 'UC72-1.mp4', 'UC49-4.mp4', 'UC70-2.mp4', 'UC80-2.mp4', 'UC5-4.mp4', 'UC77-3.mp4', 'UC23-1.mp4', 'UC21-2.mp4', 'UC66-0.mp4', 'UC41-4.mp4', 'UC48-6.mp4', 'UC90-3.mp4', 'UC3-5.mp4', 'UC64-1.mp4', 'UC35-5.mp4', 'UC65-4.mp4', 'UC44-5.mp4', 'UC47-4.mp4', 'UC85-0.mp4', 'UC24-4.mp4', 'UC30-5.mp4', 'UC57-0.mp4', 'UC13-0.mp4', 'UC88-1.mp4', 'UC38-5.mp4', 'UC46-0.mp4', 'UC68-1.mp4', 'UC20-1.mp4', 'UC10-0.mp4', 'UC53-4.mp4', 'UC14-4.mp4', 'UC60-1.mp4', 'UC25-4.mp4', 'UC74-2.mp4', 'UC79-4.mp4', 'UC31-0.mp4', 'UC54-4.mp4']\n",
      "Val folders: ['UC7-4.mp4' 'UC52-3.mp4' 'UC8-6.mp4' 'UC58-4.mp4' 'UC36-0.mp4'\n",
      " 'UC51-7.mp4' 'UC81-4.mp4' 'UC62-5.mp4' 'UC73-5.mp4' 'UC39-4.mp4'\n",
      " 'UC2-1.mp4' 'UC9-4.mp4' 'UC63-2.mp4' 'UC22-0.mp4' 'UC15-1.mp4']\n",
      "\n",
      "Fold  3\n",
      "Train folders: ['UC69-7.mp4', 'UC61-4.mp4', 'UC71-1.mp4', 'UC29-5.mp4', 'UC16-4.mp4', 'UC67-5.mp4', 'UC19-1.mp4', 'UC55-5.mp4', 'UC28-0.mp4', 'UC1-6.mp4', 'UC59-5.mp4', 'UC32-0.mp4', 'UC6-3.mp4', 'UC33-6.mp4', 'UC56-5.mp4', 'UC7-4.mp4', 'UC52-3.mp4', 'UC8-6.mp4', 'UC58-4.mp4', 'UC36-0.mp4', 'UC51-7.mp4', 'UC81-4.mp4', 'UC62-5.mp4', 'UC73-5.mp4', 'UC39-4.mp4', 'UC2-1.mp4', 'UC9-4.mp4', 'UC63-2.mp4', 'UC22-0.mp4', 'UC15-1.mp4', 'UC41-4.mp4', 'UC48-6.mp4', 'UC90-3.mp4', 'UC3-5.mp4', 'UC64-1.mp4', 'UC35-5.mp4', 'UC65-4.mp4', 'UC44-5.mp4', 'UC47-4.mp4', 'UC85-0.mp4', 'UC24-4.mp4', 'UC30-5.mp4', 'UC57-0.mp4', 'UC13-0.mp4', 'UC88-1.mp4', 'UC38-5.mp4', 'UC46-0.mp4', 'UC68-1.mp4', 'UC20-1.mp4', 'UC10-0.mp4', 'UC53-4.mp4', 'UC14-4.mp4', 'UC60-1.mp4', 'UC25-4.mp4', 'UC74-2.mp4', 'UC79-4.mp4', 'UC31-0.mp4', 'UC54-4.mp4']\n",
      "Val folders: ['UC18-4.mp4' 'UC87-6.mp4' 'UC76-4.mp4' 'UC4-2.mp4' 'UC17-4.mp4'\n",
      " 'UC42-7.mp4' 'UC72-1.mp4' 'UC49-4.mp4' 'UC70-2.mp4' 'UC80-2.mp4'\n",
      " 'UC5-4.mp4' 'UC77-3.mp4' 'UC23-1.mp4' 'UC21-2.mp4' 'UC66-0.mp4']\n",
      "\n",
      "Fold  4\n",
      "Train folders: ['UC69-7.mp4', 'UC61-4.mp4', 'UC71-1.mp4', 'UC29-5.mp4', 'UC16-4.mp4', 'UC67-5.mp4', 'UC19-1.mp4', 'UC55-5.mp4', 'UC28-0.mp4', 'UC1-6.mp4', 'UC59-5.mp4', 'UC32-0.mp4', 'UC6-3.mp4', 'UC33-6.mp4', 'UC56-5.mp4', 'UC7-4.mp4', 'UC52-3.mp4', 'UC8-6.mp4', 'UC58-4.mp4', 'UC36-0.mp4', 'UC51-7.mp4', 'UC81-4.mp4', 'UC62-5.mp4', 'UC73-5.mp4', 'UC39-4.mp4', 'UC2-1.mp4', 'UC9-4.mp4', 'UC63-2.mp4', 'UC22-0.mp4', 'UC15-1.mp4', 'UC18-4.mp4', 'UC87-6.mp4', 'UC76-4.mp4', 'UC4-2.mp4', 'UC17-4.mp4', 'UC42-7.mp4', 'UC72-1.mp4', 'UC49-4.mp4', 'UC70-2.mp4', 'UC80-2.mp4', 'UC5-4.mp4', 'UC77-3.mp4', 'UC23-1.mp4', 'UC21-2.mp4', 'UC66-0.mp4', 'UC88-1.mp4', 'UC38-5.mp4', 'UC46-0.mp4', 'UC68-1.mp4', 'UC20-1.mp4', 'UC10-0.mp4', 'UC53-4.mp4', 'UC14-4.mp4', 'UC60-1.mp4', 'UC25-4.mp4', 'UC74-2.mp4', 'UC79-4.mp4', 'UC31-0.mp4', 'UC54-4.mp4']\n",
      "Val folders: ['UC41-4.mp4' 'UC48-6.mp4' 'UC90-3.mp4' 'UC3-5.mp4' 'UC64-1.mp4'\n",
      " 'UC35-5.mp4' 'UC65-4.mp4' 'UC44-5.mp4' 'UC47-4.mp4' 'UC85-0.mp4'\n",
      " 'UC24-4.mp4' 'UC30-5.mp4' 'UC57-0.mp4' 'UC13-0.mp4']\n",
      "\n",
      "Fold  5\n",
      "Train folders: ['UC69-7.mp4', 'UC61-4.mp4', 'UC71-1.mp4', 'UC29-5.mp4', 'UC16-4.mp4', 'UC67-5.mp4', 'UC19-1.mp4', 'UC55-5.mp4', 'UC28-0.mp4', 'UC1-6.mp4', 'UC59-5.mp4', 'UC32-0.mp4', 'UC6-3.mp4', 'UC33-6.mp4', 'UC56-5.mp4', 'UC7-4.mp4', 'UC52-3.mp4', 'UC8-6.mp4', 'UC58-4.mp4', 'UC36-0.mp4', 'UC51-7.mp4', 'UC81-4.mp4', 'UC62-5.mp4', 'UC73-5.mp4', 'UC39-4.mp4', 'UC2-1.mp4', 'UC9-4.mp4', 'UC63-2.mp4', 'UC22-0.mp4', 'UC15-1.mp4', 'UC18-4.mp4', 'UC87-6.mp4', 'UC76-4.mp4', 'UC4-2.mp4', 'UC17-4.mp4', 'UC42-7.mp4', 'UC72-1.mp4', 'UC49-4.mp4', 'UC70-2.mp4', 'UC80-2.mp4', 'UC5-4.mp4', 'UC77-3.mp4', 'UC23-1.mp4', 'UC21-2.mp4', 'UC66-0.mp4', 'UC41-4.mp4', 'UC48-6.mp4', 'UC90-3.mp4', 'UC3-5.mp4', 'UC64-1.mp4', 'UC35-5.mp4', 'UC65-4.mp4', 'UC44-5.mp4', 'UC47-4.mp4', 'UC85-0.mp4', 'UC24-4.mp4', 'UC30-5.mp4', 'UC57-0.mp4', 'UC13-0.mp4']\n",
      "Val folders: ['UC88-1.mp4' 'UC38-5.mp4' 'UC46-0.mp4' 'UC68-1.mp4' 'UC20-1.mp4'\n",
      " 'UC10-0.mp4' 'UC53-4.mp4' 'UC14-4.mp4' 'UC60-1.mp4' 'UC25-4.mp4'\n",
      " 'UC74-2.mp4' 'UC79-4.mp4' 'UC31-0.mp4' 'UC54-4.mp4']\n"
     ]
    }
   ],
   "source": [
    "number_of_experiments = 5\n",
    "\n",
    "train_folders_list = []\n",
    "val_folders_list = []\n",
    "\n",
    "labeled_videos = dataset.labeled_video_names \n",
    "\n",
    "shuffle(labeled_videos)\n",
    "video_folds = np.array_split(labeled_videos, number_of_experiments)\n",
    "\n",
    "for i in range(number_of_experiments):\n",
    "    # Get train videos\n",
    "    selected_folds = []\n",
    "    for k in range(number_of_experiments):\n",
    "        if k != i:\n",
    "            selected_folds.extend(video_folds[k])\n",
    "    train_folders_list.append(selected_folds)\n",
    "    \n",
    "    # Get val videos\n",
    "    val_folders_list.append(video_folds[i])\n",
    "    \n",
    "    print(\"\\nFold \", i+1)\n",
    "    print(\"Train folders: \"+str(train_folders_list[i]))\n",
    "    print(\"Val folders: \"+str(val_folders_list[i]))        "
   ]
  },
  {
   "cell_type": "code",
   "execution_count": null,
   "metadata": {},
   "outputs": [
    {
     "data": {
      "text/html": [
       "Finishing last run (ID:1rkqx0qb) before initializing another..."
      ],
      "text/plain": [
       "<IPython.core.display.HTML object>"
      ]
     },
     "metadata": {},
     "output_type": "display_data"
    },
    {
     "data": {
      "text/html": [
       "<br/>Waiting for W&B process to finish, PID 6582<br/>Program ended successfully."
      ],
      "text/plain": [
       "<IPython.core.display.HTML object>"
      ]
     },
     "metadata": {},
     "output_type": "display_data"
    },
    {
     "data": {
      "text/html": [
       "Find user logs for this run at: <code>/home/jupyter/gi/Colab Notebooks/wandb/offline-run-20210627_195539-1rkqx0qb/logs/debug.log</code>"
      ],
      "text/plain": [
       "<IPython.core.display.HTML object>"
      ]
     },
     "metadata": {},
     "output_type": "display_data"
    },
    {
     "data": {
      "text/html": [
       "Find internal logs for this run at: <code>/home/jupyter/gi/Colab Notebooks/wandb/offline-run-20210627_195539-1rkqx0qb/logs/debug-internal.log</code>"
      ],
      "text/plain": [
       "<IPython.core.display.HTML object>"
      ]
     },
     "metadata": {},
     "output_type": "display_data"
    },
    {
     "name": "stderr",
     "output_type": "stream",
     "text": [
      "\u001b[34m\u001b[1mwandb\u001b[0m: You can sync this run to the cloud by running:\n",
      "\u001b[34m\u001b[1mwandb\u001b[0m: \u001b[33mwandb sync /home/jupyter/gi/Colab Notebooks/wandb/offline-run-20210627_195539-1rkqx0qb\u001b[0m\n"
     ]
    },
    {
     "data": {
      "text/html": [
       "...Successfully finished last run (ID:1rkqx0qb). Initializing new run:<br/><br/>"
      ],
      "text/plain": [
       "<IPython.core.display.HTML object>"
      ]
     },
     "metadata": {},
     "output_type": "display_data"
    },
    {
     "name": "stderr",
     "output_type": "stream",
     "text": [
      "\u001b[34m\u001b[1mwandb\u001b[0m: W&B syncing is set to `offline` in this directory.  Run `wandb online` or set WANDB_MODE=online to enable cloud syncing.\n",
      "\u001b[34m\u001b[1mwandb\u001b[0m: \u001b[33mWARNING\u001b[0m Calling run.save without any arguments is deprecated.Changes to attributes are automatically persisted.\n"
     ]
    },
    {
     "name": "stdout",
     "output_type": "stream",
     "text": [
      "\n",
      "--------------> Starting Fold 1\n",
      "[06/27/2021 08:29:53 PM] [INFO] [configs.py:65] [__init__()] Initialising Cord client with endpoint: https://api.cord.tech/public and resource_id: 499f6b35-de54-4e23-82ac-19420fabd3c0\n",
      "[06/27/2021 08:29:53 PM] [INFO] [querier.py:97] [execute()] Request: {\"query_type\": \"apikeymeta\", \"query_method\": \"GET\", \"values\": {\"uid\": null, \"payload\": null}}\n",
      "[06/27/2021 08:29:53 PM] [INFO] [client.py:111] [initialise_with_config()] Initialising Cord client for project using key: New read key\n",
      "[06/27/2021 08:29:53 PM] [INFO] [querier.py:97] [execute()] Request: {\"query_type\": \"project\", \"query_method\": \"GET\", \"values\": {\"uid\": null, \"payload\": null}}\n",
      "[06/27/2021 08:29:53 PM] [INFO] [querier.py:97] [execute()] Request: {\"query_type\": \"labelrow\", \"query_method\": \"GET\", \"values\": {\"uid\": \"dfef2edd-4467-4705-a38b-7c2e977..\n",
      "[06/27/2021 08:29:53 PM] [INFO] [querier.py:97] [execute()] Request: {\"query_type\": \"labelrow\", \"query_method\": \"GET\", \"values\": {\"uid\": \"e21d53b3-e89a-4ff7-a398-74b19a1..\n",
      "[06/27/2021 08:29:54 PM] [INFO] [querier.py:97] [execute()] Request: {\"query_type\": \"labelrow\", \"query_method\": \"GET\", \"values\": {\"uid\": \"3b603af5-1bfe-4370-a912-ac66676..\n",
      "[06/27/2021 08:29:54 PM] [INFO] [querier.py:97] [execute()] Request: {\"query_type\": \"labelrow\", \"query_method\": \"GET\", \"values\": {\"uid\": \"442297c7-338e-49be-9e23-67dc8fe..\n",
      "[06/27/2021 08:29:55 PM] [INFO] [querier.py:97] [execute()] Request: {\"query_type\": \"labelrow\", \"query_method\": \"GET\", \"values\": {\"uid\": \"262e2896-759e-4702-bc18-559ee21..\n",
      "[06/27/2021 08:29:55 PM] [INFO] [querier.py:97] [execute()] Request: {\"query_type\": \"labelrow\", \"query_method\": \"GET\", \"values\": {\"uid\": \"85fd736d-d2bf-4df1-b3f6-e1b436b..\n",
      "[06/27/2021 08:29:55 PM] [INFO] [querier.py:97] [execute()] Request: {\"query_type\": \"labelrow\", \"query_method\": \"GET\", \"values\": {\"uid\": \"e8d1d3cc-12e0-48a1-8b11-67da609..\n",
      "[06/27/2021 08:29:55 PM] [INFO] [querier.py:97] [execute()] Request: {\"query_type\": \"labelrow\", \"query_method\": \"GET\", \"values\": {\"uid\": \"1bbbc50d-3a1a-46b4-887a-257c09b..\n",
      "[06/27/2021 08:29:55 PM] [INFO] [querier.py:97] [execute()] Request: {\"query_type\": \"labelrow\", \"query_method\": \"GET\", \"values\": {\"uid\": \"3c12d264-f046-4d21-b6c7-c2b00d2..\n",
      "[06/27/2021 08:29:56 PM] [INFO] [querier.py:97] [execute()] Request: {\"query_type\": \"labelrow\", \"query_method\": \"GET\", \"values\": {\"uid\": \"081f8eb1-f3cc-485a-b96e-b30f922..\n",
      "[06/27/2021 08:29:56 PM] [INFO] [querier.py:97] [execute()] Request: {\"query_type\": \"labelrow\", \"query_method\": \"GET\", \"values\": {\"uid\": \"878fd8c7-f2ee-4756-a5b9-60fa334..\n",
      "[06/27/2021 08:29:56 PM] [INFO] [querier.py:97] [execute()] Request: {\"query_type\": \"labelrow\", \"query_method\": \"GET\", \"values\": {\"uid\": \"c1af2385-e998-4d92-a4d6-198dc73..\n",
      "[06/27/2021 08:29:57 PM] [INFO] [querier.py:97] [execute()] Request: {\"query_type\": \"labelrow\", \"query_method\": \"GET\", \"values\": {\"uid\": \"60652e8c-58ce-44e5-953d-ba2cab9..\n",
      "[06/27/2021 08:29:57 PM] [INFO] [querier.py:97] [execute()] Request: {\"query_type\": \"labelrow\", \"query_method\": \"GET\", \"values\": {\"uid\": \"22cebf41-cf83-43de-a9b3-3a80a45..\n",
      "[06/27/2021 08:29:57 PM] [INFO] [querier.py:97] [execute()] Request: {\"query_type\": \"labelrow\", \"query_method\": \"GET\", \"values\": {\"uid\": \"75d7a2d5-0cad-46f4-9f4c-cfa0102..\n",
      "[06/27/2021 08:29:57 PM] [INFO] [querier.py:97] [execute()] Request: {\"query_type\": \"labelrow\", \"query_method\": \"GET\", \"values\": {\"uid\": \"116efd4f-1d8c-4a7f-88b2-4e182d4..\n",
      "[06/27/2021 08:29:58 PM] [INFO] [querier.py:97] [execute()] Request: {\"query_type\": \"labelrow\", \"query_method\": \"GET\", \"values\": {\"uid\": \"9d651522-de7b-4629-93e1-31360a0..\n",
      "[06/27/2021 08:29:58 PM] [INFO] [querier.py:97] [execute()] Request: {\"query_type\": \"labelrow\", \"query_method\": \"GET\", \"values\": {\"uid\": \"3eb74806-d0c0-4877-94ec-04c4f43..\n",
      "[06/27/2021 08:29:59 PM] [INFO] [querier.py:97] [execute()] Request: {\"query_type\": \"labelrow\", \"query_method\": \"GET\", \"values\": {\"uid\": \"7b10b1e0-984f-4de6-b555-7dc2087..\n",
      "[06/27/2021 08:29:59 PM] [INFO] [querier.py:97] [execute()] Request: {\"query_type\": \"labelrow\", \"query_method\": \"GET\", \"values\": {\"uid\": \"812214e4-9363-415f-bf93-60552a7..\n",
      "[06/27/2021 08:29:59 PM] [INFO] [querier.py:97] [execute()] Request: {\"query_type\": \"labelrow\", \"query_method\": \"GET\", \"values\": {\"uid\": \"b667a52f-a362-4f73-83cd-09dbdfd..\n",
      "[06/27/2021 08:30:00 PM] [INFO] [querier.py:97] [execute()] Request: {\"query_type\": \"labelrow\", \"query_method\": \"GET\", \"values\": {\"uid\": \"0b5c08ad-4e7a-4f4d-b030-a7ffd2b..\n",
      "[06/27/2021 08:30:00 PM] [INFO] [querier.py:97] [execute()] Request: {\"query_type\": \"labelrow\", \"query_method\": \"GET\", \"values\": {\"uid\": \"4811e5c1-e81b-41c7-b3a4-944b4d1..\n",
      "[06/27/2021 08:30:01 PM] [INFO] [querier.py:97] [execute()] Request: {\"query_type\": \"labelrow\", \"query_method\": \"GET\", \"values\": {\"uid\": \"5e8cd614-2ef3-43bd-a287-6fcfe71..\n",
      "[06/27/2021 08:30:01 PM] [INFO] [querier.py:97] [execute()] Request: {\"query_type\": \"labelrow\", \"query_method\": \"GET\", \"values\": {\"uid\": \"e956a7b3-79b8-4419-8804-43b5d93..\n",
      "[06/27/2021 08:30:02 PM] [INFO] [querier.py:97] [execute()] Request: {\"query_type\": \"labelrow\", \"query_method\": \"GET\", \"values\": {\"uid\": \"f29acc69-1aea-4223-8f09-c10cecf..\n",
      "[06/27/2021 08:30:02 PM] [INFO] [querier.py:97] [execute()] Request: {\"query_type\": \"labelrow\", \"query_method\": \"GET\", \"values\": {\"uid\": \"5dc67e26-9e4e-4df2-9ac9-04f84cb..\n",
      "[06/27/2021 08:30:02 PM] [INFO] [querier.py:97] [execute()] Request: {\"query_type\": \"labelrow\", \"query_method\": \"GET\", \"values\": {\"uid\": \"6c9bc334-4d3b-4afe-b7c5-db4a431..\n",
      "[06/27/2021 08:30:03 PM] [INFO] [querier.py:97] [execute()] Request: {\"query_type\": \"labelrow\", \"query_method\": \"GET\", \"values\": {\"uid\": \"4395d931-9fe3-44dc-9cff-4909c70..\n",
      "[06/27/2021 08:30:03 PM] [INFO] [querier.py:97] [execute()] Request: {\"query_type\": \"labelrow\", \"query_method\": \"GET\", \"values\": {\"uid\": \"faa6b9a0-c4e5-4dc1-8621-7f18c6d..\n",
      "[06/27/2021 08:30:03 PM] [INFO] [querier.py:97] [execute()] Request: {\"query_type\": \"labelrow\", \"query_method\": \"GET\", \"values\": {\"uid\": \"7e73964e-9a63-4024-8f40-19485ca..\n",
      "[06/27/2021 08:30:04 PM] [INFO] [querier.py:97] [execute()] Request: {\"query_type\": \"labelrow\", \"query_method\": \"GET\", \"values\": {\"uid\": \"dd6b649f-213a-4e2a-b74a-3a59631..\n",
      "[06/27/2021 08:30:04 PM] [INFO] [querier.py:97] [execute()] Request: {\"query_type\": \"labelrow\", \"query_method\": \"GET\", \"values\": {\"uid\": \"42c8384b-30ec-4c8e-aeb4-8513de6..\n",
      "[06/27/2021 08:30:04 PM] [INFO] [querier.py:97] [execute()] Request: {\"query_type\": \"labelrow\", \"query_method\": \"GET\", \"values\": {\"uid\": \"1eaf7f25-5cf0-4ceb-aed2-413138a..\n",
      "[06/27/2021 08:30:05 PM] [INFO] [querier.py:97] [execute()] Request: {\"query_type\": \"labelrow\", \"query_method\": \"GET\", \"values\": {\"uid\": \"f5d7304a-8fa2-4fbd-9216-b3d48dd..\n",
      "[06/27/2021 08:30:05 PM] [INFO] [querier.py:97] [execute()] Request: {\"query_type\": \"labelrow\", \"query_method\": \"GET\", \"values\": {\"uid\": \"eba11b0e-6057-4645-be92-0d358c3..\n",
      "[06/27/2021 08:30:05 PM] [INFO] [querier.py:97] [execute()] Request: {\"query_type\": \"labelrow\", \"query_method\": \"GET\", \"values\": {\"uid\": \"6dd986f7-cc7b-4672-b426-07418b2..\n",
      "[06/27/2021 08:30:06 PM] [INFO] [querier.py:97] [execute()] Request: {\"query_type\": \"labelrow\", \"query_method\": \"GET\", \"values\": {\"uid\": \"4fce9ab8-d0cb-4ec7-a093-37f28f7..\n",
      "[06/27/2021 08:30:06 PM] [INFO] [querier.py:97] [execute()] Request: {\"query_type\": \"labelrow\", \"query_method\": \"GET\", \"values\": {\"uid\": \"26b3ce1b-bfa2-429b-9c0e-6270f78..\n",
      "[06/27/2021 08:30:06 PM] [INFO] [querier.py:97] [execute()] Request: {\"query_type\": \"labelrow\", \"query_method\": \"GET\", \"values\": {\"uid\": \"6fd3ce73-271f-4cda-9bac-4a01327..\n",
      "[06/27/2021 08:30:07 PM] [INFO] [querier.py:97] [execute()] Request: {\"query_type\": \"labelrow\", \"query_method\": \"GET\", \"values\": {\"uid\": \"9d05e322-7e0d-4dad-a6a4-a525ba4..\n",
      "[06/27/2021 08:30:07 PM] [INFO] [querier.py:97] [execute()] Request: {\"query_type\": \"labelrow\", \"query_method\": \"GET\", \"values\": {\"uid\": \"d01ba63f-edd4-4cd0-8ee2-301d65c..\n",
      "[06/27/2021 08:30:07 PM] [INFO] [querier.py:97] [execute()] Request: {\"query_type\": \"labelrow\", \"query_method\": \"GET\", \"values\": {\"uid\": \"dfe832e8-6af9-4f7c-a75a-9ee1e0c..\n",
      "[06/27/2021 08:30:08 PM] [INFO] [querier.py:97] [execute()] Request: {\"query_type\": \"labelrow\", \"query_method\": \"GET\", \"values\": {\"uid\": \"38b0291d-f958-4ada-bae1-9900cc7..\n",
      "[06/27/2021 08:30:08 PM] [INFO] [querier.py:97] [execute()] Request: {\"query_type\": \"labelrow\", \"query_method\": \"GET\", \"values\": {\"uid\": \"6e8ffc78-f041-4e56-acc3-a0f923e..\n",
      "[06/27/2021 08:30:08 PM] [INFO] [querier.py:97] [execute()] Request: {\"query_type\": \"labelrow\", \"query_method\": \"GET\", \"values\": {\"uid\": \"dd8a6b08-e015-4445-b7a5-162cc58..\n",
      "[06/27/2021 08:30:09 PM] [INFO] [querier.py:97] [execute()] Request: {\"query_type\": \"labelrow\", \"query_method\": \"GET\", \"values\": {\"uid\": \"40e1d646-e95e-4be2-b47b-0dc5838..\n",
      "[06/27/2021 08:30:09 PM] [INFO] [querier.py:97] [execute()] Request: {\"query_type\": \"labelrow\", \"query_method\": \"GET\", \"values\": {\"uid\": \"e77cf29b-5543-44e0-83b1-afe59f9..\n",
      "[06/27/2021 08:30:09 PM] [INFO] [querier.py:97] [execute()] Request: {\"query_type\": \"labelrow\", \"query_method\": \"GET\", \"values\": {\"uid\": \"f8df8cf1-65eb-4c3e-bb52-e449dfc..\n",
      "[06/27/2021 08:30:10 PM] [INFO] [querier.py:97] [execute()] Request: {\"query_type\": \"labelrow\", \"query_method\": \"GET\", \"values\": {\"uid\": \"1a2a0e9a-db19-46c6-a6e6-47aa063..\n",
      "[06/27/2021 08:30:10 PM] [INFO] [querier.py:97] [execute()] Request: {\"query_type\": \"labelrow\", \"query_method\": \"GET\", \"values\": {\"uid\": \"ea4bec48-7bc0-4b13-ad53-9dd2688..\n",
      "[06/27/2021 08:30:10 PM] [INFO] [querier.py:97] [execute()] Request: {\"query_type\": \"labelrow\", \"query_method\": \"GET\", \"values\": {\"uid\": \"3820833a-f144-4174-ac48-bbfee7b..\n",
      "[06/27/2021 08:30:11 PM] [INFO] [querier.py:97] [execute()] Request: {\"query_type\": \"labelrow\", \"query_method\": \"GET\", \"values\": {\"uid\": \"695ab999-01af-4f8a-8bc4-c175591..\n",
      "[06/27/2021 08:30:11 PM] [INFO] [querier.py:97] [execute()] Request: {\"query_type\": \"labelrow\", \"query_method\": \"GET\", \"values\": {\"uid\": \"c3aca1c5-c2fc-4722-bd57-1ccde79..\n",
      "[06/27/2021 08:30:11 PM] [INFO] [querier.py:97] [execute()] Request: {\"query_type\": \"labelrow\", \"query_method\": \"GET\", \"values\": {\"uid\": \"5b8d1ad5-4b12-49e2-80fd-6ab83e9..\n",
      "[06/27/2021 08:30:12 PM] [INFO] [querier.py:97] [execute()] Request: {\"query_type\": \"labelrow\", \"query_method\": \"GET\", \"values\": {\"uid\": \"b0d67547-d84b-4f4a-b1b1-618efe9..\n",
      "[06/27/2021 08:30:12 PM] [INFO] [querier.py:97] [execute()] Request: {\"query_type\": \"labelrow\", \"query_method\": \"GET\", \"values\": {\"uid\": \"13dbf381-3f92-42a6-bae6-d7daf1c..\n",
      "[06/27/2021 08:30:12 PM] [INFO] [querier.py:97] [execute()] Request: {\"query_type\": \"labelrow\", \"query_method\": \"GET\", \"values\": {\"uid\": \"d89efea1-2984-4c31-ba61-9f2f9a7..\n"
     ]
    },
    {
     "name": "stderr",
     "output_type": "stream",
     "text": [
      "  9%|▉         | 9/100 [7:34:14<76:24:19, 3022.63s/it]"
     ]
    },
    {
     "name": "stdout",
     "output_type": "stream",
     "text": [
      "Epoch     9: reducing learning rate of group 0 to 2.0000e-05.\n"
     ]
    },
    {
     "name": "stderr",
     "output_type": "stream",
     "text": [
      " 12%|█▏        | 12/100 [10:55:14<80:05:05, 3276.20s/it]"
     ]
    },
    {
     "name": "stdout",
     "output_type": "stream",
     "text": [
      "Early stopping at: 12\n",
      "Fold: 1, best validation set accuracy: 0.4696608615948671\n",
      "total training time: 670.1324374278387 min\n",
      "[06/28/2021 07:40:01 AM] [INFO] [configs.py:65] [__init__()] Initialising Cord client with endpoint: https://api.cord.tech/public and resource_id: 499f6b35-de54-4e23-82ac-19420fabd3c0\n",
      "[06/28/2021 07:40:01 AM] [INFO] [querier.py:97] [execute()] Request: {\"query_type\": \"apikeymeta\", \"query_method\": \"GET\", \"values\": {\"uid\": null, \"payload\": null}}\n",
      "[06/28/2021 07:40:01 AM] [INFO] [client.py:111] [initialise_with_config()] Initialising Cord client for project using key: New read key\n",
      "[06/28/2021 07:40:01 AM] [INFO] [querier.py:97] [execute()] Request: {\"query_type\": \"project\", \"query_method\": \"GET\", \"values\": {\"uid\": null, \"payload\": null}}\n"
     ]
    },
    {
     "name": "stderr",
     "output_type": "stream",
     "text": [
      "\n"
     ]
    },
    {
     "name": "stdout",
     "output_type": "stream",
     "text": [
      "[06/28/2021 07:40:01 AM] [INFO] [querier.py:97] [execute()] Request: {\"query_type\": \"labelrow\", \"query_method\": \"GET\", \"values\": {\"uid\": \"75958069-887a-4ca3-b763-78e4d9b..\n",
      "[06/28/2021 07:40:02 AM] [INFO] [querier.py:97] [execute()] Request: {\"query_type\": \"labelrow\", \"query_method\": \"GET\", \"values\": {\"uid\": \"efe6ab38-76da-4e99-a114-15f097b..\n",
      "[06/28/2021 07:40:02 AM] [INFO] [querier.py:97] [execute()] Request: {\"query_type\": \"labelrow\", \"query_method\": \"GET\", \"values\": {\"uid\": \"6f01fac5-fd10-4101-be97-3e66e5e..\n",
      "[06/28/2021 07:40:03 AM] [INFO] [querier.py:97] [execute()] Request: {\"query_type\": \"labelrow\", \"query_method\": \"GET\", \"values\": {\"uid\": \"07018b5b-105d-4fe0-a921-134200c..\n",
      "[06/28/2021 07:40:03 AM] [INFO] [querier.py:97] [execute()] Request: {\"query_type\": \"labelrow\", \"query_method\": \"GET\", \"values\": {\"uid\": \"ca8c4cae-7911-46cc-ab2b-356fe7a..\n",
      "[06/28/2021 07:40:03 AM] [INFO] [querier.py:97] [execute()] Request: {\"query_type\": \"labelrow\", \"query_method\": \"GET\", \"values\": {\"uid\": \"5b28f14b-5f15-4968-af8c-206080b..\n",
      "[06/28/2021 07:40:03 AM] [INFO] [querier.py:97] [execute()] Request: {\"query_type\": \"labelrow\", \"query_method\": \"GET\", \"values\": {\"uid\": \"dea3d095-8ee4-4451-8417-9749c3c..\n",
      "[06/28/2021 07:40:04 AM] [INFO] [querier.py:97] [execute()] Request: {\"query_type\": \"labelrow\", \"query_method\": \"GET\", \"values\": {\"uid\": \"993d4eda-afe8-4464-9e40-a55ed4b..\n",
      "[06/28/2021 07:40:04 AM] [INFO] [querier.py:97] [execute()] Request: {\"query_type\": \"labelrow\", \"query_method\": \"GET\", \"values\": {\"uid\": \"f5064d1d-6b7d-4cb2-89d6-4dce1d0..\n",
      "[06/28/2021 07:40:04 AM] [INFO] [querier.py:97] [execute()] Request: {\"query_type\": \"labelrow\", \"query_method\": \"GET\", \"values\": {\"uid\": \"5d2efd1e-f258-4467-bc5b-9619646..\n",
      "[06/28/2021 07:40:05 AM] [INFO] [querier.py:97] [execute()] Request: {\"query_type\": \"labelrow\", \"query_method\": \"GET\", \"values\": {\"uid\": \"22613826-90ba-4afb-98d0-ac260e7..\n",
      "[06/28/2021 07:40:05 AM] [INFO] [querier.py:97] [execute()] Request: {\"query_type\": \"labelrow\", \"query_method\": \"GET\", \"values\": {\"uid\": \"44bc1cde-535c-45c5-9a6f-540edc8..\n",
      "[06/28/2021 07:40:05 AM] [INFO] [querier.py:97] [execute()] Request: {\"query_type\": \"labelrow\", \"query_method\": \"GET\", \"values\": {\"uid\": \"2af49402-2e1a-4ec7-b61a-354928e..\n",
      "[06/28/2021 07:40:06 AM] [INFO] [querier.py:97] [execute()] Request: {\"query_type\": \"labelrow\", \"query_method\": \"GET\", \"values\": {\"uid\": \"3f100e46-39e1-41c0-9032-e057944..\n",
      "[06/28/2021 07:40:06 AM] [INFO] [querier.py:97] [execute()] Request: {\"query_type\": \"labelrow\", \"query_method\": \"GET\", \"values\": {\"uid\": \"a2ffe937-26fe-4ff0-9d88-8d366a1..\n",
      "Images in val set:  5455\n",
      "---------------> Fold 1 finished!\n"
     ]
    },
    {
     "data": {
      "text/html": [
       "<br/>Waiting for W&B process to finish, PID 7124<br/>Program ended successfully."
      ],
      "text/plain": [
       "<IPython.core.display.HTML object>"
      ]
     },
     "metadata": {},
     "output_type": "display_data"
    },
    {
     "data": {
      "text/html": [
       "Find user logs for this run at: <code>/home/jupyter/gi/Colab Notebooks/wandb/offline-run-20210627_202947-gw7x35u3/logs/debug.log</code>"
      ],
      "text/plain": [
       "<IPython.core.display.HTML object>"
      ]
     },
     "metadata": {},
     "output_type": "display_data"
    },
    {
     "data": {
      "text/html": [
       "Find internal logs for this run at: <code>/home/jupyter/gi/Colab Notebooks/wandb/offline-run-20210627_202947-gw7x35u3/logs/debug-internal.log</code>"
      ],
      "text/plain": [
       "<IPython.core.display.HTML object>"
      ]
     },
     "metadata": {},
     "output_type": "display_data"
    },
    {
     "data": {
      "text/html": [
       "<h3>Run summary:</h3><br/><style>\n",
       "    table.wandb td:nth-child(1) { padding: 0 10px; text-align: right }\n",
       "    </style><table class=\"wandb\">\n",
       "<tr><td>epoch</td><td>13</td></tr><tr><td>lr</td><td>2e-05</td></tr><tr><td>train loss</td><td>0.05393</td></tr><tr><td>val loss</td><td>3.1895</td></tr><tr><td>train acc subscore</td><td>0.99489</td></tr><tr><td>val acc subscore</td><td>0.72301</td></tr><tr><td>train acc UCEIS</td><td>0.98549</td></tr><tr><td>val acc UCEIS</td><td>0.41008</td></tr><tr><td>_runtime</td><td>40212</td></tr><tr><td>_timestamp</td><td>1624866001</td></tr><tr><td>_step</td><td>12</td></tr><tr><td>best accuracy UCEIS</td><td>0.46966</td></tr></table>"
      ],
      "text/plain": [
       "<IPython.core.display.HTML object>"
      ]
     },
     "metadata": {},
     "output_type": "display_data"
    },
    {
     "data": {
      "text/html": [
       "<h3>Run history:</h3><br/><style>\n",
       "    table.wandb td:nth-child(1) { padding: 0 10px; text-align: right }\n",
       "    </style><table class=\"wandb\">\n",
       "<tr><td>epoch</td><td>▁▂▂▃▃▄▅▅▆▆▇▇█</td></tr><tr><td>lr</td><td>████████▁▁▁▁▁</td></tr><tr><td>train loss</td><td>█▅▄▃▃▃▃▃▃▁▁▁▁</td></tr><tr><td>val loss</td><td>█▃▆▁▇▅▂▆▁▄▃▆▆</td></tr><tr><td>train acc subscore</td><td>▁▅▅▆▆▆▆▆▇████</td></tr><tr><td>val acc subscore</td><td>▃▄█▅▆▁▄▁▆▃▆▂▂</td></tr><tr><td>train acc UCEIS</td><td>▁▄▅▅▆▆▆▆▆████</td></tr><tr><td>val acc UCEIS</td><td>▄▅█▇▆▂▆▂▁▇▄▅▄</td></tr><tr><td>_runtime</td><td>▁▂▂▃▃▄▅▅▆▆▇▇█</td></tr><tr><td>_timestamp</td><td>▁▂▂▃▃▄▅▅▆▆▇▇█</td></tr><tr><td>_step</td><td>▁▂▂▃▃▄▅▅▆▆▇▇█</td></tr></table><br/>"
      ],
      "text/plain": [
       "<IPython.core.display.HTML object>"
      ]
     },
     "metadata": {},
     "output_type": "display_data"
    },
    {
     "name": "stderr",
     "output_type": "stream",
     "text": [
      "\u001b[34m\u001b[1mwandb\u001b[0m: You can sync this run to the cloud by running:\n",
      "\u001b[34m\u001b[1mwandb\u001b[0m: \u001b[33mwandb sync /home/jupyter/gi/Colab Notebooks/wandb/offline-run-20210627_202947-gw7x35u3\u001b[0m\n",
      "\u001b[34m\u001b[1mwandb\u001b[0m: W&B syncing is set to `offline` in this directory.  Run `wandb online` or set WANDB_MODE=online to enable cloud syncing.\n",
      "\u001b[34m\u001b[1mwandb\u001b[0m: \u001b[33mWARNING\u001b[0m Calling run.save without any arguments is deprecated.Changes to attributes are automatically persisted.\n"
     ]
    },
    {
     "name": "stdout",
     "output_type": "stream",
     "text": [
      "\n",
      "--------------> Starting Fold 2\n",
      "[06/28/2021 07:42:22 AM] [INFO] [configs.py:65] [__init__()] Initialising Cord client with endpoint: https://api.cord.tech/public and resource_id: 499f6b35-de54-4e23-82ac-19420fabd3c0\n",
      "[06/28/2021 07:42:22 AM] [INFO] [querier.py:97] [execute()] Request: {\"query_type\": \"apikeymeta\", \"query_method\": \"GET\", \"values\": {\"uid\": null, \"payload\": null}}\n",
      "[06/28/2021 07:42:22 AM] [INFO] [client.py:111] [initialise_with_config()] Initialising Cord client for project using key: New read key\n",
      "[06/28/2021 07:42:22 AM] [INFO] [querier.py:97] [execute()] Request: {\"query_type\": \"project\", \"query_method\": \"GET\", \"values\": {\"uid\": null, \"payload\": null}}\n",
      "[06/28/2021 07:42:22 AM] [INFO] [querier.py:97] [execute()] Request: {\"query_type\": \"labelrow\", \"query_method\": \"GET\", \"values\": {\"uid\": \"75958069-887a-4ca3-b763-78e4d9b..\n",
      "[06/28/2021 07:42:22 AM] [INFO] [querier.py:97] [execute()] Request: {\"query_type\": \"labelrow\", \"query_method\": \"GET\", \"values\": {\"uid\": \"efe6ab38-76da-4e99-a114-15f097b..\n",
      "[06/28/2021 07:42:23 AM] [INFO] [querier.py:97] [execute()] Request: {\"query_type\": \"labelrow\", \"query_method\": \"GET\", \"values\": {\"uid\": \"6f01fac5-fd10-4101-be97-3e66e5e..\n",
      "[06/28/2021 07:42:23 AM] [INFO] [querier.py:97] [execute()] Request: {\"query_type\": \"labelrow\", \"query_method\": \"GET\", \"values\": {\"uid\": \"07018b5b-105d-4fe0-a921-134200c..\n",
      "[06/28/2021 07:42:23 AM] [INFO] [querier.py:97] [execute()] Request: {\"query_type\": \"labelrow\", \"query_method\": \"GET\", \"values\": {\"uid\": \"ca8c4cae-7911-46cc-ab2b-356fe7a..\n",
      "[06/28/2021 07:42:24 AM] [INFO] [querier.py:97] [execute()] Request: {\"query_type\": \"labelrow\", \"query_method\": \"GET\", \"values\": {\"uid\": \"5b28f14b-5f15-4968-af8c-206080b..\n",
      "[06/28/2021 07:42:24 AM] [INFO] [querier.py:97] [execute()] Request: {\"query_type\": \"labelrow\", \"query_method\": \"GET\", \"values\": {\"uid\": \"dea3d095-8ee4-4451-8417-9749c3c..\n",
      "[06/28/2021 07:42:24 AM] [INFO] [querier.py:97] [execute()] Request: {\"query_type\": \"labelrow\", \"query_method\": \"GET\", \"values\": {\"uid\": \"993d4eda-afe8-4464-9e40-a55ed4b..\n",
      "[06/28/2021 07:42:24 AM] [INFO] [querier.py:97] [execute()] Request: {\"query_type\": \"labelrow\", \"query_method\": \"GET\", \"values\": {\"uid\": \"f5064d1d-6b7d-4cb2-89d6-4dce1d0..\n",
      "[06/28/2021 07:42:25 AM] [INFO] [querier.py:97] [execute()] Request: {\"query_type\": \"labelrow\", \"query_method\": \"GET\", \"values\": {\"uid\": \"5d2efd1e-f258-4467-bc5b-9619646..\n",
      "[06/28/2021 07:42:25 AM] [INFO] [querier.py:97] [execute()] Request: {\"query_type\": \"labelrow\", \"query_method\": \"GET\", \"values\": {\"uid\": \"22613826-90ba-4afb-98d0-ac260e7..\n",
      "[06/28/2021 07:42:25 AM] [INFO] [querier.py:97] [execute()] Request: {\"query_type\": \"labelrow\", \"query_method\": \"GET\", \"values\": {\"uid\": \"44bc1cde-535c-45c5-9a6f-540edc8..\n",
      "[06/28/2021 07:42:26 AM] [INFO] [querier.py:97] [execute()] Request: {\"query_type\": \"labelrow\", \"query_method\": \"GET\", \"values\": {\"uid\": \"2af49402-2e1a-4ec7-b61a-354928e..\n",
      "[06/28/2021 07:42:26 AM] [INFO] [querier.py:97] [execute()] Request: {\"query_type\": \"labelrow\", \"query_method\": \"GET\", \"values\": {\"uid\": \"3f100e46-39e1-41c0-9032-e057944..\n",
      "[06/28/2021 07:42:26 AM] [INFO] [querier.py:97] [execute()] Request: {\"query_type\": \"labelrow\", \"query_method\": \"GET\", \"values\": {\"uid\": \"a2ffe937-26fe-4ff0-9d88-8d366a1..\n",
      "[06/28/2021 07:42:27 AM] [INFO] [querier.py:97] [execute()] Request: {\"query_type\": \"labelrow\", \"query_method\": \"GET\", \"values\": {\"uid\": \"116efd4f-1d8c-4a7f-88b2-4e182d4..\n",
      "[06/28/2021 07:42:27 AM] [INFO] [querier.py:97] [execute()] Request: {\"query_type\": \"labelrow\", \"query_method\": \"GET\", \"values\": {\"uid\": \"9d651522-de7b-4629-93e1-31360a0..\n",
      "[06/28/2021 07:42:28 AM] [INFO] [querier.py:97] [execute()] Request: {\"query_type\": \"labelrow\", \"query_method\": \"GET\", \"values\": {\"uid\": \"3eb74806-d0c0-4877-94ec-04c4f43..\n",
      "[06/28/2021 07:42:28 AM] [INFO] [querier.py:97] [execute()] Request: {\"query_type\": \"labelrow\", \"query_method\": \"GET\", \"values\": {\"uid\": \"7b10b1e0-984f-4de6-b555-7dc2087..\n",
      "[06/28/2021 07:42:28 AM] [INFO] [querier.py:97] [execute()] Request: {\"query_type\": \"labelrow\", \"query_method\": \"GET\", \"values\": {\"uid\": \"812214e4-9363-415f-bf93-60552a7..\n",
      "[06/28/2021 07:42:29 AM] [INFO] [querier.py:97] [execute()] Request: {\"query_type\": \"labelrow\", \"query_method\": \"GET\", \"values\": {\"uid\": \"b667a52f-a362-4f73-83cd-09dbdfd..\n",
      "[06/28/2021 07:42:29 AM] [INFO] [querier.py:97] [execute()] Request: {\"query_type\": \"labelrow\", \"query_method\": \"GET\", \"values\": {\"uid\": \"0b5c08ad-4e7a-4f4d-b030-a7ffd2b..\n",
      "[06/28/2021 07:42:30 AM] [INFO] [querier.py:97] [execute()] Request: {\"query_type\": \"labelrow\", \"query_method\": \"GET\", \"values\": {\"uid\": \"4811e5c1-e81b-41c7-b3a4-944b4d1..\n",
      "[06/28/2021 07:42:30 AM] [INFO] [querier.py:97] [execute()] Request: {\"query_type\": \"labelrow\", \"query_method\": \"GET\", \"values\": {\"uid\": \"5e8cd614-2ef3-43bd-a287-6fcfe71..\n",
      "[06/28/2021 07:42:31 AM] [INFO] [querier.py:97] [execute()] Request: {\"query_type\": \"labelrow\", \"query_method\": \"GET\", \"values\": {\"uid\": \"e956a7b3-79b8-4419-8804-43b5d93..\n",
      "[06/28/2021 07:42:31 AM] [INFO] [querier.py:97] [execute()] Request: {\"query_type\": \"labelrow\", \"query_method\": \"GET\", \"values\": {\"uid\": \"f29acc69-1aea-4223-8f09-c10cecf..\n",
      "[06/28/2021 07:42:31 AM] [INFO] [querier.py:97] [execute()] Request: {\"query_type\": \"labelrow\", \"query_method\": \"GET\", \"values\": {\"uid\": \"5dc67e26-9e4e-4df2-9ac9-04f84cb..\n",
      "[06/28/2021 07:42:32 AM] [INFO] [querier.py:97] [execute()] Request: {\"query_type\": \"labelrow\", \"query_method\": \"GET\", \"values\": {\"uid\": \"6c9bc334-4d3b-4afe-b7c5-db4a431..\n",
      "[06/28/2021 07:42:32 AM] [INFO] [querier.py:97] [execute()] Request: {\"query_type\": \"labelrow\", \"query_method\": \"GET\", \"values\": {\"uid\": \"4395d931-9fe3-44dc-9cff-4909c70..\n",
      "[06/28/2021 07:42:32 AM] [INFO] [querier.py:97] [execute()] Request: {\"query_type\": \"labelrow\", \"query_method\": \"GET\", \"values\": {\"uid\": \"faa6b9a0-c4e5-4dc1-8621-7f18c6d..\n",
      "[06/28/2021 07:42:33 AM] [INFO] [querier.py:97] [execute()] Request: {\"query_type\": \"labelrow\", \"query_method\": \"GET\", \"values\": {\"uid\": \"7e73964e-9a63-4024-8f40-19485ca..\n",
      "[06/28/2021 07:42:33 AM] [INFO] [querier.py:97] [execute()] Request: {\"query_type\": \"labelrow\", \"query_method\": \"GET\", \"values\": {\"uid\": \"dd6b649f-213a-4e2a-b74a-3a59631..\n",
      "[06/28/2021 07:42:34 AM] [INFO] [querier.py:97] [execute()] Request: {\"query_type\": \"labelrow\", \"query_method\": \"GET\", \"values\": {\"uid\": \"42c8384b-30ec-4c8e-aeb4-8513de6..\n",
      "[06/28/2021 07:42:34 AM] [INFO] [querier.py:97] [execute()] Request: {\"query_type\": \"labelrow\", \"query_method\": \"GET\", \"values\": {\"uid\": \"1eaf7f25-5cf0-4ceb-aed2-413138a..\n",
      "[06/28/2021 07:42:34 AM] [INFO] [querier.py:97] [execute()] Request: {\"query_type\": \"labelrow\", \"query_method\": \"GET\", \"values\": {\"uid\": \"f5d7304a-8fa2-4fbd-9216-b3d48dd..\n",
      "[06/28/2021 07:42:35 AM] [INFO] [querier.py:97] [execute()] Request: {\"query_type\": \"labelrow\", \"query_method\": \"GET\", \"values\": {\"uid\": \"eba11b0e-6057-4645-be92-0d358c3..\n",
      "[06/28/2021 07:42:35 AM] [INFO] [querier.py:97] [execute()] Request: {\"query_type\": \"labelrow\", \"query_method\": \"GET\", \"values\": {\"uid\": \"6dd986f7-cc7b-4672-b426-07418b2..\n",
      "[06/28/2021 07:42:35 AM] [INFO] [querier.py:97] [execute()] Request: {\"query_type\": \"labelrow\", \"query_method\": \"GET\", \"values\": {\"uid\": \"4fce9ab8-d0cb-4ec7-a093-37f28f7..\n",
      "[06/28/2021 07:42:36 AM] [INFO] [querier.py:97] [execute()] Request: {\"query_type\": \"labelrow\", \"query_method\": \"GET\", \"values\": {\"uid\": \"26b3ce1b-bfa2-429b-9c0e-6270f78..\n",
      "[06/28/2021 07:42:36 AM] [INFO] [querier.py:97] [execute()] Request: {\"query_type\": \"labelrow\", \"query_method\": \"GET\", \"values\": {\"uid\": \"6fd3ce73-271f-4cda-9bac-4a01327..\n",
      "[06/28/2021 07:42:37 AM] [INFO] [querier.py:97] [execute()] Request: {\"query_type\": \"labelrow\", \"query_method\": \"GET\", \"values\": {\"uid\": \"9d05e322-7e0d-4dad-a6a4-a525ba4..\n",
      "[06/28/2021 07:42:37 AM] [INFO] [querier.py:97] [execute()] Request: {\"query_type\": \"labelrow\", \"query_method\": \"GET\", \"values\": {\"uid\": \"d01ba63f-edd4-4cd0-8ee2-301d65c..\n",
      "[06/28/2021 07:42:37 AM] [INFO] [querier.py:97] [execute()] Request: {\"query_type\": \"labelrow\", \"query_method\": \"GET\", \"values\": {\"uid\": \"dfe832e8-6af9-4f7c-a75a-9ee1e0c..\n",
      "[06/28/2021 07:42:37 AM] [INFO] [querier.py:97] [execute()] Request: {\"query_type\": \"labelrow\", \"query_method\": \"GET\", \"values\": {\"uid\": \"38b0291d-f958-4ada-bae1-9900cc7..\n",
      "[06/28/2021 07:42:37 AM] [INFO] [querier.py:97] [execute()] Request: {\"query_type\": \"labelrow\", \"query_method\": \"GET\", \"values\": {\"uid\": \"6e8ffc78-f041-4e56-acc3-a0f923e..\n",
      "[06/28/2021 07:42:38 AM] [INFO] [querier.py:97] [execute()] Request: {\"query_type\": \"labelrow\", \"query_method\": \"GET\", \"values\": {\"uid\": \"dd8a6b08-e015-4445-b7a5-162cc58..\n",
      "[06/28/2021 07:42:38 AM] [INFO] [querier.py:97] [execute()] Request: {\"query_type\": \"labelrow\", \"query_method\": \"GET\", \"values\": {\"uid\": \"40e1d646-e95e-4be2-b47b-0dc5838..\n",
      "[06/28/2021 07:42:38 AM] [INFO] [querier.py:97] [execute()] Request: {\"query_type\": \"labelrow\", \"query_method\": \"GET\", \"values\": {\"uid\": \"e77cf29b-5543-44e0-83b1-afe59f9..\n",
      "[06/28/2021 07:42:39 AM] [INFO] [querier.py:97] [execute()] Request: {\"query_type\": \"labelrow\", \"query_method\": \"GET\", \"values\": {\"uid\": \"f8df8cf1-65eb-4c3e-bb52-e449dfc..\n",
      "[06/28/2021 07:42:39 AM] [INFO] [querier.py:97] [execute()] Request: {\"query_type\": \"labelrow\", \"query_method\": \"GET\", \"values\": {\"uid\": \"1a2a0e9a-db19-46c6-a6e6-47aa063..\n",
      "[06/28/2021 07:42:39 AM] [INFO] [querier.py:97] [execute()] Request: {\"query_type\": \"labelrow\", \"query_method\": \"GET\", \"values\": {\"uid\": \"ea4bec48-7bc0-4b13-ad53-9dd2688..\n",
      "[06/28/2021 07:42:40 AM] [INFO] [querier.py:97] [execute()] Request: {\"query_type\": \"labelrow\", \"query_method\": \"GET\", \"values\": {\"uid\": \"3820833a-f144-4174-ac48-bbfee7b..\n",
      "[06/28/2021 07:42:40 AM] [INFO] [querier.py:97] [execute()] Request: {\"query_type\": \"labelrow\", \"query_method\": \"GET\", \"values\": {\"uid\": \"695ab999-01af-4f8a-8bc4-c175591..\n",
      "[06/28/2021 07:42:40 AM] [INFO] [querier.py:97] [execute()] Request: {\"query_type\": \"labelrow\", \"query_method\": \"GET\", \"values\": {\"uid\": \"c3aca1c5-c2fc-4722-bd57-1ccde79..\n",
      "[06/28/2021 07:42:40 AM] [INFO] [querier.py:97] [execute()] Request: {\"query_type\": \"labelrow\", \"query_method\": \"GET\", \"values\": {\"uid\": \"5b8d1ad5-4b12-49e2-80fd-6ab83e9..\n",
      "[06/28/2021 07:42:41 AM] [INFO] [querier.py:97] [execute()] Request: {\"query_type\": \"labelrow\", \"query_method\": \"GET\", \"values\": {\"uid\": \"b0d67547-d84b-4f4a-b1b1-618efe9..\n",
      "[06/28/2021 07:42:41 AM] [INFO] [querier.py:97] [execute()] Request: {\"query_type\": \"labelrow\", \"query_method\": \"GET\", \"values\": {\"uid\": \"13dbf381-3f92-42a6-bae6-d7daf1c..\n",
      "[06/28/2021 07:42:42 AM] [INFO] [querier.py:97] [execute()] Request: {\"query_type\": \"labelrow\", \"query_method\": \"GET\", \"values\": {\"uid\": \"d89efea1-2984-4c31-ba61-9f2f9a7..\n",
      "[06/28/2021 07:56:45 AM] [INFO] [configs.py:65] [__init__()] Initialising Cord client with endpoint: https://api.cord.tech/public and resource_id: 499f6b35-de54-4e23-82ac-19420fabd3c0\n",
      "[06/28/2021 07:56:45 AM] [INFO] [querier.py:97] [execute()] Request: {\"query_type\": \"apikeymeta\", \"query_method\": \"GET\", \"values\": {\"uid\": null, \"payload\": null}}\n",
      "[06/28/2021 07:56:45 AM] [INFO] [client.py:111] [initialise_with_config()] Initialising Cord client for project using key: New read key\n",
      "[06/28/2021 07:56:45 AM] [INFO] [querier.py:97] [execute()] Request: {\"query_type\": \"project\", \"query_method\": \"GET\", \"values\": {\"uid\": null, \"payload\": null}}\n",
      "[06/28/2021 07:56:45 AM] [INFO] [querier.py:97] [execute()] Request: {\"query_type\": \"labelrow\", \"query_method\": \"GET\", \"values\": {\"uid\": \"75958069-887a-4ca3-b763-78e4d9b..\n",
      "[06/28/2021 07:56:45 AM] [INFO] [querier.py:97] [execute()] Request: {\"query_type\": \"labelrow\", \"query_method\": \"GET\", \"values\": {\"uid\": \"efe6ab38-76da-4e99-a114-15f097b..\n",
      "[06/28/2021 07:56:46 AM] [INFO] [querier.py:97] [execute()] Request: {\"query_type\": \"labelrow\", \"query_method\": \"GET\", \"values\": {\"uid\": \"6f01fac5-fd10-4101-be97-3e66e5e..\n",
      "[06/28/2021 07:56:46 AM] [INFO] [querier.py:97] [execute()] Request: {\"query_type\": \"labelrow\", \"query_method\": \"GET\", \"values\": {\"uid\": \"07018b5b-105d-4fe0-a921-134200c..\n",
      "[06/28/2021 07:56:46 AM] [INFO] [querier.py:97] [execute()] Request: {\"query_type\": \"labelrow\", \"query_method\": \"GET\", \"values\": {\"uid\": \"ca8c4cae-7911-46cc-ab2b-356fe7a..\n",
      "[06/28/2021 07:56:47 AM] [INFO] [querier.py:97] [execute()] Request: {\"query_type\": \"labelrow\", \"query_method\": \"GET\", \"values\": {\"uid\": \"5b28f14b-5f15-4968-af8c-206080b..\n",
      "[06/28/2021 07:56:47 AM] [INFO] [querier.py:97] [execute()] Request: {\"query_type\": \"labelrow\", \"query_method\": \"GET\", \"values\": {\"uid\": \"dea3d095-8ee4-4451-8417-9749c3c..\n",
      "[06/28/2021 07:56:47 AM] [INFO] [querier.py:97] [execute()] Request: {\"query_type\": \"labelrow\", \"query_method\": \"GET\", \"values\": {\"uid\": \"993d4eda-afe8-4464-9e40-a55ed4b..\n",
      "[06/28/2021 07:56:48 AM] [INFO] [querier.py:97] [execute()] Request: {\"query_type\": \"labelrow\", \"query_method\": \"GET\", \"values\": {\"uid\": \"f5064d1d-6b7d-4cb2-89d6-4dce1d0..\n",
      "[06/28/2021 07:56:48 AM] [INFO] [querier.py:97] [execute()] Request: {\"query_type\": \"labelrow\", \"query_method\": \"GET\", \"values\": {\"uid\": \"5d2efd1e-f258-4467-bc5b-9619646..\n",
      "[06/28/2021 07:56:48 AM] [INFO] [querier.py:97] [execute()] Request: {\"query_type\": \"labelrow\", \"query_method\": \"GET\", \"values\": {\"uid\": \"22613826-90ba-4afb-98d0-ac260e7..\n",
      "[06/28/2021 07:56:49 AM] [INFO] [querier.py:97] [execute()] Request: {\"query_type\": \"labelrow\", \"query_method\": \"GET\", \"values\": {\"uid\": \"44bc1cde-535c-45c5-9a6f-540edc8..\n",
      "[06/28/2021 07:56:49 AM] [INFO] [querier.py:97] [execute()] Request: {\"query_type\": \"labelrow\", \"query_method\": \"GET\", \"values\": {\"uid\": \"2af49402-2e1a-4ec7-b61a-354928e..\n",
      "[06/28/2021 07:56:49 AM] [INFO] [querier.py:97] [execute()] Request: {\"query_type\": \"labelrow\", \"query_method\": \"GET\", \"values\": {\"uid\": \"3f100e46-39e1-41c0-9032-e057944..\n",
      "[06/28/2021 07:56:50 AM] [INFO] [querier.py:97] [execute()] Request: {\"query_type\": \"labelrow\", \"query_method\": \"GET\", \"values\": {\"uid\": \"a2ffe937-26fe-4ff0-9d88-8d366a1..\n",
      "[06/28/2021 07:56:50 AM] [INFO] [querier.py:97] [execute()] Request: {\"query_type\": \"labelrow\", \"query_method\": \"GET\", \"values\": {\"uid\": \"116efd4f-1d8c-4a7f-88b2-4e182d4..\n",
      "[06/28/2021 07:56:50 AM] [INFO] [querier.py:97] [execute()] Request: {\"query_type\": \"labelrow\", \"query_method\": \"GET\", \"values\": {\"uid\": \"9d651522-de7b-4629-93e1-31360a0..\n",
      "[06/28/2021 07:56:51 AM] [INFO] [querier.py:97] [execute()] Request: {\"query_type\": \"labelrow\", \"query_method\": \"GET\", \"values\": {\"uid\": \"3eb74806-d0c0-4877-94ec-04c4f43..\n",
      "[06/28/2021 07:56:51 AM] [INFO] [querier.py:97] [execute()] Request: {\"query_type\": \"labelrow\", \"query_method\": \"GET\", \"values\": {\"uid\": \"7b10b1e0-984f-4de6-b555-7dc2087..\n",
      "[06/28/2021 07:56:52 AM] [INFO] [querier.py:97] [execute()] Request: {\"query_type\": \"labelrow\", \"query_method\": \"GET\", \"values\": {\"uid\": \"812214e4-9363-415f-bf93-60552a7..\n",
      "[06/28/2021 07:56:52 AM] [INFO] [querier.py:97] [execute()] Request: {\"query_type\": \"labelrow\", \"query_method\": \"GET\", \"values\": {\"uid\": \"b667a52f-a362-4f73-83cd-09dbdfd..\n",
      "[06/28/2021 07:56:52 AM] [INFO] [querier.py:97] [execute()] Request: {\"query_type\": \"labelrow\", \"query_method\": \"GET\", \"values\": {\"uid\": \"0b5c08ad-4e7a-4f4d-b030-a7ffd2b..\n",
      "[06/28/2021 07:56:53 AM] [INFO] [querier.py:97] [execute()] Request: {\"query_type\": \"labelrow\", \"query_method\": \"GET\", \"values\": {\"uid\": \"4811e5c1-e81b-41c7-b3a4-944b4d1..\n",
      "[06/28/2021 07:56:53 AM] [INFO] [querier.py:97] [execute()] Request: {\"query_type\": \"labelrow\", \"query_method\": \"GET\", \"values\": {\"uid\": \"5e8cd614-2ef3-43bd-a287-6fcfe71..\n",
      "[06/28/2021 07:56:54 AM] [INFO] [querier.py:97] [execute()] Request: {\"query_type\": \"labelrow\", \"query_method\": \"GET\", \"values\": {\"uid\": \"e956a7b3-79b8-4419-8804-43b5d93..\n",
      "[06/28/2021 07:56:54 AM] [INFO] [querier.py:97] [execute()] Request: {\"query_type\": \"labelrow\", \"query_method\": \"GET\", \"values\": {\"uid\": \"f29acc69-1aea-4223-8f09-c10cecf..\n",
      "[06/28/2021 07:56:55 AM] [INFO] [querier.py:97] [execute()] Request: {\"query_type\": \"labelrow\", \"query_method\": \"GET\", \"values\": {\"uid\": \"5dc67e26-9e4e-4df2-9ac9-04f84cb..\n",
      "[06/28/2021 07:56:55 AM] [INFO] [querier.py:97] [execute()] Request: {\"query_type\": \"labelrow\", \"query_method\": \"GET\", \"values\": {\"uid\": \"6c9bc334-4d3b-4afe-b7c5-db4a431..\n",
      "[06/28/2021 07:56:55 AM] [INFO] [querier.py:97] [execute()] Request: {\"query_type\": \"labelrow\", \"query_method\": \"GET\", \"values\": {\"uid\": \"4395d931-9fe3-44dc-9cff-4909c70..\n",
      "[06/28/2021 07:56:56 AM] [INFO] [querier.py:97] [execute()] Request: {\"query_type\": \"labelrow\", \"query_method\": \"GET\", \"values\": {\"uid\": \"faa6b9a0-c4e5-4dc1-8621-7f18c6d..\n",
      "[06/28/2021 07:56:56 AM] [INFO] [querier.py:97] [execute()] Request: {\"query_type\": \"labelrow\", \"query_method\": \"GET\", \"values\": {\"uid\": \"7e73964e-9a63-4024-8f40-19485ca..\n",
      "[06/28/2021 07:56:57 AM] [INFO] [querier.py:97] [execute()] Request: {\"query_type\": \"labelrow\", \"query_method\": \"GET\", \"values\": {\"uid\": \"dd6b649f-213a-4e2a-b74a-3a59631..\n",
      "[06/28/2021 07:56:57 AM] [INFO] [querier.py:97] [execute()] Request: {\"query_type\": \"labelrow\", \"query_method\": \"GET\", \"values\": {\"uid\": \"42c8384b-30ec-4c8e-aeb4-8513de6..\n",
      "[06/28/2021 07:56:57 AM] [INFO] [querier.py:97] [execute()] Request: {\"query_type\": \"labelrow\", \"query_method\": \"GET\", \"values\": {\"uid\": \"1eaf7f25-5cf0-4ceb-aed2-413138a..\n",
      "[06/28/2021 07:56:58 AM] [INFO] [querier.py:97] [execute()] Request: {\"query_type\": \"labelrow\", \"query_method\": \"GET\", \"values\": {\"uid\": \"f5d7304a-8fa2-4fbd-9216-b3d48dd..\n",
      "[06/28/2021 07:56:58 AM] [INFO] [querier.py:97] [execute()] Request: {\"query_type\": \"labelrow\", \"query_method\": \"GET\", \"values\": {\"uid\": \"eba11b0e-6057-4645-be92-0d358c3..\n",
      "[06/28/2021 07:56:58 AM] [INFO] [querier.py:97] [execute()] Request: {\"query_type\": \"labelrow\", \"query_method\": \"GET\", \"values\": {\"uid\": \"6dd986f7-cc7b-4672-b426-07418b2..\n",
      "[06/28/2021 07:56:59 AM] [INFO] [querier.py:97] [execute()] Request: {\"query_type\": \"labelrow\", \"query_method\": \"GET\", \"values\": {\"uid\": \"4fce9ab8-d0cb-4ec7-a093-37f28f7..\n",
      "[06/28/2021 07:56:59 AM] [INFO] [querier.py:97] [execute()] Request: {\"query_type\": \"labelrow\", \"query_method\": \"GET\", \"values\": {\"uid\": \"26b3ce1b-bfa2-429b-9c0e-6270f78..\n",
      "[06/28/2021 07:56:59 AM] [INFO] [querier.py:97] [execute()] Request: {\"query_type\": \"labelrow\", \"query_method\": \"GET\", \"values\": {\"uid\": \"6fd3ce73-271f-4cda-9bac-4a01327..\n",
      "[06/28/2021 07:57:00 AM] [INFO] [querier.py:97] [execute()] Request: {\"query_type\": \"labelrow\", \"query_method\": \"GET\", \"values\": {\"uid\": \"9d05e322-7e0d-4dad-a6a4-a525ba4..\n",
      "[06/28/2021 07:57:00 AM] [INFO] [querier.py:97] [execute()] Request: {\"query_type\": \"labelrow\", \"query_method\": \"GET\", \"values\": {\"uid\": \"d01ba63f-edd4-4cd0-8ee2-301d65c..\n",
      "[06/28/2021 07:57:00 AM] [INFO] [querier.py:97] [execute()] Request: {\"query_type\": \"labelrow\", \"query_method\": \"GET\", \"values\": {\"uid\": \"dfe832e8-6af9-4f7c-a75a-9ee1e0c..\n",
      "[06/28/2021 07:57:00 AM] [INFO] [querier.py:97] [execute()] Request: {\"query_type\": \"labelrow\", \"query_method\": \"GET\", \"values\": {\"uid\": \"38b0291d-f958-4ada-bae1-9900cc7..\n",
      "[06/28/2021 07:57:01 AM] [INFO] [querier.py:97] [execute()] Request: {\"query_type\": \"labelrow\", \"query_method\": \"GET\", \"values\": {\"uid\": \"6e8ffc78-f041-4e56-acc3-a0f923e..\n",
      "[06/28/2021 07:57:01 AM] [INFO] [querier.py:97] [execute()] Request: {\"query_type\": \"labelrow\", \"query_method\": \"GET\", \"values\": {\"uid\": \"dd8a6b08-e015-4445-b7a5-162cc58..\n",
      "[06/28/2021 07:57:01 AM] [INFO] [querier.py:97] [execute()] Request: {\"query_type\": \"labelrow\", \"query_method\": \"GET\", \"values\": {\"uid\": \"40e1d646-e95e-4be2-b47b-0dc5838..\n",
      "[06/28/2021 07:57:02 AM] [INFO] [querier.py:97] [execute()] Request: {\"query_type\": \"labelrow\", \"query_method\": \"GET\", \"values\": {\"uid\": \"e77cf29b-5543-44e0-83b1-afe59f9..\n",
      "[06/28/2021 07:57:02 AM] [INFO] [querier.py:97] [execute()] Request: {\"query_type\": \"labelrow\", \"query_method\": \"GET\", \"values\": {\"uid\": \"f8df8cf1-65eb-4c3e-bb52-e449dfc..\n",
      "[06/28/2021 07:57:02 AM] [INFO] [querier.py:97] [execute()] Request: {\"query_type\": \"labelrow\", \"query_method\": \"GET\", \"values\": {\"uid\": \"1a2a0e9a-db19-46c6-a6e6-47aa063..\n",
      "[06/28/2021 07:57:03 AM] [INFO] [querier.py:97] [execute()] Request: {\"query_type\": \"labelrow\", \"query_method\": \"GET\", \"values\": {\"uid\": \"ea4bec48-7bc0-4b13-ad53-9dd2688..\n",
      "[06/28/2021 07:57:03 AM] [INFO] [querier.py:97] [execute()] Request: {\"query_type\": \"labelrow\", \"query_method\": \"GET\", \"values\": {\"uid\": \"3820833a-f144-4174-ac48-bbfee7b..\n",
      "[06/28/2021 07:57:03 AM] [INFO] [querier.py:97] [execute()] Request: {\"query_type\": \"labelrow\", \"query_method\": \"GET\", \"values\": {\"uid\": \"695ab999-01af-4f8a-8bc4-c175591..\n",
      "[06/28/2021 07:57:04 AM] [INFO] [querier.py:97] [execute()] Request: {\"query_type\": \"labelrow\", \"query_method\": \"GET\", \"values\": {\"uid\": \"c3aca1c5-c2fc-4722-bd57-1ccde79..\n",
      "[06/28/2021 07:57:04 AM] [INFO] [querier.py:97] [execute()] Request: {\"query_type\": \"labelrow\", \"query_method\": \"GET\", \"values\": {\"uid\": \"5b8d1ad5-4b12-49e2-80fd-6ab83e9..\n",
      "[06/28/2021 07:57:04 AM] [INFO] [querier.py:97] [execute()] Request: {\"query_type\": \"labelrow\", \"query_method\": \"GET\", \"values\": {\"uid\": \"b0d67547-d84b-4f4a-b1b1-618efe9..\n",
      "[06/28/2021 07:57:05 AM] [INFO] [querier.py:97] [execute()] Request: {\"query_type\": \"labelrow\", \"query_method\": \"GET\", \"values\": {\"uid\": \"13dbf381-3f92-42a6-bae6-d7daf1c..\n",
      "[06/28/2021 07:57:05 AM] [INFO] [querier.py:97] [execute()] Request: {\"query_type\": \"labelrow\", \"query_method\": \"GET\", \"values\": {\"uid\": \"d89efea1-2984-4c31-ba61-9f2f9a7..\n",
      "[06/28/2021 07:57:05 AM] [INFO] [configs.py:65] [__init__()] Initialising Cord client with endpoint: https://api.cord.tech/public and resource_id: 499f6b35-de54-4e23-82ac-19420fabd3c0\n",
      "[06/28/2021 07:57:05 AM] [INFO] [querier.py:97] [execute()] Request: {\"query_type\": \"apikeymeta\", \"query_method\": \"GET\", \"values\": {\"uid\": null, \"payload\": null}}\n",
      "[06/28/2021 07:57:05 AM] [INFO] [client.py:111] [initialise_with_config()] Initialising Cord client for project using key: New read key\n",
      "[06/28/2021 07:57:05 AM] [INFO] [querier.py:97] [execute()] Request: {\"query_type\": \"project\", \"query_method\": \"GET\", \"values\": {\"uid\": null, \"payload\": null}}\n",
      "[06/28/2021 07:57:05 AM] [INFO] [querier.py:97] [execute()] Request: {\"query_type\": \"labelrow\", \"query_method\": \"GET\", \"values\": {\"uid\": \"dfef2edd-4467-4705-a38b-7c2e977..\n",
      "[06/28/2021 07:57:06 AM] [INFO] [querier.py:97] [execute()] Request: {\"query_type\": \"labelrow\", \"query_method\": \"GET\", \"values\": {\"uid\": \"e21d53b3-e89a-4ff7-a398-74b19a1..\n",
      "[06/28/2021 07:57:06 AM] [INFO] [querier.py:97] [execute()] Request: {\"query_type\": \"labelrow\", \"query_method\": \"GET\", \"values\": {\"uid\": \"3b603af5-1bfe-4370-a912-ac66676..\n",
      "[06/28/2021 07:57:06 AM] [INFO] [querier.py:97] [execute()] Request: {\"query_type\": \"labelrow\", \"query_method\": \"GET\", \"values\": {\"uid\": \"442297c7-338e-49be-9e23-67dc8fe..\n",
      "[06/28/2021 07:57:07 AM] [INFO] [querier.py:97] [execute()] Request: {\"query_type\": \"labelrow\", \"query_method\": \"GET\", \"values\": {\"uid\": \"262e2896-759e-4702-bc18-559ee21..\n",
      "[06/28/2021 07:57:07 AM] [INFO] [querier.py:97] [execute()] Request: {\"query_type\": \"labelrow\", \"query_method\": \"GET\", \"values\": {\"uid\": \"85fd736d-d2bf-4df1-b3f6-e1b436b..\n",
      "[06/28/2021 07:57:07 AM] [INFO] [querier.py:97] [execute()] Request: {\"query_type\": \"labelrow\", \"query_method\": \"GET\", \"values\": {\"uid\": \"e8d1d3cc-12e0-48a1-8b11-67da609..\n",
      "[06/28/2021 07:57:07 AM] [INFO] [querier.py:97] [execute()] Request: {\"query_type\": \"labelrow\", \"query_method\": \"GET\", \"values\": {\"uid\": \"1bbbc50d-3a1a-46b4-887a-257c09b..\n",
      "[06/28/2021 07:57:08 AM] [INFO] [querier.py:97] [execute()] Request: {\"query_type\": \"labelrow\", \"query_method\": \"GET\", \"values\": {\"uid\": \"3c12d264-f046-4d21-b6c7-c2b00d2..\n",
      "[06/28/2021 07:57:08 AM] [INFO] [querier.py:97] [execute()] Request: {\"query_type\": \"labelrow\", \"query_method\": \"GET\", \"values\": {\"uid\": \"081f8eb1-f3cc-485a-b96e-b30f922..\n",
      "[06/28/2021 07:57:08 AM] [INFO] [querier.py:97] [execute()] Request: {\"query_type\": \"labelrow\", \"query_method\": \"GET\", \"values\": {\"uid\": \"878fd8c7-f2ee-4756-a5b9-60fa334..\n",
      "[06/28/2021 07:57:09 AM] [INFO] [querier.py:97] [execute()] Request: {\"query_type\": \"labelrow\", \"query_method\": \"GET\", \"values\": {\"uid\": \"c1af2385-e998-4d92-a4d6-198dc73..\n",
      "[06/28/2021 07:57:09 AM] [INFO] [querier.py:97] [execute()] Request: {\"query_type\": \"labelrow\", \"query_method\": \"GET\", \"values\": {\"uid\": \"60652e8c-58ce-44e5-953d-ba2cab9..\n",
      "[06/28/2021 07:57:09 AM] [INFO] [querier.py:97] [execute()] Request: {\"query_type\": \"labelrow\", \"query_method\": \"GET\", \"values\": {\"uid\": \"22cebf41-cf83-43de-a9b3-3a80a45..\n",
      "[06/28/2021 07:57:10 AM] [INFO] [querier.py:97] [execute()] Request: {\"query_type\": \"labelrow\", \"query_method\": \"GET\", \"values\": {\"uid\": \"75d7a2d5-0cad-46f4-9f4c-cfa0102..\n",
      "Images in train set:  41775\n",
      "Images in val set:  4626\n"
     ]
    },
    {
     "name": "stderr",
     "output_type": "stream",
     "text": [
      "  0%|          | 0/100 [00:00<?, ?it/s]"
     ]
    },
    {
     "name": "stdout",
     "output_type": "stream",
     "text": [
      "model: ResNet34 ID=2 lr=0.0001 reg=0.001 bs=24 worker: 4\n"
     ]
    }
   ],
   "source": [
    "subscore_vascular = []\n",
    "subscore_bleeding = []\n",
    "subscore_erosion = []\n",
    "score_UCEIS = []\n",
    "QWKs = []\n",
    "acc_remissions = []\n",
    "kappa_scores = []\n",
    "\n",
    "\n",
    "if enable_wandb:\n",
    "    group_id = wandb.util.generate_id()\n",
    "        \n",
    "for i in range(number_of_experiments):\n",
    "    id = i+1    \n",
    "    \n",
    "    if enable_wandb:\n",
    "        wandb.init(project=\"cord_uceis\",\n",
    "                   group=\"CV_2_\" + group_id,\n",
    "                   save_code=True,\n",
    "                   reinit=True)\n",
    "        wandb.run.name = \"epoch_\" + str(id)\n",
    "        wandb.run.save()\n",
    "\n",
    "        config = wandb.config\n",
    "        config.model = model_name\n",
    "        config.dataset = \"37k\"\n",
    "        config.lr = learning_rate\n",
    "        config.wd = weight_decay\n",
    "        config.bs = batch_size\n",
    "        config.num_worker = num_worker\n",
    "        config.project = \"classification\"\n",
    "        config.optimizer = optimizer_name\n",
    "    \n",
    "    # ----- TRAIN -----    \n",
    "    best_acc = 0\n",
    "    early_stop_counter = 0\n",
    "        \n",
    "    print(\"\\n--------------> Starting Fold \" + str(id))\n",
    "    start = time.time()\n",
    "    \n",
    "    train_dataset = UCEIS_cord(train_folders_list[i], frame_root, cord_project_ID, cord_API_key)\n",
    "    train_set_mean, train_set_std = get_dataset_mean_and_std(train_dataset)\n",
    "    normalize = transforms.Normalize(mean=train_set_mean,\n",
    "                                     std=train_set_std)\n",
    "    \n",
    "    run_experiment(id, train_folders_list[i], val_folders_list[i], normalize, best_acc, early_stop_counter)\n",
    "    elapsed = time.time() - start\n",
    "    print(\"total training time: \" + str(elapsed / 60) + \" min\")    \n",
    "    \n",
    "    # ----- TEST -----\n",
    "    acc_vascular, acc_bleeding, acc_erosion, acc_UCEIS, QWK, acc_remission, kappa_score = get_test_results(id, val_folders_list[i], normalize)\n",
    "    subscore_vascular.append(acc_vascular)\n",
    "    subscore_bleeding.append(acc_bleeding)\n",
    "    subscore_erosion.append(acc_erosion)\n",
    "    score_UCEIS.append(acc_UCEIS)\n",
    "    QWKs.append(QWK)\n",
    "    acc_remissions.append(acc_remission)\n",
    "    kappa_scores.append(kappa_score)\n",
    "    \n",
    "    print(\"---------------> Fold \" + str(id) + \" finished!\")\n",
    "    \n",
    "    if enable_wandb:\n",
    "        if id == number_of_experiments:\n",
    "            # Write CV results to the last fold's files\n",
    "            wandb.run.summary[\"QWK\"] = mean(QWKs)\n",
    "            wandb.run.summary[\"Acc Remission\"] = mean(acc_remissions)\n",
    "            write_results_to_file(subscore_vascular, subscore_bleeding, subscore_erosion, score_UCEIS, QWKs, acc_remissions, kappa_scores)\n",
    "        wandb.run.finish()\n"
   ]
  },
  {
   "cell_type": "code",
   "execution_count": null,
   "metadata": {},
   "outputs": [],
   "source": [
    "print(\"Vascular pattern: \"+str(subscore_vascular))\n",
    "print(\"Vascular pattern (mean): \"+ str(mean(subscore_vascular)))\n",
    "print(\"\")\n",
    "\n",
    "print(\"Bleeding: \"+str(subscore_bleeding))\n",
    "print(\"Bleeding (mean): \"+ str(mean(subscore_bleeding)))\n",
    "print(\"\")\n",
    "\n",
    "print(\"Erosion: \"+str(subscore_erosion))\n",
    "print(\"Erosion (mean): \"+ str(mean(subscore_erosion)))\n",
    "print(\"\")\n",
    "\n",
    "print(\"UCEIS: \"+str(score_UCEIS))\n",
    "print(\"UCEIS (mean): \"+ str(mean(score_UCEIS)))\n",
    "print(\"\")\n",
    "\n",
    "print(\"QWK: \"+str(QWKs))\n",
    "print(\"QWKs (mean): \"+ str(mean(QWKs)))\n",
    "print(\"\")\n",
    "\n",
    "print(\"acc_remission: \"+str(acc_remissions))\n",
    "print(\"acc_remission (mean): \"+ str(mean(acc_remissions)))\n",
    "print(\"\")\n",
    "\n",
    "print(\"kappa_score: \"+str(kappa_scores))\n",
    "print(\"kappa_score (mean): \"+ str(mean(kappa_scores)))\n",
    "print(\"\")\n"
   ]
  },
  {
   "cell_type": "code",
   "execution_count": 40,
   "metadata": {},
   "outputs": [
    {
     "data": {
      "text/plain": [
       "0"
      ]
     },
     "execution_count": 40,
     "metadata": {},
     "output_type": "execute_result"
    }
   ],
   "source": [
    "import gc\n",
    "import torch\n",
    "\n",
    "gc.collect()\n",
    "\n",
    "torch.cuda.empty_cache()\n",
    "gc.collect()\n"
   ]
  },
  {
   "cell_type": "code",
   "execution_count": 39,
   "metadata": {},
   "outputs": [
    {
     "data": {
      "text/plain": [
       "4"
      ]
     },
     "execution_count": 39,
     "metadata": {},
     "output_type": "execute_result"
    }
   ],
   "source": [
    "+2"
   ]
  },
  {
   "cell_type": "code",
   "execution_count": null,
   "metadata": {},
   "outputs": [],
   "source": []
  }
 ],
 "metadata": {
  "environment": {
   "name": "common-cu110.m73",
   "type": "gcloud",
   "uri": "gcr.io/deeplearning-platform-release/base-cu110:m73"
  },
  "kernelspec": {
   "display_name": "Python 3",
   "language": "python",
   "name": "python3"
  },
  "language_info": {
   "codemirror_mode": {
    "name": "ipython",
    "version": 3
   },
   "file_extension": ".py",
   "mimetype": "text/x-python",
   "name": "python",
   "nbconvert_exporter": "python",
   "pygments_lexer": "ipython3",
   "version": "3.7.10"
  }
 },
 "nbformat": 4,
 "nbformat_minor": 4
}
