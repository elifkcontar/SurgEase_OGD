{
 "cells": [
  {
   "cell_type": "code",
   "execution_count": 29,
   "metadata": {},
   "outputs": [],
   "source": [
    "import os\n",
    "import torch\n",
    "import torchvision.transforms as transforms\n",
    "from sklearn.metrics import confusion_matrix, classification_report, accuracy_score, cohen_kappa_score\n",
    "from datasets.UCEIS_dataset import UCEIS_cord, UCEIS_csv\n",
    "from models import resnet\n",
    "from utils.provider import get_all_level_bucketing_accuracy, get_stratified_UCEIS_accuracies, plot_confusion_matrix_2, convert_multiclass_to_binary_class\n",
    "import numpy as np\n",
    "import matplotlib.pyplot as plt\n",
    "import warnings\n",
    "\n",
    "warnings.filterwarnings('ignore')\n"
   ]
  },
  {
   "cell_type": "code",
   "execution_count": 30,
   "metadata": {},
   "outputs": [],
   "source": [
    "file = open(\"C://Users//elif//Desktop//gi//Code//splitted_folder_names//train_folders.txt\", \"r\")\n",
    "train_folders = file.read().splitlines()\n",
    "file.close()"
   ]
  },
  {
   "cell_type": "code",
   "execution_count": 44,
   "metadata": {},
   "outputs": [],
   "source": [
    "#train_folders = [\n",
    "#'video137'\n",
    "#'video162'\n",
    "#'video107'\n",
    "#'video89'\n",
    "#'video149'\n",
    "#'video159'\n",
    "#'Video_20.mp4'\n",
    "#'video86'\n",
    "#'video128'\n",
    "#'Video_14.mp4',\n",
    "#'video15'\n",
    "#]"
   ]
  },
  {
   "cell_type": "code",
   "execution_count": 31,
   "metadata": {},
   "outputs": [
    {
     "name": "stdout",
     "output_type": "stream",
     "text": [
      "device:  cuda:0\n"
     ]
    }
   ],
   "source": [
    "model_name = \"ResNet34\"\n",
    "num_worker=4\n",
    "\n",
    "frame_root = \"C:\\\\Users\\\\elif\\\\Desktop\\\\gi\\\\IBD\\\\data_all_frames_540x960\"\n",
    "cord_project_ID = '5c349378-3e58-4028-af97-96ad9d137dd3'\n",
    "cord_API_key = 'fL_ktLRxfD90iQayw2dLVg-GVkPxQZVq9p6C6cvpvlg'\n",
    "\n",
    "device = torch.device(\"cuda:0\" if torch.cuda.is_available() else \"cpu\")\n",
    "print(\"device: \", device)"
   ]
  },
  {
   "cell_type": "code",
   "execution_count": 32,
   "metadata": {},
   "outputs": [
    {
     "name": "stdout",
     "output_type": "stream",
     "text": [
      "video137\n",
      "Images in test set: 19\n",
      "UCEIS Accuracy:  0.42105263157894735\n",
      "video162\n",
      "Images in test set: 98\n",
      "UCEIS Accuracy:  0.8367346938775511\n",
      "video107\n",
      "Images in test set: 158\n",
      "UCEIS Accuracy:  0.27848101265822783\n",
      "video89\n",
      "Images in test set: 96\n",
      "UCEIS Accuracy:  0.4375\n",
      "video149\n",
      "Images in test set: 64\n",
      "UCEIS Accuracy:  0.59375\n",
      "video159\n",
      "Images in test set: 220\n",
      "UCEIS Accuracy:  0.8636363636363636\n",
      "Video_20.mp4\n",
      "Images in test set: 69\n",
      "UCEIS Accuracy:  0.9130434782608695\n",
      "video86\n",
      "Images in test set: 37\n",
      "UCEIS Accuracy:  0.5945945945945946\n",
      "video128\n",
      "Images in test set: 73\n",
      "UCEIS Accuracy:  0.7397260273972602\n",
      "Video_14.mp4\n",
      "Images in test set: 88\n",
      "UCEIS Accuracy:  0.5113636363636364\n",
      "video15\n",
      "Images in test set: 180\n",
      "UCEIS Accuracy:  0.55\n",
      "video142\n",
      "Images in test set: 7\n",
      "UCEIS Accuracy:  0.7142857142857143\n",
      "video99\n",
      "Images in test set: 297\n",
      "UCEIS Accuracy:  0.6734006734006734\n",
      "video134\n",
      "Images in test set: 29\n",
      "UCEIS Accuracy:  0.4827586206896552\n",
      "video132\n",
      "Images in test set: 55\n",
      "UCEIS Accuracy:  0.2545454545454545\n",
      "video108\n",
      "Images in test set: 175\n",
      "UCEIS Accuracy:  0.3485714285714286\n",
      "Video_1.mp4\n",
      "Images in test set: 64\n",
      "UCEIS Accuracy:  0.34375\n",
      "video126\n",
      "Images in test set: 117\n",
      "UCEIS Accuracy:  0.6752136752136753\n",
      "video178\n",
      "Images in test set: 534\n",
      "UCEIS Accuracy:  0.8951310861423221\n",
      "video125\n",
      "Images in test set: 56\n",
      "UCEIS Accuracy:  0.4107142857142857\n",
      "video98\n",
      "Images in test set: 12\n",
      "UCEIS Accuracy:  0.6666666666666666\n",
      "video58\n",
      "Images in test set: 19\n",
      "UCEIS Accuracy:  0.631578947368421\n",
      "video68\n",
      "Images in test set: 14\n",
      "UCEIS Accuracy:  0.7857142857142857\n",
      "video161\n",
      "Images in test set: 55\n",
      "UCEIS Accuracy:  0.8181818181818182\n",
      "video90\n",
      "Images in test set: 27\n",
      "UCEIS Accuracy:  0.4444444444444444\n",
      "video21\n",
      "Images in test set: 25\n",
      "UCEIS Accuracy:  0.2\n",
      "Video_18.mp4\n",
      "Images in test set: 79\n",
      "UCEIS Accuracy:  0.6329113924050633\n",
      "video83\n",
      "Images in test set: 21\n",
      "UCEIS Accuracy:  0.47619047619047616\n",
      "video139\n",
      "Images in test set: 26\n",
      "UCEIS Accuracy:  0.038461538461538464\n",
      "video113\n",
      "Images in test set: 228\n",
      "UCEIS Accuracy:  0.7412280701754386\n",
      "video145\n",
      "Images in test set: 72\n",
      "UCEIS Accuracy:  0.9166666666666666\n",
      "Video_19.mp4\n",
      "Images in test set: 40\n",
      "UCEIS Accuracy:  0.525\n",
      "video4\n",
      "Images in test set: 4\n",
      "UCEIS Accuracy:  0.5\n",
      "video146\n",
      "Images in test set: 21\n",
      "UCEIS Accuracy:  0.2857142857142857\n",
      "video160\n",
      "Images in test set: 393\n",
      "UCEIS Accuracy:  0.7608142493638677\n",
      "video45\n",
      "Images in test set: 54\n",
      "UCEIS Accuracy:  0.12962962962962962\n",
      "video147\n",
      "Images in test set: 77\n",
      "UCEIS Accuracy:  0.38961038961038963\n",
      "video40\n",
      "Images in test set: 28\n",
      "UCEIS Accuracy:  0.6428571428571429\n",
      "video104\n",
      "Images in test set: 169\n",
      "UCEIS Accuracy:  0.46153846153846156\n",
      "video31\n",
      "Images in test set: 25\n",
      "UCEIS Accuracy:  0.12\n",
      "video154\n",
      "Images in test set: 4\n",
      "UCEIS Accuracy:  0.25\n",
      "video110\n",
      "Images in test set: 115\n",
      "UCEIS Accuracy:  0.4608695652173913\n",
      "Video_2.mp4\n",
      "Images in test set: 72\n",
      "UCEIS Accuracy:  0.6388888888888888\n",
      "video35\n",
      "Images in test set: 21\n",
      "UCEIS Accuracy:  0.09523809523809523\n",
      "video175\n",
      "Images in test set: 0\n",
      "video12\n",
      "Images in test set: 17\n",
      "UCEIS Accuracy:  0.47058823529411764\n",
      "video103\n",
      "Images in test set: 63\n",
      "UCEIS Accuracy:  0.2222222222222222\n",
      "video129\n",
      "Images in test set: 4\n",
      "UCEIS Accuracy:  0.0\n",
      "video106\n",
      "Images in test set: 209\n",
      "UCEIS Accuracy:  0.5167464114832536\n",
      "video144\n",
      "Images in test set: 24\n",
      "UCEIS Accuracy:  0.3333333333333333\n",
      "video115\n",
      "Images in test set: 125\n",
      "UCEIS Accuracy:  0.752\n",
      "video10\n",
      "Images in test set: 2\n",
      "UCEIS Accuracy:  1.0\n",
      "video136\n",
      "Images in test set: 34\n",
      "UCEIS Accuracy:  0.5294117647058824\n",
      "video138\n",
      "Images in test set: 38\n",
      "UCEIS Accuracy:  0.5\n",
      "video84\n",
      "Images in test set: 11\n",
      "UCEIS Accuracy:  0.0\n",
      "video135\n",
      "Images in test set: 55\n",
      "UCEIS Accuracy:  0.36363636363636365\n",
      "video171\n",
      "Images in test set: 94\n",
      "UCEIS Accuracy:  0.574468085106383\n",
      "video170\n",
      "Images in test set: 20\n",
      "UCEIS Accuracy:  0.65\n",
      "video174\n",
      "Images in test set: 62\n",
      "UCEIS Accuracy:  0.45161290322580644\n",
      "Video_25.mp4\n",
      "Images in test set: 46\n",
      "UCEIS Accuracy:  0.9782608695652174\n",
      "video124\n",
      "Images in test set: 1\n",
      "UCEIS Accuracy:  0.0\n",
      "video153\n",
      "Images in test set: 19\n",
      "UCEIS Accuracy:  0.5263157894736842\n",
      "Video_16.mp4\n",
      "Images in test set: 59\n",
      "UCEIS Accuracy:  0.6610169491525424\n",
      "video77\n",
      "Images in test set: 47\n",
      "UCEIS Accuracy:  0.40425531914893614\n",
      "video180\n",
      "Images in test set: 10\n",
      "UCEIS Accuracy:  0.1\n",
      "video88\n",
      "Images in test set: 90\n",
      "UCEIS Accuracy:  0.5777777777777777\n",
      "video52\n",
      "Images in test set: 1184\n",
      "UCEIS Accuracy:  0.6756756756756757\n",
      "video121\n",
      "Images in test set: 51\n",
      "UCEIS Accuracy:  0.45098039215686275\n",
      "video47\n",
      "Images in test set: 268\n",
      "UCEIS Accuracy:  0.7723880597014925\n",
      "video141\n",
      "Images in test set: 97\n",
      "UCEIS Accuracy:  0.6804123711340206\n",
      "video39\n",
      "Images in test set: 18\n",
      "UCEIS Accuracy:  0.2222222222222222\n",
      "video114\n",
      "Images in test set: 71\n",
      "UCEIS Accuracy:  0.9577464788732394\n",
      "video176\n",
      "Images in test set: 4\n",
      "UCEIS Accuracy:  0.0\n",
      "video150\n",
      "Images in test set: 6\n",
      "UCEIS Accuracy:  0.6666666666666666\n",
      "video50\n",
      "Images in test set: 167\n",
      "UCEIS Accuracy:  0.6227544910179641\n",
      "video122\n",
      "Images in test set: 25\n",
      "UCEIS Accuracy:  0.28\n",
      "video32\n",
      "Images in test set: 57\n",
      "UCEIS Accuracy:  0.42105263157894735\n",
      "video169\n",
      "Images in test set: 60\n",
      "UCEIS Accuracy:  0.95\n",
      "video109\n",
      "Images in test set: 22\n",
      "UCEIS Accuracy:  0.22727272727272727\n",
      "video148\n",
      "Images in test set: 167\n",
      "UCEIS Accuracy:  0.6467065868263473\n"
     ]
    }
   ],
   "source": [
    "uceis_list = []\n",
    "vascular_list=[]\n",
    "bleeding_list=[]\n",
    "erosion_list=[]\n",
    "#### Model I used for Surgease paper results\n",
    "state_dict_name = \"weights/9_best_\"+model_name+\".pth.tar\"\n",
    "\n",
    "if model_name == \"ResNet18\":\n",
    "    model = resnet.resnet18(num_classes=[3, 4, 4])\n",
    "elif model_name == \"ResNet34\":\n",
    "    model = resnet.resnet34(num_classes=[3, 4, 4])\n",
    "elif model_name == \"ResNet50\":\n",
    "    model = resnet.resnet50(num_classes=[3, 4, 4])\n",
    "elif model_name == \"DenseNet201\":\n",
    "    model = densenet.densenet201(num_classes=[3, 4, 4])\n",
    "elif model_name == \"DenseNet121\":\n",
    "    model = densenet.densenet121(num_classes=[3, 4, 4])\n",
    "\n",
    "model.load_state_dict(torch.load(state_dict_name, map_location=device))\n",
    "model.to(device)\n",
    "model.eval()\n",
    "\n",
    "for file in train_folders:\n",
    "    print(file)\n",
    "    normalize = transforms.Normalize(mean=[0.3682399440284867, 0.2694662632497621, 0.20368512286738416],\n",
    "                                 std=[0.3335210190878823, 0.2446521312241275, 0.19399928544661488])\n",
    "\n",
    "    test_transform = transforms.Compose([transforms.ToTensor(),\n",
    "                                        normalize])\n",
    "\n",
    "    #test_dataset = UCEIS_cord([file], frame_root, cord_project_ID, cord_API_key, transform=test_transform)\n",
    "    test_dataset = UCEIS_csv([file], csv_filename=r'C:\\Users\\elif\\Desktop\\gi\\labelx20.csv', transform=test_transform)\n",
    "    test_loader = torch.utils.data.DataLoader(test_dataset, batch_size=1, shuffle=False, num_workers=num_worker,\n",
    "                                            pin_memory=True)\n",
    "\n",
    "    print(\"Images in test set: \"+str(len(test_dataset)))\n",
    "\n",
    "    if(len(test_dataset)):\n",
    "\n",
    "        y_true_UCEIS = []\n",
    "        y_true_vascular = []\n",
    "        y_true_bleeding = []\n",
    "        y_true_erosion = []\n",
    "\n",
    "        y_pred_UCEIS = []\n",
    "        y_pred_vascular = []\n",
    "        y_pred_bleeding = []\n",
    "        y_pred_erosion = []\n",
    "\n",
    "        with torch.no_grad():\n",
    "            for id, (data, target) in enumerate(test_loader):\n",
    "                data, target = data.to(device), target.to(device)\n",
    "                target.transpose_(0, 1)\n",
    "\n",
    "                y_true_vascular.append(target[0].item())\n",
    "                y_true_bleeding.append(target[1].item())\n",
    "                y_true_erosion.append(target[2].item())\n",
    "                y_true_UCEIS.append(target.sum().item())\n",
    "\n",
    "                output = model(data)\n",
    "\n",
    "                prediction_0 = output[0].argmax(dim=1, keepdim=True)[0][0].item()\n",
    "                y_pred_vascular.append(prediction_0)\n",
    "\n",
    "                prediction_1 = output[1].argmax(dim=1, keepdim=True)[0][0].item()\n",
    "                y_pred_bleeding.append(prediction_1)\n",
    "\n",
    "                prediction_2 = output[2].argmax(dim=1, keepdim=True)[0][0].item()\n",
    "                y_pred_erosion.append(prediction_2)\n",
    "\n",
    "                y_pred_UCEIS.append(prediction_0 + prediction_1 + prediction_2),\n",
    "\n",
    "        accuracy_vascular = accuracy_score(y_true_vascular, y_pred_vascular)\n",
    "\n",
    "        accuracy_bleeding = accuracy_score(y_true_bleeding, y_pred_bleeding)\n",
    "\n",
    "        accuracy_erosion = accuracy_score(y_true_erosion, y_pred_erosion)\n",
    "\n",
    "        accuracy_UCEIS = accuracy_score(y_true_UCEIS, y_pred_UCEIS)\n",
    "\n",
    "        print(\"UCEIS Accuracy: \", accuracy_UCEIS)\n",
    "        uceis_list.append(accuracy_UCEIS)\n",
    "        vascular_list.append(accuracy_vascular)\n",
    "        bleeding_list.append(accuracy_bleeding)\n",
    "        erosion_list.append(accuracy_erosion)"
   ]
  },
  {
   "cell_type": "code",
   "execution_count": 33,
   "metadata": {},
   "outputs": [
    {
     "name": "stdout",
     "output_type": "stream",
     "text": [
      "video137\n",
      "Images in test set: 417\n",
      "UCEIS Accuracy:  0.41007194244604317\n",
      "video162\n",
      "Images in test set: 1573\n",
      "UCEIS Accuracy:  0.9020979020979021\n",
      "video107\n",
      "Images in test set: 3197\n",
      "UCEIS Accuracy:  0.2752580544260244\n",
      "video89\n",
      "Images in test set: 1874\n",
      "UCEIS Accuracy:  0.4391675560298826\n",
      "video149\n",
      "Images in test set: 1249\n",
      "UCEIS Accuracy:  0.5908726981585268\n",
      "video159\n",
      "Images in test set: 4446\n",
      "UCEIS Accuracy:  0.8261358524516419\n",
      "Video_20.mp4\n",
      "Images in test set: 1384\n",
      "UCEIS Accuracy:  0.8858381502890174\n",
      "video86\n",
      "Images in test set: 711\n",
      "UCEIS Accuracy:  0.60056258790436\n",
      "video128\n",
      "Images in test set: 1523\n",
      "UCEIS Accuracy:  0.7504924491135916\n",
      "Video_14.mp4\n",
      "Images in test set: 1750\n",
      "UCEIS Accuracy:  0.5411428571428571\n",
      "video15\n",
      "Images in test set: 3582\n",
      "UCEIS Accuracy:  0.5212171970965941\n",
      "video142\n",
      "Images in test set: 134\n",
      "UCEIS Accuracy:  0.6417910447761194\n",
      "video99\n",
      "Images in test set: 5939\n",
      "UCEIS Accuracy:  0.6561710725711399\n",
      "video134\n",
      "Images in test set: 529\n",
      "UCEIS Accuracy:  0.3761814744801512\n",
      "video132\n",
      "Images in test set: 1120\n",
      "UCEIS Accuracy:  0.24196428571428572\n",
      "video108\n",
      "Images in test set: 3500\n",
      "UCEIS Accuracy:  0.3462857142857143\n",
      "Video_1.mp4\n",
      "Images in test set: 1273\n",
      "UCEIS Accuracy:  0.30479183032207385\n",
      "video126\n",
      "Images in test set: 2355\n",
      "UCEIS Accuracy:  0.6751592356687898\n",
      "video178\n",
      "Images in test set: 1803\n",
      "UCEIS Accuracy:  0.8352745424292846\n",
      "video125\n",
      "Images in test set: 1113\n",
      "UCEIS Accuracy:  0.435759209344115\n",
      "video98\n",
      "Images in test set: 243\n",
      "UCEIS Accuracy:  0.6872427983539094\n",
      "video58\n",
      "Images in test set: 374\n",
      "UCEIS Accuracy:  0.5213903743315508\n",
      "video68\n",
      "Images in test set: 257\n",
      "UCEIS Accuracy:  0.7470817120622568\n",
      "video161\n",
      "Images in test set: 1022\n",
      "UCEIS Accuracy:  0.7906066536203522\n",
      "video90\n",
      "Images in test set: 492\n",
      "UCEIS Accuracy:  0.4024390243902439\n",
      "video21\n",
      "Images in test set: 465\n",
      "UCEIS Accuracy:  0.24516129032258063\n",
      "Video_18.mp4\n",
      "Images in test set: 1547\n",
      "UCEIS Accuracy:  0.6296056884292178\n",
      "video83\n",
      "Images in test set: 435\n",
      "UCEIS Accuracy:  0.38620689655172413\n",
      "video139\n",
      "Images in test set: 530\n",
      "UCEIS Accuracy:  0.018867924528301886\n",
      "video113\n",
      "Images in test set: 4776\n",
      "UCEIS Accuracy:  0.7340871021775545\n",
      "video145\n",
      "Images in test set: 1418\n",
      "UCEIS Accuracy:  0.922425952045134\n",
      "Video_19.mp4\n",
      "Images in test set: 785\n",
      "UCEIS Accuracy:  0.5121019108280255\n",
      "video4\n",
      "Images in test set: 69\n",
      "UCEIS Accuracy:  0.463768115942029\n",
      "video146\n",
      "Images in test set: 366\n",
      "UCEIS Accuracy:  0.28688524590163933\n",
      "video160\n",
      "Images in test set: 7878\n",
      "UCEIS Accuracy:  0.7627570449352628\n",
      "video45\n",
      "Images in test set: 4\n",
      "UCEIS Accuracy:  0.0\n",
      "video147\n",
      "Images in test set: 117\n",
      "UCEIS Accuracy:  0.4188034188034188\n",
      "video40\n",
      "Images in test set: 21\n",
      "UCEIS Accuracy:  0.8095238095238095\n",
      "video104\n",
      "Images in test set: 3360\n",
      "UCEIS Accuracy:  0.46398809523809526\n",
      "video31\n",
      "Images in test set: 442\n",
      "UCEIS Accuracy:  0.1832579185520362\n",
      "video154\n",
      "Images in test set: 71\n",
      "UCEIS Accuracy:  0.38028169014084506\n",
      "video110\n",
      "Images in test set: 2216\n",
      "UCEIS Accuracy:  0.44223826714801445\n",
      "Video_2.mp4\n",
      "Images in test set: 1465\n",
      "UCEIS Accuracy:  0.6109215017064846\n",
      "video35\n",
      "Images in test set: 436\n",
      "UCEIS Accuracy:  0.05504587155963303\n",
      "video175\n",
      "Images in test set: 0\n",
      "video12\n",
      "Images in test set: 344\n",
      "UCEIS Accuracy:  0.4563953488372093\n",
      "video103\n",
      "Images in test set: 1300\n",
      "UCEIS Accuracy:  0.17\n",
      "video129\n",
      "Images in test set: 50\n",
      "UCEIS Accuracy:  0.3\n",
      "video106\n",
      "Images in test set: 4156\n",
      "UCEIS Accuracy:  0.47401347449470643\n",
      "video144\n",
      "Images in test set: 432\n",
      "UCEIS Accuracy:  0.40046296296296297\n",
      "video115\n",
      "Images in test set: 2505\n",
      "UCEIS Accuracy:  0.713373253493014\n",
      "video10\n",
      "Images in test set: 48\n",
      "UCEIS Accuracy:  0.2916666666666667\n",
      "video136\n",
      "Images in test set: 696\n",
      "UCEIS Accuracy:  0.5474137931034483\n",
      "video138\n",
      "Images in test set: 764\n",
      "UCEIS Accuracy:  0.581151832460733\n",
      "video84\n",
      "Images in test set: 237\n",
      "UCEIS Accuracy:  0.16033755274261605\n",
      "video135\n",
      "Images in test set: 1101\n",
      "UCEIS Accuracy:  0.3760217983651226\n",
      "video171\n",
      "Images in test set: 1837\n",
      "UCEIS Accuracy:  0.5596080566140447\n",
      "video170\n",
      "Images in test set: 404\n",
      "UCEIS Accuracy:  0.4628712871287129\n",
      "video174\n",
      "Images in test set: 1212\n",
      "UCEIS Accuracy:  0.44554455445544555\n",
      "Video_25.mp4\n",
      "Images in test set: 901\n",
      "UCEIS Accuracy:  0.978912319644839\n",
      "video124\n",
      "Images in test set: 26\n",
      "UCEIS Accuracy:  0.0\n",
      "video153\n",
      "Images in test set: 384\n",
      "UCEIS Accuracy:  0.484375\n",
      "Video_16.mp4\n",
      "Images in test set: 1171\n",
      "UCEIS Accuracy:  0.6712211784799317\n",
      "video77\n",
      "Images in test set: 904\n",
      "UCEIS Accuracy:  0.377212389380531\n",
      "video180\n",
      "Images in test set: 173\n",
      "UCEIS Accuracy:  0.2023121387283237\n",
      "video88\n",
      "Images in test set: 1772\n",
      "UCEIS Accuracy:  0.600451467268623\n",
      "video52\n",
      "Images in test set: 23801\n",
      "UCEIS Accuracy:  0.6757699256333768\n",
      "video121\n",
      "Images in test set: 1008\n",
      "UCEIS Accuracy:  0.44543650793650796\n",
      "video47\n",
      "Images in test set: 5408\n",
      "UCEIS Accuracy:  0.7509245562130178\n",
      "video141\n",
      "Images in test set: 1901\n",
      "UCEIS Accuracy:  0.6733298264071541\n",
      "video39\n",
      "Images in test set: 320\n",
      "UCEIS Accuracy:  0.215625\n",
      "video114\n",
      "Images in test set: 1382\n",
      "UCEIS Accuracy:  0.9254703328509407\n",
      "video176\n",
      "Images in test set: 94\n",
      "UCEIS Accuracy:  0.776595744680851\n",
      "video150\n",
      "Images in test set: 93\n",
      "UCEIS Accuracy:  0.7204301075268817\n",
      "video50\n",
      "Images in test set: 3219\n",
      "UCEIS Accuracy:  0.6657347002174588\n",
      "video122\n",
      "Images in test set: 503\n",
      "UCEIS Accuracy:  0.2644135188866799\n",
      "video32\n",
      "Images in test set: 1069\n",
      "UCEIS Accuracy:  0.3461178671655753\n",
      "video169\n",
      "Images in test set: 1195\n",
      "UCEIS Accuracy:  0.9606694560669456\n",
      "video109\n",
      "Images in test set: 460\n",
      "UCEIS Accuracy:  0.1391304347826087\n",
      "video148\n",
      "Images in test set: 3389\n",
      "UCEIS Accuracy:  0.624963115963411\n"
     ]
    }
   ],
   "source": [
    "uceis_list_outsample = []\n",
    "vascular_list_outsample =[]\n",
    "bleeding_list_outsample =[]\n",
    "erosion_list_outsample =[]\n",
    "#### Model I used for Surgease paper results\n",
    "state_dict_name = \"weights/9_best_\"+model_name+\".pth.tar\"\n",
    "\n",
    "if model_name == \"ResNet18\":\n",
    "    model = resnet.resnet18(num_classes=[3, 4, 4])\n",
    "elif model_name == \"ResNet34\":\n",
    "    model = resnet.resnet34(num_classes=[3, 4, 4])\n",
    "elif model_name == \"ResNet50\":\n",
    "    model = resnet.resnet50(num_classes=[3, 4, 4])\n",
    "elif model_name == \"DenseNet201\":\n",
    "    model = densenet.densenet201(num_classes=[3, 4, 4])\n",
    "elif model_name == \"DenseNet121\":\n",
    "    model = densenet.densenet121(num_classes=[3, 4, 4])\n",
    "\n",
    "model.load_state_dict(torch.load(state_dict_name, map_location=device))\n",
    "model.to(device)\n",
    "model.eval()\n",
    "\n",
    "for file in train_folders:\n",
    "    print(file)\n",
    "    normalize = transforms.Normalize(mean=[0.3682399440284867, 0.2694662632497621, 0.20368512286738416],\n",
    "                                 std=[0.3335210190878823, 0.2446521312241275, 0.19399928544661488])\n",
    "\n",
    "    test_transform = transforms.Compose([transforms.ToTensor(),\n",
    "                                        normalize])\n",
    "\n",
    "    #test_dataset = UCEIS_cord([file], frame_root, cord_project_ID, cord_API_key, transform=test_transform)\n",
    "    test_dataset = UCEIS_csv([file], csv_filename=r'C:\\Users\\elif\\Desktop\\gi\\label.csv', transform=test_transform)\n",
    "    test_loader = torch.utils.data.DataLoader(test_dataset, batch_size=1, shuffle=False, num_workers=num_worker,\n",
    "                                            pin_memory=True)\n",
    "\n",
    "    print(\"Images in test set: \"+str(len(test_dataset)))\n",
    "    if(len(test_dataset)):\n",
    "\n",
    "        y_true_UCEIS_outsample = []\n",
    "        y_true_vascular_outsample  = []\n",
    "        y_true_bleeding_outsample  = []\n",
    "        y_true_erosion_outsample  = []\n",
    "\n",
    "        y_pred_UCEIS_outsample  = []\n",
    "        y_pred_vascular_outsample  = []\n",
    "        y_pred_bleeding_outsample  = []\n",
    "        y_pred_erosion_outsample  = []\n",
    "\n",
    "        with torch.no_grad():\n",
    "            for id, (data, target) in enumerate(test_loader):\n",
    "                data, target = data.to(device), target.to(device)\n",
    "                target.transpose_(0, 1)\n",
    "\n",
    "                y_true_vascular_outsample .append(target[0].item())\n",
    "                y_true_bleeding_outsample .append(target[1].item())\n",
    "                y_true_erosion_outsample .append(target[2].item())\n",
    "                y_true_UCEIS_outsample .append(target.sum().item())\n",
    "\n",
    "                output = model(data)\n",
    "\n",
    "                prediction_0 = output[0].argmax(dim=1, keepdim=True)[0][0].item()\n",
    "                y_pred_vascular_outsample .append(prediction_0)\n",
    "\n",
    "                prediction_1 = output[1].argmax(dim=1, keepdim=True)[0][0].item()\n",
    "                y_pred_bleeding_outsample .append(prediction_1)\n",
    "\n",
    "                prediction_2 = output[2].argmax(dim=1, keepdim=True)[0][0].item()\n",
    "                y_pred_erosion_outsample .append(prediction_2)\n",
    "\n",
    "                y_pred_UCEIS_outsample .append(prediction_0 + prediction_1 + prediction_2),\n",
    "\n",
    "        accuracy_vascular = accuracy_score(y_true_vascular_outsample , y_pred_vascular_outsample )\n",
    "\n",
    "        accuracy_bleeding = accuracy_score(y_true_bleeding_outsample , y_pred_bleeding_outsample )\n",
    "\n",
    "        accuracy_erosion = accuracy_score(y_true_erosion_outsample , y_pred_erosion_outsample )\n",
    "\n",
    "        accuracy_UCEIS = accuracy_score(y_true_UCEIS_outsample , y_pred_UCEIS_outsample )\n",
    "\n",
    "        print(\"UCEIS Accuracy: \", accuracy_UCEIS)\n",
    "        uceis_list_outsample .append(accuracy_UCEIS)\n",
    "        vascular_list_outsample .append(accuracy_vascular)\n",
    "        bleeding_list_outsample .append(accuracy_bleeding)\n",
    "        erosion_list_outsample .append(accuracy_erosion)"
   ]
  },
  {
   "cell_type": "code",
   "execution_count": null,
   "metadata": {},
   "outputs": [
    {
     "data": {
      "image/png": "[encoded data removed]",
      "text/plain": [
       "<Figure size 1080x432 with 1 Axes>"
      ]
     },
     "metadata": {
      "needs_background": "light"
     },
     "output_type": "display_data"
    }
   ],
   "source": [
    "#uceis_list=[12,34,56,78,90]\n",
    "#uceis_list_outsample=[13,35,57,79,91]\n",
    "plt.figure(figsize=(15, 6))\n",
    "x = np.arange(start=1, stop=len(uceis_list)+1)\n",
    "plt.plot(x, uceis_list, 'o', color='black')\n",
    "plt.plot(x, uceis_list_outsample, 'o', color='red')\n",
    "plt.show()\n"
   ]
  },
  {
   "cell_type": "code",
   "execution_count": 102,
   "metadata": {},
   "outputs": [
    {
     "data": {
      "image/png": "[encoded data removed]",
      "text/plain": [
       "<Figure size 2160x864 with 1 Axes>"
      ]
     },
     "metadata": {
      "needs_background": "light"
     },
     "output_type": "display_data"
    }
   ],
   "source": [
    "plt.figure(figsize=(30, 12))\n",
    "x = np.arange(start=1, stop=len(uceis_list)+1)\n",
    "plt.plot(x, uceis_list, 'o', color='black')\n",
    "plt.plot(x, vascular_list, 'v', color='red')\n",
    "plt.plot(x, bleeding_list, '+', color='green')\n",
    "plt.plot(x, erosion_list, '*', color='blue')\n",
    "plt.grid(axis = 'x', which='both')\n",
    "plt.show()"
   ]
  },
  {
   "cell_type": "code",
   "execution_count": 69,
   "metadata": {},
   "outputs": [
    {
     "data": {
      "image/png": "[encoded data removed]",
      "text/plain": [
       "<Figure size 432x288 with 1 Axes>"
      ]
     },
     "metadata": {
      "needs_background": "light"
     },
     "output_type": "display_data"
    },
    {
     "data": {
      "image/png": "[encoded data removed]",
      "text/plain": [
       "<Figure size 432x288 with 1 Axes>"
      ]
     },
     "metadata": {
      "needs_background": "light"
     },
     "output_type": "display_data"
    },
    {
     "data": {
      "image/png": "[encoded data removed]",
      "text/plain": [
       "<Figure size 432x288 with 1 Axes>"
      ]
     },
     "metadata": {
      "needs_background": "light"
     },
     "output_type": "display_data"
    }
   ],
   "source": [
    "x = np.arange(start=1, stop=len(vascular_list)+1)\n",
    "plt.plot(x, vascular_list, 'o', color='black')\n",
    "plt.show()\n",
    "x = np.arange(start=1, stop=len(bleeding_list)+1)\n",
    "plt.plot(x, bleeding_list, 'o', color='black')\n",
    "plt.show()\n",
    "x = np.arange(start=1, stop=len(erosion_list)+1)\n",
    "plt.plot(x, erosion_list, 'o', color='black')\n",
    "plt.show()"
   ]
  },
  {
   "cell_type": "code",
   "execution_count": null,
   "metadata": {},
   "outputs": [],
   "source": []
  },
  {
   "cell_type": "code",
   "execution_count": 38,
   "metadata": {},
   "outputs": [
    {
     "name": "stdout",
     "output_type": "stream",
     "text": [
      "Images in test set: 7264\n"
     ]
    }
   ],
   "source": [
    "normalize = transforms.Normalize(mean=[0.3682399440284867, 0.2694662632497621, 0.20368512286738416],\n",
    "                                 std=[0.3335210190878823, 0.2446521312241275, 0.19399928544661488])\n",
    "\n",
    "test_transform = transforms.Compose([transforms.ToTensor(),\n",
    "                                     normalize])\n",
    "\n",
    "#test_dataset = UCEIS_cord(train_folders, frame_root, cord_project_ID, cord_API_key, transform=test_transform)\n",
    "test_dataset = UCEIS_csv(train_folders, csv_filename=r'C:\\Users\\elif\\Desktop\\gi\\labelx20.csv', transform=test_transform)\n",
    "test_loader = torch.utils.data.DataLoader(test_dataset, batch_size=1, shuffle=False, num_workers=num_worker,\n",
    "                                          pin_memory=True)\n",
    "\n",
    "print(\"Images in test set: \"+str(len(test_dataset)))"
   ]
  },
  {
   "cell_type": "code",
   "execution_count": 39,
   "metadata": {},
   "outputs": [
    {
     "data": {
      "text/plain": [
       "ResNet(\n",
       "  (conv1): Conv2d(3, 64, kernel_size=(7, 7), stride=(2, 2), padding=(3, 3), bias=False)\n",
       "  (bn1): BatchNorm2d(64, eps=1e-05, momentum=0.1, affine=True, track_running_stats=True)\n",
       "  (relu): ReLU(inplace=True)\n",
       "  (maxpool): MaxPool2d(kernel_size=3, stride=2, padding=1, dilation=1, ceil_mode=False)\n",
       "  (layer1): Sequential(\n",
       "    (0): BasicBlock(\n",
       "      (conv1): Conv2d(64, 64, kernel_size=(3, 3), stride=(1, 1), padding=(1, 1), bias=False)\n",
       "      (bn1): BatchNorm2d(64, eps=1e-05, momentum=0.1, affine=True, track_running_stats=True)\n",
       "      (relu): ReLU(inplace=True)\n",
       "      (conv2): Conv2d(64, 64, kernel_size=(3, 3), stride=(1, 1), padding=(1, 1), bias=False)\n",
       "      (bn2): BatchNorm2d(64, eps=1e-05, momentum=0.1, affine=True, track_running_stats=True)\n",
       "    )\n",
       "    (1): BasicBlock(\n",
       "      (conv1): Conv2d(64, 64, kernel_size=(3, 3), stride=(1, 1), padding=(1, 1), bias=False)\n",
       "      (bn1): BatchNorm2d(64, eps=1e-05, momentum=0.1, affine=True, track_running_stats=True)\n",
       "      (relu): ReLU(inplace=True)\n",
       "      (conv2): Conv2d(64, 64, kernel_size=(3, 3), stride=(1, 1), padding=(1, 1), bias=False)\n",
       "      (bn2): BatchNorm2d(64, eps=1e-05, momentum=0.1, affine=True, track_running_stats=True)\n",
       "    )\n",
       "    (2): BasicBlock(\n",
       "      (conv1): Conv2d(64, 64, kernel_size=(3, 3), stride=(1, 1), padding=(1, 1), bias=False)\n",
       "      (bn1): BatchNorm2d(64, eps=1e-05, momentum=0.1, affine=True, track_running_stats=True)\n",
       "      (relu): ReLU(inplace=True)\n",
       "      (conv2): Conv2d(64, 64, kernel_size=(3, 3), stride=(1, 1), padding=(1, 1), bias=False)\n",
       "      (bn2): BatchNorm2d(64, eps=1e-05, momentum=0.1, affine=True, track_running_stats=True)\n",
       "    )\n",
       "  )\n",
       "  (layer2): Sequential(\n",
       "    (0): BasicBlock(\n",
       "      (conv1): Conv2d(64, 128, kernel_size=(3, 3), stride=(2, 2), padding=(1, 1), bias=False)\n",
       "      (bn1): BatchNorm2d(128, eps=1e-05, momentum=0.1, affine=True, track_running_stats=True)\n",
       "      (relu): ReLU(inplace=True)\n",
       "      (conv2): Conv2d(128, 128, kernel_size=(3, 3), stride=(1, 1), padding=(1, 1), bias=False)\n",
       "      (bn2): BatchNorm2d(128, eps=1e-05, momentum=0.1, affine=True, track_running_stats=True)\n",
       "      (downsample): Sequential(\n",
       "        (0): Conv2d(64, 128, kernel_size=(1, 1), stride=(2, 2), bias=False)\n",
       "        (1): BatchNorm2d(128, eps=1e-05, momentum=0.1, affine=True, track_running_stats=True)\n",
       "      )\n",
       "    )\n",
       "    (1): BasicBlock(\n",
       "      (conv1): Conv2d(128, 128, kernel_size=(3, 3), stride=(1, 1), padding=(1, 1), bias=False)\n",
       "      (bn1): BatchNorm2d(128, eps=1e-05, momentum=0.1, affine=True, track_running_stats=True)\n",
       "      (relu): ReLU(inplace=True)\n",
       "      (conv2): Conv2d(128, 128, kernel_size=(3, 3), stride=(1, 1), padding=(1, 1), bias=False)\n",
       "      (bn2): BatchNorm2d(128, eps=1e-05, momentum=0.1, affine=True, track_running_stats=True)\n",
       "    )\n",
       "    (2): BasicBlock(\n",
       "      (conv1): Conv2d(128, 128, kernel_size=(3, 3), stride=(1, 1), padding=(1, 1), bias=False)\n",
       "      (bn1): BatchNorm2d(128, eps=1e-05, momentum=0.1, affine=True, track_running_stats=True)\n",
       "      (relu): ReLU(inplace=True)\n",
       "      (conv2): Conv2d(128, 128, kernel_size=(3, 3), stride=(1, 1), padding=(1, 1), bias=False)\n",
       "      (bn2): BatchNorm2d(128, eps=1e-05, momentum=0.1, affine=True, track_running_stats=True)\n",
       "    )\n",
       "    (3): BasicBlock(\n",
       "      (conv1): Conv2d(128, 128, kernel_size=(3, 3), stride=(1, 1), padding=(1, 1), bias=False)\n",
       "      (bn1): BatchNorm2d(128, eps=1e-05, momentum=0.1, affine=True, track_running_stats=True)\n",
       "      (relu): ReLU(inplace=True)\n",
       "      (conv2): Conv2d(128, 128, kernel_size=(3, 3), stride=(1, 1), padding=(1, 1), bias=False)\n",
       "      (bn2): BatchNorm2d(128, eps=1e-05, momentum=0.1, affine=True, track_running_stats=True)\n",
       "    )\n",
       "  )\n",
       "  (layer3): Sequential(\n",
       "    (0): BasicBlock(\n",
       "      (conv1): Conv2d(128, 256, kernel_size=(3, 3), stride=(2, 2), padding=(1, 1), bias=False)\n",
       "      (bn1): BatchNorm2d(256, eps=1e-05, momentum=0.1, affine=True, track_running_stats=True)\n",
       "      (relu): ReLU(inplace=True)\n",
       "      (conv2): Conv2d(256, 256, kernel_size=(3, 3), stride=(1, 1), padding=(1, 1), bias=False)\n",
       "      (bn2): BatchNorm2d(256, eps=1e-05, momentum=0.1, affine=True, track_running_stats=True)\n",
       "      (downsample): Sequential(\n",
       "        (0): Conv2d(128, 256, kernel_size=(1, 1), stride=(2, 2), bias=False)\n",
       "        (1): BatchNorm2d(256, eps=1e-05, momentum=0.1, affine=True, track_running_stats=True)\n",
       "      )\n",
       "    )\n",
       "    (1): BasicBlock(\n",
       "      (conv1): Conv2d(256, 256, kernel_size=(3, 3), stride=(1, 1), padding=(1, 1), bias=False)\n",
       "      (bn1): BatchNorm2d(256, eps=1e-05, momentum=0.1, affine=True, track_running_stats=True)\n",
       "      (relu): ReLU(inplace=True)\n",
       "      (conv2): Conv2d(256, 256, kernel_size=(3, 3), stride=(1, 1), padding=(1, 1), bias=False)\n",
       "      (bn2): BatchNorm2d(256, eps=1e-05, momentum=0.1, affine=True, track_running_stats=True)\n",
       "    )\n",
       "    (2): BasicBlock(\n",
       "      (conv1): Conv2d(256, 256, kernel_size=(3, 3), stride=(1, 1), padding=(1, 1), bias=False)\n",
       "      (bn1): BatchNorm2d(256, eps=1e-05, momentum=0.1, affine=True, track_running_stats=True)\n",
       "      (relu): ReLU(inplace=True)\n",
       "      (conv2): Conv2d(256, 256, kernel_size=(3, 3), stride=(1, 1), padding=(1, 1), bias=False)\n",
       "      (bn2): BatchNorm2d(256, eps=1e-05, momentum=0.1, affine=True, track_running_stats=True)\n",
       "    )\n",
       "    (3): BasicBlock(\n",
       "      (conv1): Conv2d(256, 256, kernel_size=(3, 3), stride=(1, 1), padding=(1, 1), bias=False)\n",
       "      (bn1): BatchNorm2d(256, eps=1e-05, momentum=0.1, affine=True, track_running_stats=True)\n",
       "      (relu): ReLU(inplace=True)\n",
       "      (conv2): Conv2d(256, 256, kernel_size=(3, 3), stride=(1, 1), padding=(1, 1), bias=False)\n",
       "      (bn2): BatchNorm2d(256, eps=1e-05, momentum=0.1, affine=True, track_running_stats=True)\n",
       "    )\n",
       "    (4): BasicBlock(\n",
       "      (conv1): Conv2d(256, 256, kernel_size=(3, 3), stride=(1, 1), padding=(1, 1), bias=False)\n",
       "      (bn1): BatchNorm2d(256, eps=1e-05, momentum=0.1, affine=True, track_running_stats=True)\n",
       "      (relu): ReLU(inplace=True)\n",
       "      (conv2): Conv2d(256, 256, kernel_size=(3, 3), stride=(1, 1), padding=(1, 1), bias=False)\n",
       "      (bn2): BatchNorm2d(256, eps=1e-05, momentum=0.1, affine=True, track_running_stats=True)\n",
       "    )\n",
       "    (5): BasicBlock(\n",
       "      (conv1): Conv2d(256, 256, kernel_size=(3, 3), stride=(1, 1), padding=(1, 1), bias=False)\n",
       "      (bn1): BatchNorm2d(256, eps=1e-05, momentum=0.1, affine=True, track_running_stats=True)\n",
       "      (relu): ReLU(inplace=True)\n",
       "      (conv2): Conv2d(256, 256, kernel_size=(3, 3), stride=(1, 1), padding=(1, 1), bias=False)\n",
       "      (bn2): BatchNorm2d(256, eps=1e-05, momentum=0.1, affine=True, track_running_stats=True)\n",
       "    )\n",
       "  )\n",
       "  (layer4): Sequential(\n",
       "    (0): BasicBlock(\n",
       "      (conv1): Conv2d(256, 512, kernel_size=(3, 3), stride=(2, 2), padding=(1, 1), bias=False)\n",
       "      (bn1): BatchNorm2d(512, eps=1e-05, momentum=0.1, affine=True, track_running_stats=True)\n",
       "      (relu): ReLU(inplace=True)\n",
       "      (conv2): Conv2d(512, 512, kernel_size=(3, 3), stride=(1, 1), padding=(1, 1), bias=False)\n",
       "      (bn2): BatchNorm2d(512, eps=1e-05, momentum=0.1, affine=True, track_running_stats=True)\n",
       "      (downsample): Sequential(\n",
       "        (0): Conv2d(256, 512, kernel_size=(1, 1), stride=(2, 2), bias=False)\n",
       "        (1): BatchNorm2d(512, eps=1e-05, momentum=0.1, affine=True, track_running_stats=True)\n",
       "      )\n",
       "    )\n",
       "    (1): BasicBlock(\n",
       "      (conv1): Conv2d(512, 512, kernel_size=(3, 3), stride=(1, 1), padding=(1, 1), bias=False)\n",
       "      (bn1): BatchNorm2d(512, eps=1e-05, momentum=0.1, affine=True, track_running_stats=True)\n",
       "      (relu): ReLU(inplace=True)\n",
       "      (conv2): Conv2d(512, 512, kernel_size=(3, 3), stride=(1, 1), padding=(1, 1), bias=False)\n",
       "      (bn2): BatchNorm2d(512, eps=1e-05, momentum=0.1, affine=True, track_running_stats=True)\n",
       "    )\n",
       "    (2): BasicBlock(\n",
       "      (conv1): Conv2d(512, 512, kernel_size=(3, 3), stride=(1, 1), padding=(1, 1), bias=False)\n",
       "      (bn1): BatchNorm2d(512, eps=1e-05, momentum=0.1, affine=True, track_running_stats=True)\n",
       "      (relu): ReLU(inplace=True)\n",
       "      (conv2): Conv2d(512, 512, kernel_size=(3, 3), stride=(1, 1), padding=(1, 1), bias=False)\n",
       "      (bn2): BatchNorm2d(512, eps=1e-05, momentum=0.1, affine=True, track_running_stats=True)\n",
       "    )\n",
       "  )\n",
       "  (avgpool): AdaptiveAvgPool2d(output_size=(1, 1))\n",
       "  (dropout): Dropout(p=0.3, inplace=False)\n",
       "  (fc1): Linear(in_features=512, out_features=3, bias=True)\n",
       "  (fc2): Linear(in_features=512, out_features=4, bias=True)\n",
       "  (fc3): Linear(in_features=512, out_features=4, bias=True)\n",
       ")"
      ]
     },
     "execution_count": 39,
     "metadata": {},
     "output_type": "execute_result"
    }
   ],
   "source": [
    "#state_dict_name = \"weights/6_best_\"+model_name+\".pth.tar\"\n",
    "#state_dict_name = \"weights/3_best_\"+model_name+\".pth.tar\"\n",
    "#state_dict_name = \"weights/3_best_\"+model_name+\".pth.tar\"\n",
    "#state_dict_name = \"weights/4_best_\"+model_name+\"_1.pth.tar\"\n",
    "#state_dict_name = \"weights/4_best_\"+model_name+\"_2.pth.tar\"\n",
    "#state_dict_name = \"weights/8_best_\"+model_name+\".pth.tar\"\n",
    "\n",
    "#### Model I used for Surgease paper results\n",
    "state_dict_name = \"weights/9_best_\"+model_name+\".pth.tar\"\n",
    "\n",
    "if model_name == \"ResNet18\":\n",
    "    model = resnet.resnet18(num_classes=[3, 4, 4])\n",
    "elif model_name == \"ResNet34\":\n",
    "    model = resnet.resnet34(num_classes=[3, 4, 4])\n",
    "elif model_name == \"ResNet50\":\n",
    "    model = resnet.resnet50(num_classes=[3, 4, 4])\n",
    "elif model_name == \"DenseNet201\":\n",
    "    model = densenet.densenet201(num_classes=[3, 4, 4])\n",
    "elif model_name == \"DenseNet121\":\n",
    "    model = densenet.densenet121(num_classes=[3, 4, 4])\n",
    "\n",
    "model.load_state_dict(torch.load(state_dict_name, map_location=device))\n",
    "model.to(device)\n",
    "model.eval()"
   ]
  },
  {
   "cell_type": "code",
   "execution_count": 41,
   "metadata": {},
   "outputs": [],
   "source": [
    "y_true_UCEIS = []\n",
    "y_true_vascular = []\n",
    "y_true_bleeding = []\n",
    "y_true_erosion = []\n",
    "\n",
    "y_pred_UCEIS = []\n",
    "y_pred_vascular = []\n",
    "y_pred_bleeding = []\n",
    "y_pred_erosion = []\n",
    "\n",
    "with torch.no_grad():\n",
    "    for id, (data, target) in enumerate(test_loader):\n",
    "        data, target = data.to(device), target.to(device)\n",
    "        target.transpose_(0, 1)\n",
    "\n",
    "        y_true_vascular.append(target[0].item())\n",
    "        y_true_bleeding.append(target[1].item())\n",
    "        y_true_erosion.append(target[2].item())\n",
    "        y_true_UCEIS.append(target.sum().item())\n",
    "\n",
    "        output = model(data)\n",
    "\n",
    "        prediction_0 = output[0].argmax(dim=1, keepdim=True)[0][0].item()\n",
    "        y_pred_vascular.append(prediction_0)\n",
    "\n",
    "        prediction_1 = output[1].argmax(dim=1, keepdim=True)[0][0].item()\n",
    "        y_pred_bleeding.append(prediction_1)\n",
    "\n",
    "        prediction_2 = output[2].argmax(dim=1, keepdim=True)[0][0].item()\n",
    "        y_pred_erosion.append(prediction_2)\n",
    "\n",
    "        y_pred_UCEIS.append(prediction_0 + prediction_1 + prediction_2)\n"
   ]
  },
  {
   "cell_type": "code",
   "execution_count": 42,
   "metadata": {},
   "outputs": [
    {
     "name": "stdout",
     "output_type": "stream",
     "text": [
      "Vascular Accuracy:  0.8430616740088106\n",
      "Confusion matrix, without normalization\n",
      "[[ 174  273   49]\n",
      " [  42 2417  583]\n",
      " [   4  189 3533]]\n"
     ]
    },
    {
     "data": {
      "image/png": "[encoded data removed]",
      "text/plain": [
       "<Figure size 432x288 with 2 Axes>"
      ]
     },
     "metadata": {
      "needs_background": "light"
     },
     "output_type": "display_data"
    },
    {
     "name": "stdout",
     "output_type": "stream",
     "text": [
      "---------------------------------------\n",
      "\n",
      "Bleeding Accuracy:  0.8284691629955947\n",
      "Confusion matrix, without normalization\n",
      "[[4315   28  173   41]\n",
      " [ 238  243  194   13]\n",
      " [ 325   22  932   45]\n",
      " [ 120    0   47  528]]\n"
     ]
    },
    {
     "data": {
      "image/png": "[encoded data removed]",
      "text/plain": [
       "<Figure size 432x288 with 2 Axes>"
      ]
     },
     "metadata": {
      "needs_background": "light"
     },
     "output_type": "display_data"
    },
    {
     "name": "stdout",
     "output_type": "stream",
     "text": [
      "---------------------------------------\n",
      "\n",
      "Erosion Accuracy:  0.8546255506607929\n",
      "Confusion matrix, without normalization\n",
      "[[5343  155    7   55]\n",
      " [ 550  726    1   26]\n",
      " [ 103   68    4   15]\n",
      " [  35   37    4  135]]\n"
     ]
    },
    {
     "data": {
      "image/png": "[encoded data removed]",
      "text/plain": [
       "<Figure size 432x288 with 2 Axes>"
      ]
     },
     "metadata": {
      "needs_background": "light"
     },
     "output_type": "display_data"
    },
    {
     "name": "stdout",
     "output_type": "stream",
     "text": [
      "---------------------------------------\n",
      "\n",
      "UCEIS Accuracy:  0.6287169603524229\n",
      "Confusion matrix, without normalization\n",
      "[[ 141  234   39   16    1    0    0    0    0]\n",
      " [  33 1484  272   30   29    3    0    0    0]\n",
      " [   5  231 1455  110   50   24    0    0    3]\n",
      " [   1   69  322  466  153   91    1   12    3]\n",
      " [   0   89  191   74  609  139    1    2    5]\n",
      " [   0    4   57   67  107  340    2    4   29]\n",
      " [   0    1   12   21   30   49    4    5   19]\n",
      " [   0    0    2    7   13   23    0   15    6]\n",
      " [   0    0    0    0    0    6    0    0   53]]\n"
     ]
    },
    {
     "data": {
      "image/png": "[encoded data removed]",
      "text/plain": [
       "<Figure size 432x288 with 2 Axes>"
      ]
     },
     "metadata": {
      "needs_background": "light"
     },
     "output_type": "display_data"
    }
   ],
   "source": [
    "cm_vascular = confusion_matrix(y_true_vascular, y_pred_vascular, labels=[0, 1, 2])\n",
    "accuracy_vascular = accuracy_score(y_true_vascular, y_pred_vascular)\n",
    "\n",
    "cm_bleeding = confusion_matrix(y_true_bleeding, y_pred_bleeding, labels=[0, 1, 2, 3])\n",
    "accuracy_bleeding = accuracy_score(y_true_bleeding, y_pred_bleeding)\n",
    "\n",
    "cm_erosion = confusion_matrix(y_true_erosion, y_pred_erosion, labels=[0, 1, 2, 3])\n",
    "accuracy_erosion = accuracy_score(y_true_erosion, y_pred_erosion)\n",
    "\n",
    "cm_UCEIS = confusion_matrix(y_true_UCEIS, y_pred_UCEIS, labels=[0, 1, 2, 3, 4, 5, 6, 7, 8])\n",
    "accuracy_UCEIS = accuracy_score(y_true_UCEIS, y_pred_UCEIS)\n",
    "\n",
    "\n",
    "print(\"Vascular Accuracy: \", accuracy_vascular)\n",
    "plot_confusion_matrix_2(cm_vascular, classes=[\"0\", \"1\", \"2\"], title=\"Vascular Pattern\")\n",
    "plt.show()\n",
    "print(\"---------------------------------------\\n\")\n",
    "\n",
    "print(\"Bleeding Accuracy: \", accuracy_bleeding)\n",
    "plot_confusion_matrix_2(cm_bleeding, classes=[\"0\", \"1\", \"2\", \"3\"], title=\"Bleeding\")\n",
    "plt.show()\n",
    "print(\"---------------------------------------\\n\")\n",
    "\n",
    "print(\"Erosion Accuracy: \", accuracy_erosion)\n",
    "plot_confusion_matrix_2(cm_erosion, classes=[\"0\", \"1\", \"2\", \"3\"], title=\"Erosion\")\n",
    "plt.show()\n",
    "print(\"---------------------------------------\\n\")\n",
    "\n",
    "print(\"UCEIS Accuracy: \", accuracy_UCEIS)\n",
    "plot_confusion_matrix_2(cm_UCEIS, classes=[\"0\", \"1\", \"2\", \"3\", \"4\", \"5\", \"6\", \"7\", \"8\"], title=\"UCEIS\")\n",
    "plt.show()"
   ]
  },
  {
   "cell_type": "code",
   "execution_count": null,
   "metadata": {},
   "outputs": [],
   "source": []
  },
  {
   "cell_type": "markdown",
   "metadata": {},
   "source": [
    "**Bucketing scores for different bucket levels**"
   ]
  },
  {
   "cell_type": "code",
   "execution_count": 31,
   "metadata": {},
   "outputs": [
    {
     "name": "stdout",
     "output_type": "stream",
     "text": [
      "[0.27848101265822783, 0.5379746835443038, 0.8860759493670886, 0.9367088607594937, 0.9936708860759493, 1.0, 1.0, 1.0, 1.0]\n"
     ]
    },
    {
     "data": {
      "image/png": "[encoded data removed]",
      "text/plain": [
       "<Figure size 720x720 with 1 Axes>"
      ]
     },
     "metadata": {
      "needs_background": "light"
     },
     "output_type": "display_data"
    }
   ],
   "source": [
    "bucketing_scores = get_all_level_bucketing_accuracy(y_true_UCEIS, y_pred_UCEIS)\n",
    "print(bucketing_scores)\n",
    "plt.figure(figsize=(10,10))\n",
    "plt.plot(bucketing_scores)\n",
    "plt.title(\"Bucketing Accuracy\")\n",
    "plt.xlabel(\"Bucketing level\")\n",
    "plt.ylabel(\"Accuracy\")\n",
    "plt.yticks(bucketing_scores)\n",
    "plt.grid(True)\n",
    "plt.ylim(0, 1.1)\n",
    "plt.show()"
   ]
  },
  {
   "cell_type": "markdown",
   "metadata": {},
   "source": [
    "**Video level quadratic weighted kappa score**"
   ]
  },
  {
   "cell_type": "code",
   "execution_count": 170,
   "metadata": {},
   "outputs": [
    {
     "name": "stdout",
     "output_type": "stream",
     "text": [
      "Quadratic Kappa Score (9-classes):  0.8979798079482002\n"
     ]
    }
   ],
   "source": [
    "quadratic_kappa_score = cohen_kappa_score(y_true_UCEIS, y_pred_UCEIS, weights=\"quadratic\")\n",
    "print(\"Quadratic Kappa Score (9-classes): \", quadratic_kappa_score)"
   ]
  },
  {
   "cell_type": "code",
   "execution_count": 171,
   "metadata": {},
   "outputs": [
    {
     "name": "stdout",
     "output_type": "stream",
     "text": [
      "Quadratic Kappa Score (9-classes):  0.7441472162174015\n"
     ]
    }
   ],
   "source": [
    "quadratic_kappa_score = cohen_kappa_score(y_true_bleeding, y_pred_bleeding, weights=\"quadratic\")\n",
    "print(\"Quadratic Kappa Score (9-classes): \", quadratic_kappa_score)"
   ]
  },
  {
   "cell_type": "code",
   "execution_count": 172,
   "metadata": {},
   "outputs": [
    {
     "name": "stdout",
     "output_type": "stream",
     "text": [
      "Quadratic Kappa Score (9-classes):  0.7401452264733981\n"
     ]
    }
   ],
   "source": [
    "quadratic_kappa_score = cohen_kappa_score(y_true_vascular, y_pred_vascular, weights=\"quadratic\")\n",
    "print(\"Quadratic Kappa Score (9-classes): \", quadratic_kappa_score)"
   ]
  },
  {
   "cell_type": "code",
   "execution_count": 173,
   "metadata": {},
   "outputs": [
    {
     "name": "stdout",
     "output_type": "stream",
     "text": [
      "Quadratic Kappa Score (9-classes):  0.8810388288892487\n"
     ]
    }
   ],
   "source": [
    "quadratic_kappa_score = cohen_kappa_score(y_true_erosion, y_pred_erosion, weights=\"quadratic\")\n",
    "print(\"Quadratic Kappa Score (9-classes): \", quadratic_kappa_score)"
   ]
  },
  {
   "cell_type": "markdown",
   "metadata": {},
   "source": [
    "**Video level remission results**"
   ]
  },
  {
   "cell_type": "code",
   "execution_count": 174,
   "metadata": {},
   "outputs": [
    {
     "name": "stdout",
     "output_type": "stream",
     "text": [
      "UCEIS Accuracy (0 vs 1-8):  0.8763608087091758\n",
      "Confusion matrix, without normalization\n",
      "[[ 675  322]\n",
      " [ 314 3833]]\n"
     ]
    },
    {
     "data": {
      "image/png": "[encoded data removed]",
      "text/plain": [
       "<Figure size 432x288 with 2 Axes>"
      ]
     },
     "metadata": {
      "needs_background": "light"
     },
     "output_type": "display_data"
    }
   ],
   "source": [
    "y_true_remission = convert_multiclass_to_binary_class(y_true_UCEIS)\n",
    "y_pred_remission = convert_multiclass_to_binary_class(y_pred_UCEIS)\n",
    "\n",
    "cm_UCEIS_remission = confusion_matrix(y_true_remission, y_pred_remission, labels=[0, 1])\n",
    "accuracy_UCEIS_remission = accuracy_score(y_true_remission, y_pred_remission)\n",
    "\n",
    "print(\"UCEIS Accuracy (0 vs 1-8): \", accuracy_UCEIS_remission)\n",
    "plot_confusion_matrix_2(cm_UCEIS_remission, classes=[\"0\", \"1-8\"], title=\"UCEIS Remission\")\n",
    "plt.show()"
   ]
  },
  {
   "cell_type": "markdown",
   "metadata": {},
   "source": [
    "**Video level remission kappa score**"
   ]
  },
  {
   "cell_type": "code",
   "execution_count": 175,
   "metadata": {},
   "outputs": [
    {
     "name": "stdout",
     "output_type": "stream",
     "text": [
      "Remission Kappa Score:  0.6031518023347636\n"
     ]
    }
   ],
   "source": [
    "kappa_score = cohen_kappa_score(y_true_remission, y_pred_remission)\n",
    "print(\"Remission Kappa Score: \", kappa_score)"
   ]
  },
  {
   "cell_type": "code",
   "execution_count": 38,
   "metadata": {},
   "outputs": [
    {
     "data": {
      "text/plain": [
       "729"
      ]
     },
     "execution_count": 38,
     "metadata": {},
     "output_type": "execute_result"
    }
   ],
   "source": [
    "cm_UCEIS[0][0] + cm_UCEIS[0][1]+cm_UCEIS[1][1] + cm_UCEIS[1][0]"
   ]
  },
  {
   "cell_type": "code",
   "execution_count": 44,
   "metadata": {},
   "outputs": [
    {
     "data": {
      "text/plain": [
       "818"
      ]
     },
     "execution_count": 44,
     "metadata": {},
     "output_type": "execute_result"
    }
   ],
   "source": [
    "sum(cm_UCEIS[3:][0]) + sum(cm_UCEIS[3:][1]) + sum(cm_UCEIS[0][3:]) + sum(cm_UCEIS[1][3:])"
   ]
  },
  {
   "cell_type": "code",
   "execution_count": 94,
   "metadata": {},
   "outputs": [
    {
     "data": {
      "text/plain": [
       "array([[3249,  281,    0,    0,    0,    0,    0,    0,    0],\n",
       "       [ 417,  863,    9,    0,    0,    0,    0,    0,    0],\n",
       "       [ 120,  575,  203,   16,    2,    0,    0,    0,    0],\n",
       "       [   0,    5,   22,   15,   67,    5,    0,    0,    0],\n",
       "       [   0,    0,    1,    4, 1209,  153,    0,    0,    0],\n",
       "       [   0,    0,    0,    5,  191,  494,    0,    1,    0],\n",
       "       [   0,    0,    0,    0,  144,   24,    0,    0,    0],\n",
       "       [   0,    0,    0,    0,    0,  301,    0,    0,    0],\n",
       "       [   0,    0,    0,    0,    0,    0,    0,    0,    0]])"
      ]
     },
     "execution_count": 94,
     "metadata": {},
     "output_type": "execute_result"
    }
   ],
   "source": [
    "cm_UCEIS"
   ]
  },
  {
   "cell_type": "code",
   "execution_count": 183,
   "metadata": {},
   "outputs": [],
   "source": [
    "import pandas as pd\n",
    "df = pd.DataFrame(cm_UCEIS)\n",
    "df.to_csv('./results/train_test_w_no_val_uceis.csv')"
   ]
  },
  {
   "cell_type": "code",
   "execution_count": 184,
   "metadata": {},
   "outputs": [],
   "source": [
    "import pandas as pd\n",
    "df = pd.DataFrame(cm_vascular)\n",
    "df.to_csv('./results/train_test_w_no_val_vascular.csv')"
   ]
  },
  {
   "cell_type": "code",
   "execution_count": 185,
   "metadata": {},
   "outputs": [],
   "source": [
    "import pandas as pd\n",
    "df = pd.DataFrame(cm_bleeding)\n",
    "df.to_csv('./results/train_test_w_no_val_bleeding.csv')"
   ]
  },
  {
   "cell_type": "code",
   "execution_count": 186,
   "metadata": {},
   "outputs": [],
   "source": [
    "import pandas as pd\n",
    "df = pd.DataFrame(cm_erosion)\n",
    "df.to_csv('./results/train_test_w_no_val_erosion.csv')"
   ]
  },
  {
   "cell_type": "code",
   "execution_count": 181,
   "metadata": {},
   "outputs": [],
   "source": [
    "import pandas as pd\n",
    "df = pd.DataFrame(cm_UCEIS)"
   ]
  },
  {
   "cell_type": "code",
   "execution_count": 113,
   "metadata": {},
   "outputs": [
    {
     "data": {
      "text/plain": [
       "array([[1209,  153,    0,    0,    0],\n",
       "       [ 191,  494,    0,    1,    0],\n",
       "       [ 144,   24,    0,    0,    0],\n",
       "       [   0,  301,    0,    0,    0],\n",
       "       [   0,    0,    0,    0,    0]])"
      ]
     },
     "execution_count": 113,
     "metadata": {},
     "output_type": "execute_result"
    }
   ],
   "source": [
    "(cm_UCEIS[4:,4:])\n"
   ]
  },
  {
   "cell_type": "code",
   "execution_count": 114,
   "metadata": {},
   "outputs": [
    {
     "data": {
      "text/plain": [
       "array([[3249,  281,    0,    0],\n",
       "       [ 417,  863,    9,    0],\n",
       "       [ 120,  575,  203,   16],\n",
       "       [   0,    5,   22,   15]])"
      ]
     },
     "execution_count": 114,
     "metadata": {},
     "output_type": "execute_result"
    }
   ],
   "source": [
    "(cm_UCEIS[0:4,0:4])"
   ]
  },
  {
   "cell_type": "code",
   "execution_count": 179,
   "metadata": {},
   "outputs": [
    {
     "data": {
      "text/plain": [
       "0.9844479004665629"
      ]
     },
     "execution_count": 179,
     "metadata": {},
     "output_type": "execute_result"
    }
   ],
   "source": [
    "(sum(sum((cm_UCEIS[0:4,0:4]))) + sum(sum((cm_UCEIS[4:,4:]))) )/ sum(sum(cm_UCEIS))"
   ]
  },
  {
   "cell_type": "code",
   "execution_count": 73,
   "metadata": {},
   "outputs": [
    {
     "data": {
      "text/plain": [
       "0.9723852260959613"
      ]
     },
     "execution_count": 73,
     "metadata": {},
     "output_type": "execute_result"
    }
   ],
   "source": [
    "2817.0/2897"
   ]
  },
  {
   "cell_type": "code",
   "execution_count": 108,
   "metadata": {},
   "outputs": [
    {
     "data": {
      "text/plain": [
       "8376"
      ]
     },
     "execution_count": 108,
     "metadata": {},
     "output_type": "execute_result"
    }
   ],
   "source": [
    "sum(sum(cm_UCEIS))"
   ]
  },
  {
   "cell_type": "code",
   "execution_count": 176,
   "metadata": {},
   "outputs": [
    {
     "data": {
      "text/plain": [
       "0.7857698289269052"
      ]
     },
     "execution_count": 176,
     "metadata": {},
     "output_type": "execute_result"
    }
   ],
   "source": [
    "(sum(sum((cm_UCEIS[0:2,0:2]))) + sum(sum((cm_UCEIS[2:,2:]))) )/ sum(sum(cm_UCEIS))"
   ]
  },
  {
   "cell_type": "code",
   "execution_count": 178,
   "metadata": {},
   "outputs": [
    {
     "data": {
      "text/plain": [
       "array([[757,  16,   2,   0,   0,   0,   0],\n",
       "       [ 42,  27,  67,   5,   0,   0,   0],\n",
       "       [  1,   1, 550, 152,   0,   0,   0],\n",
       "       [  0,   4, 191,  29,   0,   0,   0],\n",
       "       [  0,   0,   0,   0,   0,   0,   0],\n",
       "       [  0,   0,   0, 301,   0,   0,   0],\n",
       "       [  0,   0,   0,   0,   0,   0,   0]])"
      ]
     },
     "execution_count": 178,
     "metadata": {},
     "output_type": "execute_result"
    }
   ],
   "source": [
    "cm_UCEIS[2:,2:]"
   ]
  },
  {
   "cell_type": "code",
   "execution_count": 119,
   "metadata": {},
   "outputs": [
    {
     "data": {
      "text/plain": [
       "0.9153533906399236"
      ]
     },
     "execution_count": 119,
     "metadata": {},
     "output_type": "execute_result"
    }
   ],
   "source": [
    "7667.0/8376"
   ]
  },
  {
   "cell_type": "code",
   "execution_count": 117,
   "metadata": {},
   "outputs": [
    {
     "data": {
      "text/plain": [
       "array([[ 203,   16,    2,    0,    0,    0,    0],\n",
       "       [  22,   15,   67,    5,    0,    0,    0],\n",
       "       [   1,    4, 1209,  153,    0,    0,    0],\n",
       "       [   0,    5,  191,  494,    0,    1,    0],\n",
       "       [   0,    0,  144,   24,    0,    0,    0],\n",
       "       [   0,    0,    0,  301,    0,    0,    0],\n",
       "       [   0,    0,    0,    0,    0,    0,    0]])"
      ]
     },
     "execution_count": 117,
     "metadata": {},
     "output_type": "execute_result"
    }
   ],
   "source": [
    "(cm_UCEIS[2:,2:])"
   ]
  },
  {
   "cell_type": "code",
   "execution_count": 116,
   "metadata": {},
   "outputs": [
    {
     "data": {
      "text/plain": [
       "array([[3249,  281],\n",
       "       [ 417,  863]])"
      ]
     },
     "execution_count": 116,
     "metadata": {},
     "output_type": "execute_result"
    }
   ],
   "source": [
    "(cm_UCEIS[0:2,0:2])"
   ]
  },
  {
   "cell_type": "code",
   "execution_count": 42,
   "metadata": {},
   "outputs": [
    {
     "data": {
      "text/plain": [
       "0.3241284086986538"
      ]
     },
     "execution_count": 42,
     "metadata": {},
     "output_type": "execute_result"
    }
   ],
   "source": [
    "(sum(cm_UCEIS[2:][0]) + sum(cm_UCEIS[2:][1]) + sum(cm_UCEIS[0][2:]) + sum(cm_UCEIS[1][2:]))*1.0 / sum(sum(cm_UCEIS))"
   ]
  },
  {
   "cell_type": "code",
   "execution_count": 232,
   "metadata": {},
   "outputs": [
    {
     "data": {
      "text/plain": [
       "0.424468962672716"
      ]
     },
     "execution_count": 232,
     "metadata": {},
     "output_type": "execute_result"
    }
   ],
   "source": [
    "8233/19396.0"
   ]
  },
  {
   "cell_type": "code",
   "execution_count": 233,
   "metadata": {},
   "outputs": [
    {
     "data": {
      "text/plain": [
       "0.575531037327284"
      ]
     },
     "execution_count": 233,
     "metadata": {},
     "output_type": "execute_result"
    }
   ],
   "source": [
    "1-_"
   ]
  },
  {
   "cell_type": "code",
   "execution_count": null,
   "metadata": {},
   "outputs": [],
   "source": [
    "###Fold 1 : 83.56 1 bucket , 87,6 remission\n",
    "###Fold 2 : 84.74 1 bucket , 91.9 remission"
   ]
  },
  {
   "cell_type": "code",
   "execution_count": 58,
   "metadata": {},
   "outputs": [
    {
     "data": {
      "text/plain": [
       "37107"
      ]
     },
     "execution_count": 58,
     "metadata": {},
     "output_type": "execute_result"
    }
   ],
   "source": [
    "len(y_pred_vascular)"
   ]
  },
  {
   "cell_type": "code",
   "execution_count": 60,
   "metadata": {},
   "outputs": [],
   "source": [
    "import pandas as pd\n",
    "\n",
    "d=pd.DataFrame((test_loader.dataset.frame_paths))\n",
    "d[1] = d[0].str.split('/').apply(lambda x:x[-3])\n",
    "d[1].unique()"
   ]
  },
  {
   "cell_type": "code",
   "execution_count": 37,
   "metadata": {},
   "outputs": [],
   "source": [
    "file = open(\"splitted_folder_names/predetermined_test_folders.txt\", \"r\")\n",
    "test_folders = file.read().splitlines()"
   ]
  },
  {
   "cell_type": "code",
   "execution_count": 38,
   "metadata": {},
   "outputs": [
    {
     "data": {
      "text/plain": [
       "['UC10-0.mp4',\n",
       " 'UC15-1.mp4',\n",
       " 'UC21-2.mp4',\n",
       " 'UC14-4.mp4',\n",
       " 'UC53-4.mp4',\n",
       " 'UC61-4.mp4',\n",
       " 'UC79-4.mp4',\n",
       " 'UC29-5.mp4',\n",
       " 'UC30-5.mp4',\n",
       " 'UC1-6.mp4']"
      ]
     },
     "execution_count": 38,
     "metadata": {},
     "output_type": "execute_result"
    }
   ],
   "source": [
    "test_folders"
   ]
  },
  {
   "cell_type": "code",
   "execution_count": 39,
   "metadata": {},
   "outputs": [
    {
     "data": {
      "text/plain": [
       "3297"
      ]
     },
     "execution_count": 39,
     "metadata": {},
     "output_type": "execute_result"
    }
   ],
   "source": [
    "len(y_true_UCEIS)"
   ]
  },
  {
   "cell_type": "code",
   "execution_count": 11,
   "metadata": {},
   "outputs": [
    {
     "data": {
      "text/plain": [
       "0"
      ]
     },
     "execution_count": 11,
     "metadata": {},
     "output_type": "execute_result"
    }
   ],
   "source": [
    "import gc\n",
    "import torch\n",
    "\n",
    "gc.collect()\n",
    "\n",
    "torch.cuda.empty_cache()\n",
    "gc.collect()\n"
   ]
  },
  {
   "cell_type": "code",
   "execution_count": 43,
   "metadata": {},
   "outputs": [
    {
     "data": {
      "text/plain": [
       "3297"
      ]
     },
     "execution_count": 43,
     "metadata": {},
     "output_type": "execute_result"
    }
   ],
   "source": []
  },
  {
   "cell_type": "code",
   "execution_count": null,
   "metadata": {},
   "outputs": [],
   "source": []
  },
  {
   "cell_type": "code",
   "execution_count": 25,
   "metadata": {},
   "outputs": [
    {
     "data": {
      "text/plain": [
       "array([[3249,  281,    0,    0,    0,    0,    0,    0,    0],\n",
       "       [ 417,  863,    9,    0,    0,    0,    0,    0,    0],\n",
       "       [ 120,  575,  203,   16,    2,    0,    0,    0,    0],\n",
       "       [   0,    5,   22,   15,   67,    5,    0,    0,    0],\n",
       "       [   0,    0,    1,    4, 1209,  153,    0,    0,    0],\n",
       "       [   0,    0,    0,    5,  191,  494,    0,    1,    0],\n",
       "       [   0,    0,    0,    0,  144,   24,    0,    0,    0],\n",
       "       [   0,    0,    0,    0,    0,  301,    0,    0,    0],\n",
       "       [   0,    0,    0,    0,    0,    0,    0,    0,    0]])"
      ]
     },
     "execution_count": 25,
     "metadata": {},
     "output_type": "execute_result"
    }
   ],
   "source": [
    "np.array([[3249,  281,    0,    0,    0,    0,    0,    0,    0],\n",
    "       [ 417,  863,    9,    0,    0,    0,    0,    0,    0],\n",
    "       [ 120,  575,  203,   16,    2,    0,    0,    0,    0],\n",
    "       [   0,    5,   22,   15,   67,    5,    0,    0,    0],\n",
    "       [   0,    0,    1,    4, 1209,  153,    0,    0,    0],\n",
    "       [   0,    0,    0,    5,  191,  494,    0,    1,    0],\n",
    "       [   0,    0,    0,    0,  144,   24,    0,    0,    0],\n",
    "       [   0,    0,    0,    0,    0,  301,    0,    0,    0],\n",
    "       [   0,    0,    0,    0,    0,    0,    0,    0,    0]])"
   ]
  },
  {
   "cell_type": "code",
   "execution_count": 26,
   "metadata": {},
   "outputs": [],
   "source": [
    "cm_UCEIS = _"
   ]
  },
  {
   "cell_type": "code",
   "execution_count": 29,
   "metadata": {},
   "outputs": [
    {
     "data": {
      "text/plain": [
       "8376"
      ]
     },
     "execution_count": 29,
     "metadata": {},
     "output_type": "execute_result"
    }
   ],
   "source": [
    "sum(sum(cm_UCEIS))"
   ]
  },
  {
   "cell_type": "code",
   "execution_count": null,
   "metadata": {},
   "outputs": [],
   "source": [
    "[[ 675  322]\n",
    " [ 314 3833]]"
   ]
  },
  {
   "cell_type": "code",
   "execution_count": null,
   "metadata": {},
   "outputs": [],
   "source": []
  }
 ],
 "metadata": {
  "environment": {
   "name": "common-cu110.m73",
   "type": "gcloud",
   "uri": "gcr.io/deeplearning-platform-release/base-cu110:m73"
  },
  "kernelspec": {
   "display_name": "Python 3",
   "language": "python",
   "name": "python3"
  },
  "language_info": {
   "codemirror_mode": {
    "name": "ipython",
    "version": 3
   },
   "file_extension": ".py",
   "mimetype": "text/x-python",
   "name": "python",
   "nbconvert_exporter": "python",
   "pygments_lexer": "ipython3",
   "version": "3.9.12"
  }
 },
 "nbformat": 4,
 "nbformat_minor": 4
}
