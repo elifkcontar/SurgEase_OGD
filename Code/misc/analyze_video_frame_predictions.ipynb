{
 "cells": [
  {
   "cell_type": "code",
   "execution_count": 1,
   "metadata": {},
   "outputs": [],
   "source": [
    "import os\n",
    "import json\n",
    "import math\n",
    "from statistics import mean\n",
    "from scipy.signal import medfilt\n",
    "import matplotlib.pyplot as plt\n",
    "from IPython.display import Video"
   ]
  },
  {
   "cell_type": "code",
   "execution_count": 2,
   "metadata": {},
   "outputs": [],
   "source": [
    "f = open(\"../result_files/video_prediction_results.json\")\n",
    "annotations = json.load(f)"
   ]
  },
  {
   "cell_type": "code",
   "execution_count": 26,
   "metadata": {},
   "outputs": [],
   "source": [
    "video_index = 8\n",
    "median_filter_size = 75 # 25 corresponds to 1 seconds"
   ]
  },
  {
   "cell_type": "code",
   "execution_count": 27,
   "metadata": {},
   "outputs": [
    {
     "name": "stdout",
     "output_type": "stream",
     "text": [
      "UC76-4.mp4\n"
     ]
    }
   ],
   "source": [
    "video_name = annotations[video_index][\"video_name\"]\n",
    "video_path = os.path.join(\"../../IBD/data_only_video_scores\", video_name, \"video/video.mp4\")\n",
    "print(video_name)"
   ]
  },
  {
   "cell_type": "code",
   "execution_count": 5,
   "metadata": {},
   "outputs": [
    {
     "data": {
      "text/html": [
       "<video src=\"../../IBD/data_only_video_scores/UC44-5.mp4/video/video.mp4\" controls  width=\"960\"  height=\"540\">\n",
       "      Your browser does not support the <code>video</code> element.\n",
       "    </video>"
      ],
      "text/plain": [
       "<IPython.core.display.Video object>"
      ]
     },
     "execution_count": 5,
     "metadata": {},
     "output_type": "execute_result"
    }
   ],
   "source": [
    "Video(video_path, width=960, height=540)"
   ]
  },
  {
   "cell_type": "code",
   "execution_count": 6,
   "metadata": {},
   "outputs": [],
   "source": [
    "def get_ratios(scores):\n",
    "    size = len(scores)\n",
    "    unique_items = sorted(list(set(scores)))\n",
    "    score_ratios = {}\n",
    "    for item in unique_items:\n",
    "        score_ratios[item] = scores.count(item)/size\n",
    "    return score_ratios"
   ]
  },
  {
   "cell_type": "code",
   "execution_count": 7,
   "metadata": {},
   "outputs": [],
   "source": [
    "def calculate_final_score(score_ratios, subscore_type=0):\n",
    "    \"\"\"\n",
    "    subscore_type: 0=Vacular Pattern (0-2)\n",
    "                   1=Bleeding (0-3)\n",
    "                   2=Erosion (0-3)\n",
    "    \"\"\"\n",
    "    VP_threshold_2 = 0.20\n",
    "    VP_threshold_2_1 = 0.25\n",
    "    \n",
    "    B_threshold_3 = 0.20\n",
    "    B_threshold_3_2 = 0.20\n",
    "    B_threshold_3_2_1 = 0.25\n",
    "    \n",
    "    if subscore_type == 0:\n",
    "        if score_ratios.get(2, 0) > VP_threshold_2:\n",
    "            return 2\n",
    "        elif (score_ratios.get(2, 0)+score_ratios.get(1, 0)) > VP_threshold_2_1:\n",
    "            return 1\n",
    "        else:\n",
    "            return 0        \n",
    "    elif subscore_type == 1 or subscore_type == 2:\n",
    "        if score_ratios.get(3, 0) > B_threshold_3:\n",
    "            return 3\n",
    "        elif (score_ratios.get(3, 0)+score_ratios.get(2, 0)) > B_threshold_3_2:\n",
    "            return 2\n",
    "        elif (score_ratios.get(3, 0)+score_ratios.get(2, 0)+score_ratios.get(1, 0)) > B_threshold_3_2_1:\n",
    "            return 1\n",
    "        else:\n",
    "            return 0\n",
    "    else:\n",
    "        raise Exception(\"No subscore_type as \"+str(subscore_type)+\". Valid subscore_types: 0, 1, 2.\")\n",
    "    "
   ]
  },
  {
   "cell_type": "code",
   "execution_count": 8,
   "metadata": {},
   "outputs": [
    {
     "name": "stdout",
     "output_type": "stream",
     "text": [
      "mean values\n",
      "VP:1.94 | Bleeding:1.36 | Erosion:1.08\n",
      "Total time: 55.32 seconds => 0.922 mins\n"
     ]
    }
   ],
   "source": [
    "print(\"mean values\")\n",
    "print(\"VP:\"+ \"{:3.2f}\".format(mean(annotations[video_index][\"Vascular_Pattern\"]))+\" | \"+\n",
    "      \"Bleeding:\"+ \"{:3.2f}\".format(mean(annotations[video_index][\"Bleeding\"]))+\" | \"+\n",
    "      \"Erosion:\"+ \"{:3.2f}\".format(mean(annotations[video_index][\"Erosion\"])))\n",
    "print(\"Total time: \"+str(len(annotations[video_index][\"Vascular_Pattern\"])/25.0)+\" seconds => \"+str(len(annotations[video_index][\"Vascular_Pattern\"])/(60.0*25))+\" mins\")"
   ]
  },
  {
   "cell_type": "code",
   "execution_count": 9,
   "metadata": {},
   "outputs": [],
   "source": [
    "Vascular_Pattern_thresholded = medfilt(annotations[video_index][\"Vascular_Pattern\"], median_filter_size)\n",
    "Bleeding_thresholded = medfilt(annotations[video_index][\"Bleeding\"], median_filter_size)\n",
    "Erosion_thresholded = medfilt(annotations[video_index][\"Erosion\"], median_filter_size)\n",
    "\n",
    "Vascular_Pattern_thresholded = [int(item) for item in Vascular_Pattern_thresholded]\n",
    "Bleeding_thresholded = [int(item) for item in Bleeding_thresholded]\n",
    "Erosion_thresholded = [int(item) for item in Erosion_thresholded]"
   ]
  },
  {
   "cell_type": "code",
   "execution_count": 10,
   "metadata": {},
   "outputs": [],
   "source": [
    "x_axis = [x/25.0 for x in range(len(annotations[video_index][\"Vascular_Pattern\"]))]\n",
    "x_ticks = [x for x in range(int(math.ceil(len(annotations[video_index][\"Vascular_Pattern\"])/25.0)))]"
   ]
  },
  {
   "cell_type": "code",
   "execution_count": 11,
   "metadata": {},
   "outputs": [
    {
     "name": "stdout",
     "output_type": "stream",
     "text": [
      "{0: 0.0014461315979754157, 1: 0.05712219812002892, 2: 0.9414316702819957}\n",
      "2\n",
      "{1: 0.04338394793926247, 2: 0.9566160520607375}\n",
      "2\n"
     ]
    },
    {
     "data": {
      "text/plain": [
       "Text(0.5, 0.98, 'Vascular Pattern')"
      ]
     },
     "execution_count": 11,
     "metadata": {},
     "output_type": "execute_result"
    },
    {
     "data": {
      "image/png": "[encoded data removed]",
      "text/plain": [
       "<Figure size 1440x288 with 2 Axes>"
      ]
     },
     "metadata": {
      "needs_background": "light"
     },
     "output_type": "display_data"
    }
   ],
   "source": [
    "original_ratios = get_ratios(annotations[video_index][\"Vascular_Pattern\"])\n",
    "filtered_ratios = get_ratios(Vascular_Pattern_thresholded)\n",
    "\n",
    "\n",
    "print(original_ratios)\n",
    "print(calculate_final_score(original_ratios, 0))\n",
    "print(filtered_ratios)\n",
    "print(calculate_final_score(filtered_ratios, 0))\n",
    "\n",
    "fig, axs = plt.subplots(1,2, figsize=(20, 4))\n",
    "axs[0].set_title(\"original\")\n",
    "axs[0].set_xlabel(\"seconds\")\n",
    "# axs[0].set_xticks(x_ticks)\n",
    "axs[0].scatter(x_axis, annotations[video_index][\"Vascular_Pattern\"])\n",
    "axs[0].grid()\n",
    "\n",
    "axs[1].set_title(\"filtered\")\n",
    "axs[1].set_xlabel(\"seconds\")\n",
    "# axs[1].set_xticks(x_ticks)\n",
    "axs[1].scatter(x_axis, Vascular_Pattern_thresholded)\n",
    "axs[1].grid()\n",
    "plt.suptitle(\"Vascular Pattern\")"
   ]
  },
  {
   "cell_type": "code",
   "execution_count": 12,
   "metadata": {},
   "outputs": [
    {
     "name": "stdout",
     "output_type": "stream",
     "text": [
      "{0: 0.023138105567606652, 1: 0.5936370209689081, 2: 0.3825018076644975, 3: 0.0007230657989877079}\n",
      "2\n",
      "{1: 0.665943600867679, 2: 0.33405639913232105}\n",
      "2\n"
     ]
    },
    {
     "data": {
      "text/plain": [
       "Text(0.5, 0.98, 'Bleeding')"
      ]
     },
     "execution_count": 12,
     "metadata": {},
     "output_type": "execute_result"
    },
    {
     "data": {
      "image/png": "[encoded data removed]",
      "text/plain": [
       "<Figure size 1440x288 with 2 Axes>"
      ]
     },
     "metadata": {
      "needs_background": "light"
     },
     "output_type": "display_data"
    }
   ],
   "source": [
    "original_ratios = get_ratios(annotations[video_index][\"Bleeding\"])\n",
    "filtered_ratios = get_ratios(Bleeding_thresholded)\n",
    "\n",
    "print(original_ratios)\n",
    "print(calculate_final_score(original_ratios, 1))\n",
    "print(filtered_ratios)\n",
    "print(calculate_final_score(filtered_ratios, 1))\n",
    "\n",
    "fig, axs = plt.subplots(1,2, figsize=(20,4))\n",
    "axs[0].set_title(\"original\")\n",
    "axs[0].set_xlabel(\"seconds\")\n",
    "# axs[0].set_xticks(x_ticks)\n",
    "axs[0].scatter(x_axis, annotations[video_index][\"Bleeding\"])\n",
    "axs[0].grid()\n",
    "\n",
    "axs[1].set_title(\"filtered\")\n",
    "axs[1].set_xlabel(\"seconds\")\n",
    "# axs[1].set_xticks(x_ticks)\n",
    "axs[1].scatter(x_axis, Bleeding_thresholded)\n",
    "axs[1].grid()\n",
    "plt.suptitle(\"Bleeding\")"
   ]
  },
  {
   "cell_type": "code",
   "execution_count": 13,
   "metadata": {},
   "outputs": [
    {
     "name": "stdout",
     "output_type": "stream",
     "text": [
      "{0: 0.14967462039045554, 1: 0.7302964569775849, 2: 0.010845986984815618, 3: 0.10918293564714389}\n",
      "1\n",
      "{0: 0.14533622559652928, 1: 0.7418655097613883, 2: 0.0072306579898770785, 3: 0.10556760665220535}\n",
      "1\n"
     ]
    },
    {
     "data": {
      "text/plain": [
       "Text(0.5, 0.98, 'Erosion')"
      ]
     },
     "execution_count": 13,
     "metadata": {},
     "output_type": "execute_result"
    },
    {
     "data": {
      "image/png": "[encoded data removed]",
      "text/plain": [
       "<Figure size 1440x288 with 2 Axes>"
      ]
     },
     "metadata": {
      "needs_background": "light"
     },
     "output_type": "display_data"
    }
   ],
   "source": [
    "original_ratios = get_ratios(annotations[video_index][\"Erosion\"])\n",
    "filtered_ratios = get_ratios(Erosion_thresholded)\n",
    "\n",
    "print(original_ratios)\n",
    "print(calculate_final_score(original_ratios, 2))\n",
    "print(filtered_ratios)\n",
    "print(calculate_final_score(filtered_ratios, 2))\n",
    "\n",
    "fig, axs = plt.subplots(1,2, figsize=(20,4))\n",
    "axs[0].set_title(\"original\")\n",
    "axs[0].set_xlabel(\"seconds\")\n",
    "# axs[0].set_xticks(x_ticks)\n",
    "axs[0].scatter(x_axis, annotations[video_index][\"Erosion\"])\n",
    "axs[0].grid()\n",
    "\n",
    "axs[1].set_title(\"filtered\")\n",
    "axs[1].set_xlabel(\"seconds\")\n",
    "# axs[1].set_xticks(x_ticks)\n",
    "axs[1].scatter(x_axis, Erosion_thresholded)\n",
    "axs[1].grid()\n",
    "plt.suptitle(\"Erosion\")"
   ]
  }
 ],
 "metadata": {
  "environment": {
   "name": "pytorch-gpu.1-4.m58",
   "type": "gcloud",
   "uri": "gcr.io/deeplearning-platform-release/pytorch-gpu.1-4:m58"
  },
  "kernelspec": {
   "display_name": "Python 3",
   "language": "python",
   "name": "python3"
  },
  "language_info": {
   "codemirror_mode": {
    "name": "ipython",
    "version": 3
   },
   "file_extension": ".py",
   "mimetype": "text/x-python",
   "name": "python",
   "nbconvert_exporter": "python",
   "pygments_lexer": "ipython3",
   "version": "3.7.8"
  }
 },
 "nbformat": 4,
 "nbformat_minor": 4
}
