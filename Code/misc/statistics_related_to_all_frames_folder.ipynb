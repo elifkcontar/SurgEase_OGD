{
 "cells": [
  {
   "cell_type": "code",
   "execution_count": 1,
   "metadata": {},
   "outputs": [],
   "source": [
    "import os\n",
    "import matplotlib.pyplot as plt"
   ]
  },
  {
   "cell_type": "code",
   "execution_count": 2,
   "metadata": {},
   "outputs": [
    {
     "ename": "ValueError",
     "evalue": "invalid literal for int() with base 10: 'i'",
     "output_type": "error",
     "traceback": [
      "\u001b[1;31m---------------------------------------------------------------------------\u001b[0m",
      "\u001b[1;31mValueError\u001b[0m                                Traceback (most recent call last)",
      "\u001b[1;32mc:\\Users\\ElifKübraÇontar\\Desktop\\gi\\Code\\misc\\statistics_related_to_all_frames_folder.ipynb Cell 2'\u001b[0m in \u001b[0;36m<cell line: 3>\u001b[1;34m()\u001b[0m\n\u001b[0;32m      <a href='vscode-notebook-cell:/c%3A/Users/ElifK%C3%BCbra%C3%87ontar/Desktop/gi/Code/misc/statistics_related_to_all_frames_folder.ipynb#ch0000001?line=0'>1</a>\u001b[0m main_folder \u001b[39m=\u001b[39m \u001b[39m\"\u001b[39m\u001b[39m../../IBD/data_all_frames_540x960\u001b[39m\u001b[39m\"\u001b[39m\n\u001b[1;32m----> <a href='vscode-notebook-cell:/c%3A/Users/ElifK%C3%BCbra%C3%87ontar/Desktop/gi/Code/misc/statistics_related_to_all_frames_folder.ipynb#ch0000001?line=2'>3</a>\u001b[0m folders \u001b[39m=\u001b[39m [\u001b[39mint\u001b[39m(folder[\u001b[39m-\u001b[39m\u001b[39m5\u001b[39m]) \u001b[39mfor\u001b[39;00m folder \u001b[39min\u001b[39;00m os\u001b[39m.\u001b[39mlistdir(main_folder) \u001b[39mif\u001b[39;00m \u001b[39mnot\u001b[39;00m folder\u001b[39m.\u001b[39mstartswith(\u001b[39m\"\u001b[39m\u001b[39m.\u001b[39m\u001b[39m\"\u001b[39m)]\n",
      "\u001b[1;32mc:\\Users\\ElifKübraÇontar\\Desktop\\gi\\Code\\misc\\statistics_related_to_all_frames_folder.ipynb Cell 2'\u001b[0m in \u001b[0;36m<listcomp>\u001b[1;34m(.0)\u001b[0m\n\u001b[0;32m      <a href='vscode-notebook-cell:/c%3A/Users/ElifK%C3%BCbra%C3%87ontar/Desktop/gi/Code/misc/statistics_related_to_all_frames_folder.ipynb#ch0000001?line=0'>1</a>\u001b[0m main_folder \u001b[39m=\u001b[39m \u001b[39m\"\u001b[39m\u001b[39m../../IBD/data_all_frames_540x960\u001b[39m\u001b[39m\"\u001b[39m\n\u001b[1;32m----> <a href='vscode-notebook-cell:/c%3A/Users/ElifK%C3%BCbra%C3%87ontar/Desktop/gi/Code/misc/statistics_related_to_all_frames_folder.ipynb#ch0000001?line=2'>3</a>\u001b[0m folders \u001b[39m=\u001b[39m [\u001b[39mint\u001b[39;49m(folder[\u001b[39m-\u001b[39;49m\u001b[39m5\u001b[39;49m]) \u001b[39mfor\u001b[39;00m folder \u001b[39min\u001b[39;00m os\u001b[39m.\u001b[39mlistdir(main_folder) \u001b[39mif\u001b[39;00m \u001b[39mnot\u001b[39;00m folder\u001b[39m.\u001b[39mstartswith(\u001b[39m\"\u001b[39m\u001b[39m.\u001b[39m\u001b[39m\"\u001b[39m)]\n",
      "\u001b[1;31mValueError\u001b[0m: invalid literal for int() with base 10: 'i'"
     ]
    }
   ],
   "source": [
    "main_folder = \"../../IBD/data_all_frames_540x960\"\n",
    "\n",
    "folders = [int(folder[-5]) for folder in os.listdir(main_folder) if not folder.startswith(\".\")]"
   ]
  },
  {
   "cell_type": "code",
   "execution_count": null,
   "metadata": {},
   "outputs": [],
   "source": [
    "unique_items = sorted(list(set(folders)))\n",
    "unique_items"
   ]
  },
  {
   "cell_type": "code",
   "execution_count": 10,
   "metadata": {},
   "outputs": [
    {
     "name": "stdout",
     "output_type": "stream",
     "text": [
      "[11, 12, 6, 6, 27, 19, 5, 3, 1]\n",
      "[0.12222222222222222, 0.13333333333333333, 0.06666666666666667, 0.06666666666666667, 0.3, 0.2111111111111111, 0.05555555555555555, 0.03333333333333333, 0.011111111111111112]\n"
     ]
    },
    {
     "data": {
      "text/plain": [
       "[<matplotlib.lines.Line2D at 0x7f7c0675e910>]"
      ]
     },
     "execution_count": 10,
     "metadata": {},
     "output_type": "execute_result"
    },
    {
     "data": {
      "image/png": "[encoded data removed]",
      "text/plain": [
       "<Figure size 432x288 with 1 Axes>"
      ]
     },
     "metadata": {
      "needs_background": "light"
     },
     "output_type": "display_data"
    }
   ],
   "source": [
    "unique_items = sorted(list(set(folders)))\n",
    "score_ratios = []\n",
    "score_counts = []\n",
    "for item in unique_items:\n",
    "    score_counts.append(folders.count(item))\n",
    "score_ratios = [x/sum(score_counts) for x in score_counts]\n",
    "\n",
    "print(score_counts)\n",
    "print(score_ratios)\n",
    "plt.title(\"Score Ratios\")\n",
    "plt.xlabel(\"UCEIS score\")\n",
    "plt.ylabel(\"% of total videos\")\n",
    "plt.grid(\"on\")\n",
    "plt.plot(score_ratios)"
   ]
  },
  {
   "cell_type": "code",
   "execution_count": null,
   "metadata": {},
   "outputs": [],
   "source": []
  }
 ],
 "metadata": {
  "environment": {
   "name": "pytorch-gpu.1-4.m58",
   "type": "gcloud",
   "uri": "gcr.io/deeplearning-platform-release/pytorch-gpu.1-4:m58"
  },
  "kernelspec": {
   "display_name": "Python 3",
   "language": "python",
   "name": "python3"
  },
  "language_info": {
   "codemirror_mode": {
    "name": "ipython",
    "version": 3
   },
   "file_extension": ".py",
   "mimetype": "text/x-python",
   "name": "python",
   "nbconvert_exporter": "python",
   "pygments_lexer": "ipython3",
   "version": "3.9.12"
  }
 },
 "nbformat": 4,
 "nbformat_minor": 4
}
