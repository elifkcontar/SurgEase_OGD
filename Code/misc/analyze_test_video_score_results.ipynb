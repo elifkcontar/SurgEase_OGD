{
 "cells": [
  {
   "cell_type": "code",
   "execution_count": 1,
   "metadata": {},
   "outputs": [],
   "source": [
    "import matplotlib.pyplot as plt\n",
    "from utils.provider import get_frame_annotation, plot_confusion_matrix_2, get_stratified_UCEIS_accuracies, convert_multiclass_to_binary_class, get_all_level_bucketing_accuracy\n",
    "from sklearn.metrics import confusion_matrix, classification_report, accuracy_score, cohen_kappa_score\n",
    "import numpy as np\n",
    "from scipy.signal import medfilt\n",
    "import math\n",
    "import json\n",
    "from statistics import mean"
   ]
  },
  {
   "cell_type": "code",
   "execution_count": 2,
   "metadata": {},
   "outputs": [],
   "source": [
    "def get_thresholded_values(float_array, threshold=0.25):\n",
    "    threshold_rounded = []\n",
    "    for item in float_array:\n",
    "        if item - int(item) < threshold:\n",
    "            threshold_rounded.append(round(item))\n",
    "        else:\n",
    "            threshold_rounded.append(math.ceil(item))\n",
    "    return threshold_rounded"
   ]
  },
  {
   "cell_type": "code",
   "execution_count": 3,
   "metadata": {},
   "outputs": [],
   "source": [
    "def get_ratios(scores):\n",
    "    size = len(scores)\n",
    "    unique_items = sorted(list(set(scores)))\n",
    "    score_ratios = {}\n",
    "    for item in unique_items:\n",
    "        score_ratios[item] = scores.count(item)/size\n",
    "    return score_ratios"
   ]
  },
  {
   "cell_type": "code",
   "execution_count": 4,
   "metadata": {},
   "outputs": [],
   "source": [
    "def calculate_final_score(score_ratios, video_length, subscore_type=0):\n",
    "    \"\"\"\n",
    "    subscore_type: 0=Vacular Pattern (0-2)\n",
    "                   1=Bleeding (0-3)\n",
    "                   2=Erosion (0-3)\n",
    "    \"\"\"\n",
    "    \n",
    "    if video_length > 100000:\n",
    "        VP_threshold_2 = 200\n",
    "        VP_threshold_2_1 = 200\n",
    "\n",
    "        B_threshold_3 = 200\n",
    "        B_threshold_3_2 = 200\n",
    "        B_threshold_3_2_1 = 200\n",
    "\n",
    "        if subscore_type == 0:\n",
    "            if score_ratios.get(2, 0)*video_length > VP_threshold_2:\n",
    "                return 2\n",
    "            elif (score_ratios.get(2, 0)+score_ratios.get(1, 0))*video_length > VP_threshold_2_1:\n",
    "                return 1\n",
    "            else:\n",
    "                return 0        \n",
    "        elif subscore_type == 1 or subscore_type == 2:\n",
    "            if score_ratios.get(3, 0)*video_length > B_threshold_3:\n",
    "                return 3\n",
    "            elif (score_ratios.get(3, 0)+score_ratios.get(2, 0))*video_length > B_threshold_3_2:\n",
    "                return 2\n",
    "            elif (score_ratios.get(3, 0)+score_ratios.get(2, 0)+score_ratios.get(1, 0))*video_length > B_threshold_3_2_1:\n",
    "                return 1\n",
    "            else:\n",
    "                return 0\n",
    "        else:\n",
    "            raise Exception(\"No subscore_type as \"+str(subscore_type)+\". Valid subscore_types: 0, 1, 2.\")\n",
    "    else:\n",
    "        VP_threshold_2 = 0.25\n",
    "        VP_threshold_2_1 = 0.25\n",
    "\n",
    "        B_threshold_3 = 0.25\n",
    "        B_threshold_3_2 = 0.25\n",
    "        B_threshold_3_2_1 = 0.25\n",
    "\n",
    "        if subscore_type == 0:\n",
    "            if score_ratios.get(2, 0) > VP_threshold_2:\n",
    "                return 2\n",
    "            elif (score_ratios.get(2, 0)+score_ratios.get(1, 0)) > VP_threshold_2_1:\n",
    "                return 1\n",
    "            else:\n",
    "                return 0        \n",
    "        elif subscore_type == 1 or subscore_type == 2:\n",
    "            if score_ratios.get(3, 0) > B_threshold_3:\n",
    "                return 3\n",
    "            elif (score_ratios.get(3, 0)+score_ratios.get(2, 0)) > B_threshold_3_2:\n",
    "                return 2\n",
    "            elif (score_ratios.get(3, 0)+score_ratios.get(2, 0)+score_ratios.get(1, 0)) > B_threshold_3_2_1:\n",
    "                return 1\n",
    "            else:\n",
    "                return 0\n",
    "        else:\n",
    "            raise Exception(\"No subscore_type as \"+str(subscore_type)+\". Valid subscore_types: 0, 1, 2.\")\n",
    "    "
   ]
  },
  {
   "cell_type": "code",
   "execution_count": 5,
   "metadata": {},
   "outputs": [],
   "source": [
    "f = open(\"video_prediction_results.json\")\n",
    "annotations = json.load(f)"
   ]
  },
  {
   "cell_type": "code",
   "execution_count": 6,
   "metadata": {},
   "outputs": [],
   "source": [
    "use_smart_threshold = True\n",
    "smart_threshold = 0.3\n",
    "median_filter_size = 75"
   ]
  },
  {
   "cell_type": "code",
   "execution_count": 7,
   "metadata": {},
   "outputs": [],
   "source": [
    "true_video_scores = []\n",
    "expert_system_video_score = []\n",
    "pred_video_scores = []\n",
    "\n",
    "final_vascular_pattern_scores=[]\n",
    "final_bleeding_scores=[]\n",
    "final_erosion_scores=[]\n",
    "\n",
    "for annotation in annotations:\n",
    "    true_video_scores.append(annotation[\"video_score\"])\n",
    "    \n",
    "    # Classical method\n",
    "    pred_video_scores.append(mean(annotation[\"UCEIS\"]))\n",
    "    \n",
    "    # Expert method\n",
    "    Vascular_Pattern_thresholded = medfilt(annotation[\"Vascular_Pattern\"], median_filter_size)\n",
    "    Bleeding_thresholded = medfilt(annotation[\"Bleeding\"], median_filter_size)\n",
    "    Erosion_thresholded = medfilt(annotation[\"Erosion\"], median_filter_size)\n",
    "\n",
    "    Vascular_Pattern_thresholded = [int(item) for item in Vascular_Pattern_thresholded]\n",
    "    Bleeding_thresholded = [int(item) for item in Bleeding_thresholded]\n",
    "    Erosion_thresholded = [int(item) for item in Erosion_thresholded]\n",
    "    \n",
    "    vp_ratios = get_ratios(Vascular_Pattern_thresholded)\n",
    "    bleeding_ratios = get_ratios(Bleeding_thresholded)\n",
    "    erosion_ratios = get_ratios(Erosion_thresholded)\n",
    "    \n",
    "    expert_system_video_score.append(calculate_final_score(vp_ratios, len(Vascular_Pattern_thresholded), 0)+\n",
    "                                    calculate_final_score(bleeding_ratios, len(Bleeding_thresholded), 1)+\n",
    "                                    calculate_final_score(erosion_ratios, len(Erosion_thresholded), 2))\n",
    "    \n",
    "    "
   ]
  },
  {
   "cell_type": "code",
   "execution_count": 8,
   "metadata": {},
   "outputs": [
    {
     "name": "stdout",
     "output_type": "stream",
     "text": [
      "[0.09259259259259259, 0.12962962962962962, 0.07407407407407407, 0.07407407407407407, 0.3148148148148148, 0.25925925925925924, 0.018518518518518517, 0.018518518518518517, 0.018518518518518517]\n"
     ]
    },
    {
     "data": {
      "text/plain": [
       "[<matplotlib.lines.Line2D at 0x7f0c99c0e110>]"
      ]
     },
     "execution_count": 8,
     "metadata": {},
     "output_type": "execute_result"
    },
    {
     "data": {
      "image/png": "[encoded data removed]",
      "text/plain": [
       "<Figure size 432x288 with 1 Axes>"
      ]
     },
     "metadata": {
      "needs_background": "light"
     },
     "output_type": "display_data"
    }
   ],
   "source": [
    "unique_items = sorted(list(set(true_video_scores)))\n",
    "score_ratios = []\n",
    "for item in unique_items:\n",
    "    score_ratios.append(true_video_scores.count(item))\n",
    "score_ratios = [x/sum(score_ratios) for x in score_ratios]\n",
    "\n",
    "print(score_ratios)\n",
    "plt.title(\"Score Ratios\")\n",
    "plt.xlabel(\"UCEIS score\")\n",
    "plt.ylabel(\"% of total videos\")\n",
    "plt.grid(\"on\")\n",
    "plt.plot(score_ratios)"
   ]
  },
  {
   "cell_type": "code",
   "execution_count": 9,
   "metadata": {},
   "outputs": [],
   "source": [
    "predictions_rounded = [round(x) for x in pred_video_scores]\n",
    "predictions_ceil = [math.ceil(x) for x in pred_video_scores]\n",
    "predictions_thresholded = get_thresholded_values(pred_video_scores, 0.25)"
   ]
  },
  {
   "cell_type": "code",
   "execution_count": 10,
   "metadata": {},
   "outputs": [
    {
     "name": "stdout",
     "output_type": "stream",
     "text": [
      "0.5241730279898219  -  1\n",
      "1.6806853582554517  -  2\n",
      "5.281608149899945  -  6\n",
      "3.439265183704074  -  4\n",
      "4.028453663076719  -  4\n",
      "4.943820224719101  -  5\n",
      "3.1192930780559647  -  3\n",
      "2.2667883211678834  -  3\n",
      "4.644403500690926  -  5\n",
      "4.072522159548751  -  4\n",
      "4.3076923076923075  -  5\n",
      "0  -  0\n",
      "3.3  -  4\n",
      "6.949397590361446  -  7\n",
      "4.962962962962963  -  5\n",
      "1.4836065573770492  -  2\n",
      "4  -  4\n",
      "3.1572147001934234  -  3\n",
      "1.2228356890459364  -  1\n",
      "4.329965649626187  -  5\n",
      "4.732125834127741  -  5\n",
      "4.9411764705882355  -  5\n",
      "4.485714285714286  -  5\n",
      "4.9  -  5\n",
      "4.861861861861862  -  5\n",
      "4.380332610267534  -  5\n",
      "6.01067615658363  -  6\n",
      "3.104651162790698  -  3\n",
      "0.9473684210526315  -  1\n",
      "3.99203187250996  -  4\n",
      "4.495914342068188  -  5\n",
      "3.768692031042968  -  4\n",
      "4.862745098039215  -  5\n",
      "3.453222453222453  -  4\n",
      "4.478747772970221  -  5\n",
      "4.5488372093023255  -  5\n",
      "3.627113945106737  -  4\n",
      "5.289685274523317  -  6\n",
      "5.738255033557047  -  6\n",
      "0.0550098231827112  -  0\n",
      "4.3137455288707205  -  5\n",
      "5.97020725388601  -  6\n",
      "4.011627906976744  -  4\n",
      "3.6316365626710456  -  4\n",
      "3.7509641873278237  -  4\n",
      "0.028846153846153848  -  0\n",
      "3.402929723715928  -  4\n",
      "4.335431235431235  -  5\n",
      "5.1504043126684635  -  5\n",
      "4.984536082474227  -  5\n",
      "4.810332103321033  -  5\n",
      "4.78232477144101  -  5\n",
      "4.604618937644342  -  5\n",
      "0  -  0\n"
     ]
    }
   ],
   "source": [
    "for original, thresholded in zip(pred_video_scores, predictions_thresholded):\n",
    "    print(original,\" - \", thresholded)"
   ]
  },
  {
   "cell_type": "code",
   "execution_count": 11,
   "metadata": {},
   "outputs": [
    {
     "name": "stdout",
     "output_type": "stream",
     "text": [
      "UCEIS Accuracy (rounded):  0.4074074074074074\n",
      "Confusion matrix, without normalization\n",
      "[[3 1 0 0 0 1 0 0 0]\n",
      " [1 3 2 0 1 0 0 0 0]\n",
      " [0 0 0 3 1 0 0 0 0]\n",
      " [0 0 0 1 3 0 0 0 0]\n",
      " [0 0 0 2 8 5 2 0 0]\n",
      " [0 0 0 1 4 7 1 1 0]\n",
      " [0 0 0 0 0 1 0 0 0]\n",
      " [0 0 0 0 0 1 0 0 0]\n",
      " [0 0 0 0 0 1 0 0 0]]\n"
     ]
    },
    {
     "data": {
      "image/png": "[encoded data removed]",
      "text/plain": [
       "<Figure size 432x288 with 2 Axes>"
      ]
     },
     "metadata": {
      "needs_background": "light"
     },
     "output_type": "display_data"
    },
    {
     "name": "stdout",
     "output_type": "stream",
     "text": [
      "UCEIS Accuracy (ceil):  0.37037037037037035\n",
      "Confusion matrix, without normalization\n",
      "[[2 1 1 0 0 1 0 0 0]\n",
      " [0 3 2 1 1 0 0 0 0]\n",
      " [0 0 0 0 4 0 0 0 0]\n",
      " [0 0 0 0 1 3 0 0 0]\n",
      " [0 0 0 0 5 9 2 1 0]\n",
      " [0 0 0 0 2 9 2 1 0]\n",
      " [0 0 0 0 0 0 1 0 0]\n",
      " [0 0 0 0 0 1 0 0 0]\n",
      " [0 0 0 0 0 1 0 0 0]]\n"
     ]
    },
    {
     "data": {
      "image/png": "[encoded data removed]",
      "text/plain": [
       "<Figure size 432x288 with 2 Axes>"
      ]
     },
     "metadata": {
      "needs_background": "light"
     },
     "output_type": "display_data"
    },
    {
     "name": "stdout",
     "output_type": "stream",
     "text": [
      "UCEIS Accuracy (thresholded):  0.37037037037037035\n",
      "Confusion matrix, without normalization\n",
      "[[3 1 0 0 0 1 0 0 0]\n",
      " [1 2 2 1 1 0 0 0 0]\n",
      " [0 0 0 2 2 0 0 0 0]\n",
      " [0 0 0 0 2 2 0 0 0]\n",
      " [0 0 0 1 6 7 3 0 0]\n",
      " [0 0 0 0 2 9 2 1 0]\n",
      " [0 0 0 0 0 1 0 0 0]\n",
      " [0 0 0 0 0 1 0 0 0]\n",
      " [0 0 0 0 0 1 0 0 0]]\n"
     ]
    },
    {
     "data": {
      "image/png": "[encoded data removed]",
      "text/plain": [
       "<Figure size 432x288 with 2 Axes>"
      ]
     },
     "metadata": {
      "needs_background": "light"
     },
     "output_type": "display_data"
    },
    {
     "name": "stdout",
     "output_type": "stream",
     "text": [
      "UCEIS Accuracy (expert):  0.35185185185185186\n",
      "Confusion matrix, without normalization\n",
      "[[3 0 1 0 1 0 0 0 0]\n",
      " [1 3 0 2 1 0 0 0 0]\n",
      " [0 0 0 0 4 0 0 0 0]\n",
      " [0 0 0 0 3 1 0 0 0]\n",
      " [0 0 0 2 4 9 0 2 0]\n",
      " [0 0 0 0 3 9 0 2 0]\n",
      " [0 0 0 0 0 1 0 0 0]\n",
      " [0 0 0 0 0 1 0 0 0]\n",
      " [0 0 0 0 0 0 1 0 0]]\n"
     ]
    },
    {
     "data": {
      "image/png": "[encoded data removed]",
      "text/plain": [
       "<Figure size 432x288 with 2 Axes>"
      ]
     },
     "metadata": {
      "needs_background": "light"
     },
     "output_type": "display_data"
    }
   ],
   "source": [
    "cm_UCEIS = confusion_matrix(true_video_scores, predictions_rounded, labels=[0, 1, 2, 3, 4, 5, 6, 7, 8])\n",
    "accuracy_UCEIS = accuracy_score(true_video_scores, predictions_rounded)\n",
    "\n",
    "print(\"UCEIS Accuracy (rounded): \", accuracy_UCEIS)\n",
    "plot_confusion_matrix_2(cm_UCEIS, classes=[\"0\", \"1\", \"2\", \"3\", \"4\", \"5\", \"6\", \"7\", \"8\"], title=\"UCEIS rounded (Video)\")\n",
    "plt.show()\n",
    "\n",
    "cm_UCEIS_ceil = confusion_matrix(true_video_scores, predictions_ceil, labels=[0, 1, 2, 3, 4, 5, 6, 7, 8])\n",
    "accuracy_UCEIS_ceil = accuracy_score(true_video_scores, predictions_ceil)\n",
    "\n",
    "print(\"UCEIS Accuracy (ceil): \", accuracy_UCEIS_ceil)\n",
    "plot_confusion_matrix_2(cm_UCEIS_ceil, classes=[\"0\", \"1\", \"2\", \"3\", \"4\", \"5\", \"6\", \"7\", \"8\"], title=\"UCEIS ceil (Video)\")\n",
    "plt.show()\n",
    "\n",
    "cm_UCEIS_thresholded = confusion_matrix(true_video_scores, predictions_thresholded, labels=[0, 1, 2, 3, 4, 5, 6, 7, 8])\n",
    "accuracy_UCEIS_thresholded = accuracy_score(true_video_scores, predictions_thresholded)\n",
    "\n",
    "print(\"UCEIS Accuracy (thresholded): \", accuracy_UCEIS_thresholded)\n",
    "plot_confusion_matrix_2(cm_UCEIS_thresholded, classes=[\"0\", \"1\", \"2\", \"3\", \"4\", \"5\", \"6\", \"7\", \"8\"], title=\"UCEIS thresholded (Video)\")\n",
    "plt.show()\n",
    "\n",
    "cm_UCEIS_expert = confusion_matrix(true_video_scores, expert_system_video_score, labels=[0, 1, 2, 3, 4, 5, 6, 7, 8])\n",
    "accuracy_UCEIS_expert = accuracy_score(true_video_scores, expert_system_video_score)\n",
    "\n",
    "print(\"UCEIS Accuracy (expert): \", accuracy_UCEIS_expert)\n",
    "plot_confusion_matrix_2(cm_UCEIS_expert, classes=[\"0\", \"1\", \"2\", \"3\", \"4\", \"5\", \"6\", \"7\", \"8\"], title=\"UCEIS expert (Video)\")\n",
    "plt.show()"
   ]
  },
  {
   "cell_type": "markdown",
   "metadata": {},
   "source": [
    "**Set predictions for the rest of the scores**"
   ]
  },
  {
   "cell_type": "code",
   "execution_count": 12,
   "metadata": {},
   "outputs": [],
   "source": [
    "predictions = expert_system_video_score\n",
    "# predictions = predictions_thresholded"
   ]
  },
  {
   "cell_type": "markdown",
   "metadata": {},
   "source": [
    "**Video level quadratic weighted kappa score**"
   ]
  },
  {
   "cell_type": "code",
   "execution_count": 13,
   "metadata": {},
   "outputs": [
    {
     "name": "stdout",
     "output_type": "stream",
     "text": [
      "Quadratic Kappa Score (9-classes):  0.7030593881223755\n"
     ]
    }
   ],
   "source": [
    "quadratic_kappa_score = cohen_kappa_score(true_video_scores, predictions, weights=\"quadratic\")\n",
    "print(\"Quadratic Kappa Score (9-classes): \", quadratic_kappa_score)"
   ]
  },
  {
   "cell_type": "markdown",
   "metadata": {},
   "source": [
    "**Video level remission results**"
   ]
  },
  {
   "cell_type": "code",
   "execution_count": 14,
   "metadata": {},
   "outputs": [
    {
     "name": "stdout",
     "output_type": "stream",
     "text": [
      "UCEIS Accuracy (0 vs 1-8):  0.9444444444444444\n",
      "Confusion matrix, without normalization\n",
      "[[ 3  2]\n",
      " [ 1 48]]\n"
     ]
    },
    {
     "data": {
      "image/png": "[encoded data removed]",
      "text/plain": [
       "<Figure size 432x288 with 2 Axes>"
      ]
     },
     "metadata": {
      "needs_background": "light"
     },
     "output_type": "display_data"
    }
   ],
   "source": [
    "y_true_remission = convert_multiclass_to_binary_class(true_video_scores)\n",
    "y_pred_remission = convert_multiclass_to_binary_class(predictions)\n",
    "\n",
    "cm_UCEIS_remission = confusion_matrix(y_true_remission, y_pred_remission, labels=[0, 1])\n",
    "accuracy_UCEIS_remission = accuracy_score(y_true_remission, y_pred_remission)\n",
    "\n",
    "print(\"UCEIS Accuracy (0 vs 1-8): \", accuracy_UCEIS_remission)\n",
    "plot_confusion_matrix_2(cm_UCEIS_remission, classes=[\"0\", \"1-8\"], title=\"UCEIS Remission\")\n",
    "plt.show()"
   ]
  },
  {
   "cell_type": "markdown",
   "metadata": {},
   "source": [
    "**Video level remission kappa score**"
   ]
  },
  {
   "cell_type": "code",
   "execution_count": 15,
   "metadata": {},
   "outputs": [
    {
     "name": "stdout",
     "output_type": "stream",
     "text": [
      "Remission Kappa Score:  0.6367713004484306\n"
     ]
    }
   ],
   "source": [
    "kappa_score = cohen_kappa_score(y_true_remission, y_pred_remission)\n",
    "print(\"Remission Kappa Score: \", kappa_score)"
   ]
  },
  {
   "cell_type": "markdown",
   "metadata": {},
   "source": [
    "**Video level \"Qualification\" results**"
   ]
  },
  {
   "cell_type": "code",
   "execution_count": 16,
   "metadata": {},
   "outputs": [
    {
     "name": "stdout",
     "output_type": "stream",
     "text": [
      "UCEIS Qualification (0-4 vs 5-8):  0.7222222222222222\n",
      "Confusion matrix, without normalization\n",
      "[[25 12]\n",
      " [ 3 14]]\n"
     ]
    },
    {
     "data": {
      "image/png": "[encoded data removed]",
      "text/plain": [
       "<Figure size 432x288 with 2 Axes>"
      ]
     },
     "metadata": {
      "needs_background": "light"
     },
     "output_type": "display_data"
    }
   ],
   "source": [
    "y_true_remission = convert_multiclass_to_binary_class(true_video_scores, zero_classes=[0, 1, 2, 3, 4])\n",
    "y_pred_remission = convert_multiclass_to_binary_class(predictions, zero_classes=[0, 1, 2, 3, 4])\n",
    "\n",
    "cm_UCEIS_remission = confusion_matrix(y_true_remission, y_pred_remission, labels=[0, 1])\n",
    "accuracy_UCEIS_remission = accuracy_score(y_true_remission, y_pred_remission)\n",
    "\n",
    "print(\"UCEIS Qualification (0-4 vs 5-8): \", accuracy_UCEIS_remission)\n",
    "plot_confusion_matrix_2(cm_UCEIS_remission, classes=[\"0-4\", \"5-8\"], title=\"UCEIS (Video)\")\n",
    "plt.show()"
   ]
  },
  {
   "cell_type": "code",
   "execution_count": null,
   "metadata": {},
   "outputs": [],
   "source": []
  }
 ],
 "metadata": {
  "environment": {
   "name": "pytorch-gpu.1-4.m58",
   "type": "gcloud",
   "uri": "gcr.io/deeplearning-platform-release/pytorch-gpu.1-4:m58"
  },
  "kernelspec": {
   "display_name": "Python 3",
   "language": "python",
   "name": "python3"
  },
  "language_info": {
   "codemirror_mode": {
    "name": "ipython",
    "version": 3
   },
   "file_extension": ".py",
   "mimetype": "text/x-python",
   "name": "python",
   "nbconvert_exporter": "python",
   "pygments_lexer": "ipython3",
   "version": "3.7.8"
  }
 },
 "nbformat": 4,
 "nbformat_minor": 4
}
