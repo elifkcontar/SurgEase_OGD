{
 "cells": [
  {
   "cell_type": "code",
   "execution_count": 1,
   "metadata": {
    "colab": {
     "base_uri": "https://localhost:8080/"
    },
    "executionInfo": {
     "elapsed": 2840,
     "status": "ok",
     "timestamp": 1604573629514,
     "user": {
      "displayName": "Cord GI",
      "photoUrl": "",
      "userId": "09693271126463500250"
     },
     "user_tz": -180
    },
    "id": "7QNmzTqTPsKJ",
    "outputId": "5e320c36-8698-4fd5-a6b9-87b9ff43badc"
   },
   "outputs": [
    {
     "ename": "ModuleNotFoundError",
     "evalue": "No module named 'google.colab'",
     "output_type": "error",
     "traceback": [
      "\u001b[0;31m---------------------------------------------------------------------------\u001b[0m",
      "\u001b[0;31mModuleNotFoundError\u001b[0m                       Traceback (most recent call last)",
      "\u001b[0;32m<ipython-input-1-46b63aa8e6cf>\u001b[0m in \u001b[0;36m<module>\u001b[0;34m\u001b[0m\n\u001b[0;32m----> 1\u001b[0;31m \u001b[0;32mfrom\u001b[0m \u001b[0mgoogle\u001b[0m\u001b[0;34m.\u001b[0m\u001b[0mcolab\u001b[0m \u001b[0;32mimport\u001b[0m \u001b[0mdrive\u001b[0m\u001b[0;34m\u001b[0m\u001b[0;34m\u001b[0m\u001b[0m\n\u001b[0m\u001b[1;32m      2\u001b[0m \u001b[0mdrive\u001b[0m\u001b[0;34m.\u001b[0m\u001b[0mmount\u001b[0m\u001b[0;34m(\u001b[0m\u001b[0;34m'/content/drive/'\u001b[0m\u001b[0;34m,\u001b[0m \u001b[0mforce_remount\u001b[0m\u001b[0;34m=\u001b[0m\u001b[0;32mTrue\u001b[0m\u001b[0;34m)\u001b[0m\u001b[0;34m\u001b[0m\u001b[0;34m\u001b[0m\u001b[0m\n",
      "\u001b[0;31mModuleNotFoundError\u001b[0m: No module named 'google.colab'"
     ]
    }
   ],
   "source": [
    "from google.colab import drive\n",
    "drive.mount('/content/drive/', force_remount=True)"
   ]
  },
  {
   "cell_type": "markdown",
   "metadata": {
    "id": "HIlm5hYGUSOS"
   },
   "source": [
    "**Create folders and unzip**"
   ]
  },
  {
   "cell_type": "code",
   "execution_count": null,
   "metadata": {
    "colab": {
     "base_uri": "https://localhost:8080/",
     "height": 212
    },
    "executionInfo": {
     "elapsed": 1841,
     "status": "error",
     "timestamp": 1604574724302,
     "user": {
      "displayName": "Cord GI",
      "photoUrl": "",
      "userId": "09693271126463500250"
     },
     "user_tz": -180
    },
    "id": "DWJ0C5myP-e-",
    "outputId": "e0753db2-171a-4dba-afdb-3736743c3462"
   },
   "outputs": [],
   "source": [
    "import os\n",
    "import cv2\n",
    "import json\n",
    "import numpy as np\n",
    "from tqdm import tqdm\n",
    "\n",
    "main_folder = \"/content/drive/My Drive/IBD/\"\n",
    "unzipped_data_folder =  os.path.join(main_folder, \"data_03112020_unzipped\")\n",
    "original_files_folder = os.path.join(main_folder, \"data_all\")\n",
    "\n",
    "os.mkdir(unzipped_data_folder)\n",
    "os.mkdir(original_files_folder)"
   ]
  },
  {
   "cell_type": "code",
   "execution_count": null,
   "metadata": {
    "id": "s84u3_cGP0dP"
   },
   "outputs": [],
   "source": [
    "! unzip /content/drive/My\\ Drive/IBD/data_03112020/*  -d /content/drive/My\\ Drive/IBD/data_03112020_unzipped"
   ]
  },
  {
   "cell_type": "markdown",
   "metadata": {
    "id": "PggBzqqzfpFO"
   },
   "source": [
    "**Process single folder**"
   ]
  },
  {
   "cell_type": "code",
   "execution_count": null,
   "metadata": {
    "id": "xiMe8H6hVdED"
   },
   "outputs": [],
   "source": [
    "sample_video='UC10-0.mp4'\n",
    "\n",
    "filename=os.path.join(unzipped_data_folder, sample_video, 'objects.json') \n",
    "with open(filename) as f:\n",
    "    object_anns = json.load(f)\n",
    "\n",
    "filename=os.path.join(unzipped_data_folder, sample_video, 'classifications.json')\n",
    "with open(filename) as f:\n",
    "    class_anns = json.load(f)\n",
    "\n",
    "obj_frame_labels=object_anns['frame_labels']\n",
    "class_frame_labels=class_anns['frame_labels']\n",
    "\n",
    "video_link=object_anns['data_link']\n",
    "\n",
    "os.mkdir(os.path.join(original_files_folder, sample_video))\n",
    "os.mkdir(os.path.join(original_files_folder, sample_video, \"frames\"))\n",
    "os.mkdir(os.path.join(original_files_folder, sample_video, \"video\"))\n",
    "\n",
    "cap = cv2.VideoCapture(video_link)\n",
    "\n",
    "frame_width = int(cap.get(3)) \n",
    "frame_height = int(cap.get(4))\n",
    "size = (frame_width, frame_height)\n",
    "fps = int(cap.get(5))\n",
    "\n",
    "video_file = cv2.VideoWriter(os.path.join(original_files_folder, sample_video, \"video\", \"video.mp4\"),cv2.VideoWriter_fourcc(*'MJPG'), fps, size)\n",
    "\n",
    "frame_count = 0\n",
    "while(cap.isOpened()):\n",
    "    ret, frame = cap.read()\n",
    "    if(not ret):\n",
    "        break    \n",
    "         \n",
    "    video_file.write(frame)   \n",
    "    frame = cv2.resize(frame, None, fx=0.25, fy=0.25, interpolation = cv2.INTER_AREA)\n",
    "    cv2.imwrite(os.path.join(original_files_folder, sample_video, \"frames\", str(frame_count)+\".bmp\"), frame)\n",
    "    frame_count += 1\n",
    "\n",
    "cap.release()\n",
    "video_file.release()"
   ]
  },
  {
   "cell_type": "markdown",
   "metadata": {
    "id": "ZDTn-wUGfk12"
   },
   "source": [
    "**Process all folders**"
   ]
  },
  {
   "cell_type": "code",
   "execution_count": null,
   "metadata": {
    "colab": {
     "base_uri": "https://localhost:8080/"
    },
    "executionInfo": {
     "elapsed": 863718,
     "status": "ok",
     "timestamp": 1604579245053,
     "user": {
      "displayName": "Cord GI",
      "photoUrl": "",
      "userId": "09693271126463500250"
     },
     "user_tz": -180
    },
    "id": "Z_nYxPtuvLRj",
    "outputId": "18e99fc0-f1c2-4280-b6cc-d4d6d1de42b1"
   },
   "outputs": [],
   "source": [
    "folder_names = os.listdir(unzipped_data_folder)\n",
    "\n",
    "for folder in tqdm(folder_names):\n",
    "    filename=os.path.join(unzipped_data_folder, folder, 'objects.json') \n",
    "    with open(filename) as f:\n",
    "        object_anns = json.load(f)\n",
    "    \n",
    "    video_link=object_anns['data_link']\n",
    "\n",
    "    os.mkdir(os.path.join(original_files_folder, folder))\n",
    "    os.mkdir(os.path.join(original_files_folder, folder, \"frames\"))\n",
    "    os.mkdir(os.path.join(original_files_folder, folder, \"video\"))\n",
    "\n",
    "    cap = cv2.VideoCapture(video_link)\n",
    "\n",
    "    frame_width = int(cap.get(3)) \n",
    "    frame_height = int(cap.get(4))\n",
    "    size = (frame_width, frame_height)\n",
    "    fps = int(cap.get(5))\n",
    "\n",
    "    video_file = cv2.VideoWriter(os.path.join(original_files_folder, folder, \"video\", \"video.mp4\"),cv2.VideoWriter_fourcc(*'MJPG'), fps, size)\n",
    "\n",
    "    frame_count = 0\n",
    "    while(cap.isOpened()):\n",
    "        ret, frame = cap.read()\n",
    "        if(not ret):\n",
    "            break     \n",
    "            \n",
    "        video_file.write(frame)   \n",
    "        frame = cv2.resize(frame, None, fx=0.25, fy=0.25, interpolation = cv2.INTER_AREA)\n",
    "        cv2.imwrite(os.path.join(original_files_folder, folder, \"frames\", str(frame_count)+\".bmp\"), frame)\n",
    "        frame_count += 1\n",
    "\n",
    "    cap.release()\n",
    "    video_file.release()\n"
   ]
  },
  {
   "cell_type": "markdown",
   "metadata": {
    "id": "kM2QhQAhCrIX"
   },
   "source": [
    "**Remove leaked files**\n"
   ]
  },
  {
   "cell_type": "code",
   "execution_count": null,
   "metadata": {
    "colab": {
     "base_uri": "https://localhost:8080/"
    },
    "executionInfo": {
     "elapsed": 67751,
     "status": "ok",
     "timestamp": 1604574151897,
     "user": {
      "displayName": "Cord GI",
      "photoUrl": "",
      "userId": "09693271126463500250"
     },
     "user_tz": -180
    },
    "id": "gicVoBD2Cqb2",
    "outputId": "66e950b2-27c9-48ab-b4de-bd57f48560bd"
   },
   "outputs": [],
   "source": [
    "from google.colab import drive\n",
    "drive.mount('/content/drive/', force_remount=True)"
   ]
  },
  {
   "cell_type": "code",
   "execution_count": null,
   "metadata": {
    "id": "Amc2ZQSJ82jh"
   },
   "outputs": [],
   "source": [
    "import shutil\n",
    "import os\n",
    "for item in os.scandir(\"/content/drive/My Drive\"):\n",
    "    if item.is_file():\n",
    "        if item.name.endswith(\".bmp\") or item.name.endswith(\".mp4\"):\n",
    "            print(item.path)\n",
    "            os.remove(item.path)\n",
    "    elif item.is_dir():\n",
    "        if item.name.startswith(\"frame\") or item.name.startswith(\"video\"):\n",
    "            print(item.path)\n",
    "            shutil.rmtree(item.path)      "
   ]
  }
 ],
 "metadata": {
  "accelerator": "GPU",
  "colab": {
   "authorship_tag": "ABX9TyPlppcs+Q6JJkebTVt7loDu",
   "collapsed_sections": [],
   "mount_file_id": "1bSgiirbw0FElL-LQ9HCNkQqZ326a86Sf",
   "name": "UCEIS_Score_edited.ipynb",
   "provenance": []
  },
  "environment": {
   "name": "pytorch-gpu.1-4.m58",
   "type": "gcloud",
   "uri": "gcr.io/deeplearning-platform-release/pytorch-gpu.1-4:m58"
  },
  "kernelspec": {
   "display_name": "Python 3",
   "language": "python",
   "name": "python3"
  },
  "language_info": {
   "codemirror_mode": {
    "name": "ipython",
    "version": 3
   },
   "file_extension": ".py",
   "mimetype": "text/x-python",
   "name": "python",
   "nbconvert_exporter": "python",
   "pygments_lexer": "ipython3",
   "version": "3.7.8"
  }
 },
 "nbformat": 4,
 "nbformat_minor": 4
}
