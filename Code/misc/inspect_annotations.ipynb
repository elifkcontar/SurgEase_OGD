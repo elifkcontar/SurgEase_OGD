{
 "cells": [
  {
   "cell_type": "code",
   "execution_count": 2,
   "metadata": {
    "id": "urcULOLeU25f"
   },
   "outputs": [],
   "source": [
    "import os\n",
    "import json\n",
    "\n",
    "main_folder = \"../../IBD/\"\n",
    "unzipped_data_folder =  os.path.join(main_folder, \"annotations_classified\")"
   ]
  },
  {
   "cell_type": "code",
   "execution_count": 13,
   "metadata": {
    "colab": {
     "base_uri": "https://localhost:8080/"
    },
    "executionInfo": {
     "elapsed": 723,
     "status": "ok",
     "timestamp": 1604669480622,
     "user": {
      "displayName": "Cord GI",
      "photoUrl": "",
      "userId": "09693271126463500250"
     },
     "user_tz": -180
    },
    "id": "1YAJFHWtVIf4",
    "outputId": "a62ff546-5ec8-4293-b43b-37646d7e570f"
   },
   "outputs": [
    {
     "ename": "KeyError",
     "evalue": "'300'",
     "output_type": "error",
     "traceback": [
      "\u001b[0;31m---------------------------------------------------------------------------\u001b[0m",
      "\u001b[0;31mKeyError\u001b[0m                                  Traceback (most recent call last)",
      "\u001b[0;32m<ipython-input-13-c8fd7d3bf1f6>\u001b[0m in \u001b[0;36m<module>\u001b[0;34m\u001b[0m\n\u001b[1;32m     10\u001b[0m     \u001b[0mobject_anns\u001b[0m \u001b[0;34m=\u001b[0m \u001b[0mjson\u001b[0m\u001b[0;34m.\u001b[0m\u001b[0mload\u001b[0m\u001b[0;34m(\u001b[0m\u001b[0mf\u001b[0m\u001b[0;34m)\u001b[0m\u001b[0;34m\u001b[0m\u001b[0;34m\u001b[0m\u001b[0m\n\u001b[1;32m     11\u001b[0m \u001b[0;34m\u001b[0m\u001b[0m\n\u001b[0;32m---> 12\u001b[0;31m \u001b[0mclasses\u001b[0m \u001b[0;34m=\u001b[0m \u001b[0mclass_anns\u001b[0m\u001b[0;34m[\u001b[0m\u001b[0;34m\"frame_labels\"\u001b[0m\u001b[0;34m]\u001b[0m\u001b[0;34m[\u001b[0m\u001b[0mstr\u001b[0m\u001b[0;34m(\u001b[0m\u001b[0mframe_id\u001b[0m\u001b[0;34m)\u001b[0m\u001b[0;34m]\u001b[0m\u001b[0;34m\u001b[0m\u001b[0;34m\u001b[0m\u001b[0m\n\u001b[0m\u001b[1;32m     13\u001b[0m \u001b[0;32mfor\u001b[0m \u001b[0mclass_name\u001b[0m \u001b[0;32min\u001b[0m \u001b[0mclasses\u001b[0m\u001b[0;34m:\u001b[0m\u001b[0;34m\u001b[0m\u001b[0;34m\u001b[0m\u001b[0m\n\u001b[1;32m     14\u001b[0m     \u001b[0mprint\u001b[0m\u001b[0;34m(\u001b[0m\u001b[0mclass_name\u001b[0m\u001b[0;34m[\u001b[0m\u001b[0;36m0\u001b[0m\u001b[0;34m]\u001b[0m\u001b[0;34m[\u001b[0m\u001b[0;34m\"value\"\u001b[0m\u001b[0;34m]\u001b[0m \u001b[0;34m+\u001b[0m\u001b[0;34m\" | \"\u001b[0m\u001b[0;34m+\u001b[0m\u001b[0mclass_name\u001b[0m\u001b[0;34m[\u001b[0m\u001b[0;36m0\u001b[0m\u001b[0;34m]\u001b[0m\u001b[0;34m[\u001b[0m\u001b[0;34m\"featureHash\"\u001b[0m\u001b[0;34m]\u001b[0m \u001b[0;34m+\u001b[0m \u001b[0;34m\" -> \"\u001b[0m \u001b[0;34m+\u001b[0m\u001b[0mclass_name\u001b[0m\u001b[0;34m[\u001b[0m\u001b[0;36m0\u001b[0m\u001b[0;34m]\u001b[0m\u001b[0;34m[\u001b[0m\u001b[0;34m\"answers\"\u001b[0m\u001b[0;34m]\u001b[0m\u001b[0;34m[\u001b[0m\u001b[0;36m0\u001b[0m\u001b[0;34m]\u001b[0m\u001b[0;34m[\u001b[0m\u001b[0;34m\"value\"\u001b[0m\u001b[0;34m]\u001b[0m\u001b[0;34m)\u001b[0m\u001b[0;34m\u001b[0m\u001b[0;34m\u001b[0m\u001b[0m\n",
      "\u001b[0;31mKeyError\u001b[0m: '300'"
     ]
    }
   ],
   "source": [
    "sample_video='UC33-6.mp4'\n",
    "frame_id = 300\n",
    "\n",
    "filename=os.path.join(unzipped_data_folder, sample_video, 'classifications.json')\n",
    "with open(filename) as f:\n",
    "    class_anns = json.load(f)\n",
    "\n",
    "filename=os.path.join(unzipped_data_folder, sample_video, 'objects.json')\n",
    "with open(filename) as f:\n",
    "    object_anns = json.load(f)\n",
    "\n",
    "classes = class_anns[\"frame_labels\"][str(frame_id)]\n",
    "for class_name in classes:\n",
    "    print(class_name[0][\"value\"] +\" | \"+class_name[0][\"featureHash\"] + \" -> \" +class_name[0][\"answers\"][0][\"value\"])\n",
    "\n",
    "print(\"----------------------------------\")\n",
    "objects = object_anns[\"frame_labels\"][str(frame_id)]\n",
    "for object_name in objects:\n",
    "    if len(object_name[\"classifications\"]) > 0:\n",
    "        print(object_name[\"value\"] +\" -> \"+ object_name[\"classifications\"][0][\"answers\"][0][\"value\"])"
   ]
  },
  {
   "cell_type": "code",
   "execution_count": null,
   "metadata": {
    "id": "9oQf7KTYvOiT"
   },
   "outputs": [],
   "source": []
  }
 ],
 "metadata": {
  "colab": {
   "authorship_tag": "ABX9TyNRyaSrSrsEkP0UIMYqCeTU",
   "collapsed_sections": [],
   "mount_file_id": "1NoxxOqCx7-SVQMkOBCKhfkAkAHgesDHy",
   "name": "inspect_annotations.ipynb",
   "provenance": []
  },
  "environment": {
   "name": "common-cu110.m73",
   "type": "gcloud",
   "uri": "gcr.io/deeplearning-platform-release/base-cu110:m73"
  },
  "kernelspec": {
   "display_name": "Python 3",
   "language": "python",
   "name": "python3"
  },
  "language_info": {
   "codemirror_mode": {
    "name": "ipython",
    "version": 3
   },
   "file_extension": ".py",
   "mimetype": "text/x-python",
   "name": "python",
   "nbconvert_exporter": "python",
   "pygments_lexer": "ipython3",
   "version": "3.7.10"
  }
 },
 "nbformat": 4,
 "nbformat_minor": 4
}
