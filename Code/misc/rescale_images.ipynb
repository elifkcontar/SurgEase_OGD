{
 "cells": [
  {
   "cell_type": "code",
   "execution_count": 1,
   "metadata": {},
   "outputs": [],
   "source": [
    "import os\n",
    "import shutil\n",
    "from tqdm import tqdm\n",
    "from torchvision import transforms\n",
    "from PIL import Image"
   ]
  },
  {
   "cell_type": "code",
   "execution_count": 2,
   "metadata": {},
   "outputs": [],
   "source": [
    "original_folder_path = \"../../IBD/data_classified\"\n",
    "target_folder_path = \"../../IBD/data_classified_scaled_540x960\"\n",
    "\n",
    "if os.path.isdir(target_folder_path):\n",
    "    shutil.rmtree(target_folder_path)\n",
    "os.mkdir(target_folder_path)"
   ]
  },
  {
   "cell_type": "code",
   "execution_count": 3,
   "metadata": {},
   "outputs": [],
   "source": [
    "resize_f = transforms.Resize((540,960))"
   ]
  },
  {
   "cell_type": "code",
   "execution_count": 4,
   "metadata": {},
   "outputs": [
    {
     "name": "stderr",
     "output_type": "stream",
     "text": [
      "36it [10:45, 17.94s/it]\n"
     ]
    }
   ],
   "source": [
    "for item in tqdm(os.scandir(original_folder_path)):\n",
    "    if item.is_dir() and (not item.name.startswith(\".\")):\n",
    "        os.mkdir(os.path.join(target_folder_path, item.name))\n",
    "        for sub_item in os.scandir(os.path.join(item.path, \"frames\")):\n",
    "            if sub_item.name.endswith(\".jpg\"):\n",
    "                image = Image.open(sub_item.path)\n",
    "                image_resized = resize_f(image)\n",
    "                image_resized.save(os.path.join(target_folder_path, item.name, sub_item.name))\n",
    "\n"
   ]
  }
 ],
 "metadata": {
  "environment": {
   "name": "pytorch-gpu.1-4.m58",
   "type": "gcloud",
   "uri": "gcr.io/deeplearning-platform-release/pytorch-gpu.1-4:m58"
  },
  "kernelspec": {
   "display_name": "Python 3",
   "language": "python",
   "name": "python3"
  },
  "language_info": {
   "codemirror_mode": {
    "name": "ipython",
    "version": 3
   },
   "file_extension": ".py",
   "mimetype": "text/x-python",
   "name": "python",
   "nbconvert_exporter": "python",
   "pygments_lexer": "ipython3",
   "version": "3.7.8"
  }
 },
 "nbformat": 4,
 "nbformat_minor": 4
}
